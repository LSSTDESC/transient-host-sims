{
 "cells": [
  {
   "cell_type": "code",
   "execution_count": 1,
   "id": "bcc6535d-7060-4111-85fc-74f78a204ade",
   "metadata": {},
   "outputs": [],
   "source": [
    "#check distributions for the different functions\n",
    "import matplotlib.pyplot as plt \n",
    "import numpy as np \n",
    "import seaborn as sns\n",
    "import pandas as pd "
   ]
  },
  {
   "cell_type": "code",
   "execution_count": null,
   "id": "50cfaa4f-18dc-48c3-8f14-f71221628d16",
   "metadata": {},
   "outputs": [],
   "source": [
    "ghost = pd.read_csv(\"\")"
   ]
  },
  {
   "cell_type": "code",
   "execution_count": 14,
   "id": "1a88eea9-fdf2-498d-b658-fcc477416470",
   "metadata": {},
   "outputs": [],
   "source": [
    "old_Ia = pd.read_csv(\"/global/cscratch1/sd/agaglian/matchedDC2_SNIa_381.tar.gz\")"
   ]
  },
  {
   "cell_type": "code",
   "execution_count": 15,
   "id": "36d2ac05-f402-4cad-8792-e9ef336f6022",
   "metadata": {},
   "outputs": [
    {
     "data": {
      "text/plain": [
       "(array([1.64890e+04, 2.88638e+05, 6.78865e+05, 6.16472e+05, 3.31510e+05,\n",
       "        1.20642e+05, 3.89900e+04, 2.01150e+04, 5.97000e+03, 2.97000e+02]),\n",
       " array([ 4.9539156 ,  5.63772918,  6.32154275,  7.00535632,  7.6891699 ,\n",
       "         8.37298347,  9.05679704,  9.74061062, 10.42442419, 11.10823776,\n",
       "        11.79205134]),\n",
       " <BarContainer object of 10 artists>)"
      ]
     },
     "execution_count": 15,
     "metadata": {},
     "output_type": "execute_result"
    },
    {
     "data": {
      "image/png": "[encoded data removed]",
      "text/plain": [
       "<Figure size 432x288 with 1 Axes>"
      ]
     },
     "metadata": {
      "needs_background": "light"
     },
     "output_type": "display_data"
    }
   ],
   "source": [
    "plt.hist(np.log10(old_Ia['stellar_mass']))"
   ]
  },
  {
   "cell_type": "code",
   "execution_count": 4,
   "id": "db1399f5-c926-4be5-ad53-cb1cb5dd81f7",
   "metadata": {},
   "outputs": [],
   "source": [
    "baseline_Ia = pd.read_csv(\"~/data_files/HOSTLIBs/SNIa_GHOST.80k_HOSTLIB_CSV\", delim_whitespace=True, header=0)"
   ]
  },
  {
   "cell_type": "code",
   "execution_count": 7,
   "id": "49ba9162-bc47-470b-9345-28aca8a90613",
   "metadata": {},
   "outputs": [],
   "source": [
    "baseline_Ia = pd.read_csv(\"/global/cscratch1/sd/agaglian/matchedDC2_euclid_SNIa_283.tar.gz\")"
   ]
  },
  {
   "cell_type": "code",
   "execution_count": 8,
   "id": "c54066cf-bc07-4952-a4d8-6c4d3bd3228e",
   "metadata": {},
   "outputs": [
    {
     "data": {
      "text/plain": [
       "array(['morphology/totalSersicIndex', 'Mag_true_g_sdss_z0',\n",
       "       'Mag_true_r_sdss_z0', 'Mag_true_i_sdss_z0', 'Mag_true_z_sdss_z0',\n",
       "       'galaxy_id', 'morphology/totalEllipticity', 'g-r', 'r-i', 'i-z',\n",
       "       'DC2redshift', 'PZflowredshift', 'DC2SFRtot', 'PZflowSFRtot',\n",
       "       'stellar_mass', 'GHOST_objID', 'nn_distance'], dtype=object)"
      ]
     },
     "execution_count": 8,
     "metadata": {},
     "output_type": "execute_result"
    }
   ],
   "source": [
    "baseline_Ia.columns.values"
   ]
  },
  {
   "cell_type": "code",
   "execution_count": 11,
   "id": "5ce09e69-c887-485e-8b92-032f5eafbace",
   "metadata": {},
   "outputs": [
    {
     "data": {
      "text/plain": [
       "(array([  3225.,  17084.,  49927.,  74891., 136692., 209339., 260665.,\n",
       "        216756.,  64548.,   4068.]),\n",
       " array([ 4.96405366,  5.67567937,  6.38730509,  7.09893081,  7.81055652,\n",
       "         8.52218224,  9.23380796,  9.94543367, 10.65705939, 11.36868511,\n",
       "        12.08031082]),\n",
       " <BarContainer object of 10 artists>)"
      ]
     },
     "execution_count": 11,
     "metadata": {},
     "output_type": "execute_result"
    },
    {
     "data": {
      "image/png": "[encoded data removed]",
      "text/plain": [
       "<Figure size 432x288 with 1 Axes>"
      ]
     },
     "metadata": {
      "needs_background": "light"
     },
     "output_type": "display_data"
    }
   ],
   "source": [
    "plt.hist(np.log10(baseline_Ia['stellar_mass']))"
   ]
  },
  {
   "cell_type": "code",
   "execution_count": 13,
   "id": "d90b08ab-baf1-4e9e-9c7c-e69e74aa0ceb",
   "metadata": {},
   "outputs": [
    {
     "data": {
      "text/plain": [
       "(array([  1649.,   2331.,   7154.,  37210., 104872., 162271., 168822.,\n",
       "        200401., 250723., 101762.]),\n",
       " array([1.00312852, 1.9028151 , 2.80250167, 3.70218825, 4.60187482,\n",
       "        5.5015614 , 6.40124797, 7.30093454, 8.20062112, 9.10030769,\n",
       "        9.99999427]),\n",
       " <BarContainer object of 10 artists>)"
      ]
     },
     "execution_count": 13,
     "metadata": {},
     "output_type": "execute_result"
    },
    {
     "data": {
      "image/png": "[encoded data removed]",
      "text/plain": [
       "<Figure size 432x288 with 1 Axes>"
      ]
     },
     "metadata": {
      "needs_background": "light"
     },
     "output_type": "display_data"
    }
   ],
   "source": [
    "plt.hist(np.log10(baseline_Ia['PZflowSFRtot']))"
   ]
  },
  {
   "cell_type": "code",
   "execution_count": 14,
   "id": "b043ebe9-c6a6-496c-8fb3-0f465f4b3e7b",
   "metadata": {},
   "outputs": [],
   "source": [
    "annoy_Ia = pd.read_csv(\"/global/cscratch1/sd/agaglian/matchedDC2_SNIa_381.tar.gz\")"
   ]
  },
  {
   "cell_type": "code",
   "execution_count": 15,
   "id": "41028063-933e-4c75-b2e0-edff7606f4fc",
   "metadata": {},
   "outputs": [
    {
     "data": {
      "text/plain": [
       "array(['morphology/totalSersicIndex', 'Mag_true_g_sdss_z0',\n",
       "       'Mag_true_r_sdss_z0', 'Mag_true_i_sdss_z0', 'Mag_true_z_sdss_z0',\n",
       "       'galaxy_id', 'morphology/totalEllipticity', 'g-r', 'r-i', 'i-z',\n",
       "       'DC2redshift', 'PZflowredshift', 'DC2SFRtot', 'PZflowSFRtot',\n",
       "       'stellar_mass', 'GHOST_objID', 'nn_distance'], dtype=object)"
      ]
     },
     "execution_count": 15,
     "metadata": {},
     "output_type": "execute_result"
    }
   ],
   "source": [
    "annoy_Ia.columns.values"
   ]
  },
  {
   "cell_type": "code",
   "execution_count": 17,
   "id": "5a80462a-9cc7-49de-8954-0976a02b368b",
   "metadata": {},
   "outputs": [
    {
     "data": {
      "text/plain": [
       "(array([  1582.,    626.,   5564., 306116., 520306., 201833., 355384.,\n",
       "        511133., 156849.,  58595.]),\n",
       " array([1.00312852, 1.90281147, 2.80249442, 3.70217737, 4.60186031,\n",
       "        5.50154326, 6.40122621, 7.30090916, 8.20059211, 9.10027505,\n",
       "        9.999958  ]),\n",
       " <BarContainer object of 10 artists>)"
      ]
     },
     "execution_count": 17,
     "metadata": {},
     "output_type": "execute_result"
    },
    {
     "data": {
      "image/png": "[encoded data removed]",
      "text/plain": [
       "<Figure size 432x288 with 1 Axes>"
      ]
     },
     "metadata": {
      "needs_background": "light"
     },
     "output_type": "display_data"
    }
   ],
   "source": [
    "plt.hist(np.log10(annoy_Ia['PZflowSFRtot']))"
   ]
  },
  {
   "cell_type": "code",
   "execution_count": 18,
   "id": "4d498b50-4075-4810-a6b6-9efd62a96006",
   "metadata": {},
   "outputs": [
    {
     "data": {
      "text/plain": [
       "(array([1.64890e+04, 2.88638e+05, 6.78865e+05, 6.16472e+05, 3.31510e+05,\n",
       "        1.20642e+05, 3.89900e+04, 2.01150e+04, 5.97000e+03, 2.97000e+02]),\n",
       " array([ 4.9539156 ,  5.63772918,  6.32154275,  7.00535632,  7.6891699 ,\n",
       "         8.37298347,  9.05679704,  9.74061062, 10.42442419, 11.10823776,\n",
       "        11.79205134]),\n",
       " <BarContainer object of 10 artists>)"
      ]
     },
     "execution_count": 18,
     "metadata": {},
     "output_type": "execute_result"
    },
    {
     "data": {
      "image/png": "[encoded data removed]",
      "text/plain": [
       "<Figure size 432x288 with 1 Axes>"
      ]
     },
     "metadata": {
      "needs_background": "light"
     },
     "output_type": "display_data"
    }
   ],
   "source": [
    "plt.hist(np.log10(annoy_Ia['stellar_mass']))"
   ]
  },
  {
   "cell_type": "code",
   "execution_count": null,
   "id": "2506cc0c-c793-49a6-8665-81c55d7a7305",
   "metadata": {},
   "outputs": [],
   "source": [
    "#not good...let's see how well we do when we use the other metrics"
   ]
  }
 ],
 "metadata": {
  "kernelspec": {
   "display_name": "desc-python-dev",
   "language": "python",
   "name": "desc-python-dev"
  },
  "language_info": {
   "codemirror_mode": {
    "name": "ipython",
    "version": 3
   },
   "file_extension": ".py",
   "mimetype": "text/x-python",
   "name": "python",
   "nbconvert_exporter": "python",
   "pygments_lexer": "ipython3",
   "version": "3.8.8"
  }
 },
 "nbformat": 4,
 "nbformat_minor": 5
}
