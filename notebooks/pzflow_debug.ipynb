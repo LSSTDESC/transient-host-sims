{
 "cells": [
  {
   "cell_type": "code",
   "execution_count": 1,
   "metadata": {},
   "outputs": [
    {
     "name": "stderr",
     "output_type": "stream",
     "text": [
      "/global/homes/a/agaglian/.conda/envs/pzflow/lib/python3.7/site-packages/jax/experimental/optimizers.py:30: FutureWarning: jax.experimental.optimizers is deprecated, import jax.example_libraries.optimizers instead\n",
      "  FutureWarning)\n",
      "/global/homes/a/agaglian/.conda/envs/pzflow/lib/python3.7/site-packages/jax/experimental/stax.py:30: FutureWarning: jax.experimental.stax is deprecated, import jax.example_libraries.stax instead\n",
      "  FutureWarning)\n"
     ]
    }
   ],
   "source": [
    "#imports\n",
    "import jax.numpy as np\n",
    "import matplotlib.pyplot as plt\n",
    "import pzflow\n",
    "from pzflow import Flow\n",
    "from pzflow.bijectors import Chain, ColorTransform, InvSoftplus, StandardScaler, RollingSplineCoupling, ShiftBounds\n",
    "from pzflow.distributions import Uniform, Joint, Normal\n",
    "import pandas as pd\n",
    "import GCRCatalogs\n",
    "import numpy as onp\n",
    "import time\n",
    "import seaborn as sns\n",
    "start = time.process_time()"
   ]
  },
  {
   "cell_type": "code",
   "execution_count": 2,
   "metadata": {},
   "outputs": [
    {
     "name": "stdout",
     "output_type": "stream",
     "text": [
      "Reading CosmoDC2 small catalog\n",
      "Catalog read.\n"
     ]
    }
   ],
   "source": [
    "def f(logmass):\n",
    "    return 2*logmass - 24\n",
    "\n",
    "cosmo=GCRCatalogs.load_catalog(\"cosmoDC2_v1.1.4_small\")\n",
    "#quantities = ['redshift', 'mag_true_g_lsst', 'mag_true_r_lsst', 'mag_true_i_lsst', 'mag_true_z_lsst', 'Mag_true_g_lsst_z0', 'Mag_true_r_lsst_z0', 'Mag_true_i_lsst_z0', 'Mag_true_z_lsst_z0', \n",
    "# 'stellar_mass', 'totalStarFormationRate']\n",
    "quantities = ['redshift', 'Mag_true_g_lsst_z0', 'Mag_true_r_lsst_z0', 'Mag_true_i_lsst_z0', 'Mag_true_z_lsst_z0', 'stellar_mass', 'totalStarFormationRate']\n",
    "\n",
    "print(\"Reading CosmoDC2 small catalog\")\n",
    "gal = cosmo.get_quantities(quantities)\n",
    "print(\"Catalog read.\")"
   ]
  },
  {
   "cell_type": "code",
   "execution_count": null,
   "metadata": {},
   "outputs": [
    {
     "name": "stderr",
     "output_type": "stream",
     "text": [
      "WARNING:absl:No GPU/TPU found, falling back to CPU. (Set TF_CPP_MIN_LOG_LEVEL=0 and rerun for more info.)\n"
     ]
    }
   ],
   "source": [
    "# data_unscaled = {}\n",
    "# data_unscaled['logSFRtot'] = np.log10(gal['totalStarFormationRate'])\n",
    "# data_unscaled['redshift']  = gal['redshift']\n",
    "# data_unscaled['logmass'] = np.log10(gal['stellar_mass'])\n",
    "# data_unscaled['Mag_true_g_lsst_z0']  = gal['Mag_true_g_lsst_z0']\n",
    "# data_unscaled['Mag_true_r_lsst_z0']  = gal['Mag_true_r_lsst_z0']\n",
    "# data_unscaled['Mag_true_i_lsst_z0']  = gal['Mag_true_i_lsst_z0']\n",
    "# data_unscaled['Mag_true_z_lsst_z0']  = gal['Mag_true_z_lsst_z0']\n",
    "data_unscaled = pd.DataFrame(gal)\n",
    "data_unscaled['logSFRtot'] = np.log10(gal['totalStarFormationRate'])\n",
    "data_unscaled['logmass'] = np.log10(gal['stellar_mass'])\n",
    "del gal\n",
    "\n",
    "# data_unscaled['morphology/totalEllipticity'] = gal['morphology/totalEllipticity']\n",
    "\n",
    "data_unscaled = pd.DataFrame(data_unscaled)\n",
    "\n",
    "#get rid of that weird clump M* > 10^10 Msol and logSFR = -5\n",
    "data_unscaled = data_unscaled[onp.asarray((data_unscaled['logSFRtot'] - 9) > f(data_unscaled['logmass']))]\n",
    "data_unscaled['g-r'] = data_unscaled['Mag_true_g_lsst_z0'] - data_unscaled['Mag_true_r_lsst_z0']\n",
    "data_unscaled['r-i'] = data_unscaled['Mag_true_r_lsst_z0'] - data_unscaled['Mag_true_i_lsst_z0']\n",
    "data_unscaled['i-z'] = data_unscaled['Mag_true_i_lsst_z0'] - data_unscaled['Mag_true_z_lsst_z0']"
   ]
  },
  {
   "cell_type": "code",
   "execution_count": null,
   "metadata": {},
   "outputs": [],
   "source": [
    "# standard scale the reference magnitude and colors\n",
    "#data = data_unscaled.copy()\n",
    "for quality in ['logmass', 'Mag_true_g_lsst_z0', 'Mag_true_r_lsst_z0', 'Mag_true_i_lsst_z0', 'Mag_true_z_lsst_z0', 'g-r', 'r-i', 'i-z']:\n",
    "    data_unscaled[quality] = (data_unscaled[quality]-data_unscaled[quality].mean())/data_unscaled[quality].std()"
   ]
  },
  {
   "cell_type": "code",
   "execution_count": null,
   "metadata": {},
   "outputs": [],
   "source": [
    "# input - df: a Dataframe, chunkSize: the chunk size\n",
    "# output - a list of DataFrame\n",
    "# purpose - splits the DataFrame into smaller chunks\n",
    "def split_dataframe(df, chunk_size = 10000): \n",
    "    chunks = list()\n",
    "    num_chunks = len(df) // chunk_size + 1\n",
    "    for i in range(num_chunks):\n",
    "        chunks.append(df[i*chunk_size:(i+1)*chunk_size])\n",
    "    return chunks"
   ]
  },
  {
   "cell_type": "code",
   "execution_count": null,
   "metadata": {},
   "outputs": [],
   "source": [
    "# take a subset of 1/500th\n",
    "# have tried 1/1000, 1/100,\n",
    "data_subset = data_unscaled.sample(n=int(len(data_unscaled)/5.e2))"
   ]
  },
  {
   "cell_type": "code",
   "execution_count": null,
   "metadata": {},
   "outputs": [],
   "source": [
    "print(data_subset)"
   ]
  },
  {
   "cell_type": "code",
   "execution_count": null,
   "metadata": {},
   "outputs": [],
   "source": [
    "print('Training on {} CosmoDC2 galaxies.'.format(len(data_subset)))\n",
    "conditional_columns = data_subset.columns.drop(['redshift'])#, 'logSFRtot'])\n",
    "latent = Uniform((-5,5))#,(-5,5)) \n",
    "#means = np.array([data_subset['redshift'].mean(), data_subset['logSFRtot'].mean()])\n",
    "#stds = np.array([data_subset['redshift'].std(), data_subset['logSFRtot'].std()]) #switched 1/6 to 1/5.9\n",
    "mins = np.array([data_subset['redshift'].min()]#, data_subset['logSFRtot'].min()])\n",
    "maxs = np.array([data_subset['redshift'].max()]#, data_subset['logSFRtot'].max()]) #switched 1/6 to 1/5.9\n",
    "\n",
    "bijector = Chain(\n",
    "    ShiftBounds(mins, maxs, 4.9),\n",
    "    RollingSplineCoupling(nlayers=2, n_conditions=len(conditional_columns), K=2),\n",
    ")"
   ]
  },
  {
   "cell_type": "code",
   "execution_count": null,
   "metadata": {},
   "outputs": [],
   "source": [
    "\n",
    "# To create the conditional flow, we have to provide\n",
    "# 1. The names of the data columns\n",
    "# 2. The bijector\n",
    "# 3. The names of the conditional columns\n",
    "\n",
    "flow = Flow(\n",
    "    data_columns = (\"redshift\"), #, \"logSFRtot\"\n",
    "    conditional_columns = conditional_columns,\n",
    "    bijector = bijector,\n",
    "    latent = latent,          \n",
    ")\n",
    "\n",
    "losses = flow.train(data_subset, epochs=30, verbose=True)\n",
    "\n",
    "sns.set_context(\"talk\")\n",
    "plt.plot(losses)\n",
    "plt.xlabel(\"Epoch\")\n",
    "plt.ylabel(\"Training loss\")\n",
    "#plt.savefig(\"../plots/pzflow_traning_loss.png\")\n",
    "## save the results, then apply them with the script apply_pzflow_dc2full.py\n",
    "#flow.save('../data_files/pzflow_dc2small_nofilter_div500')\n",
    "#print(\"CPU time taken: \", time.process_time() - start)"
   ]
  },
  {
   "cell_type": "code",
   "execution_count": null,
   "metadata": {},
   "outputs": [],
   "source": [
    "allSamples = []\n",
    "#split into 100 chunks\n",
    "data_list = split_dataframe(data_subset, chunk_size=int(len(data_subset)/100.))\n",
    "\n",
    "for chunk in data_list:\n",
    "    samples = flow.sample(1, conditions=chunk.drop(columns=['redshift']), seed=0)\n",
    "    allSamples.append(samples)\n",
    "samples=pd.concat(allSamples)"
   ]
  },
  {
   "cell_type": "code",
   "execution_count": null,
   "metadata": {},
   "outputs": [],
   "source": [
    "samples"
   ]
  },
  {
   "cell_type": "code",
   "execution_count": null,
   "metadata": {},
   "outputs": [],
   "source": [
    "data_subset['redshift_old'] = data_subset['redshift']\n",
    "data_subset['logSFRtot_old'] = data_subset['logSFRtot']"
   ]
  },
  {
   "cell_type": "code",
   "execution_count": null,
   "metadata": {},
   "outputs": [],
   "source": [
    "data_subset['redshift_new'] = samples['redshift']\n",
    "data_subset['logSFRtot_new'] = samples['logSFRtot']"
   ]
  },
  {
   "cell_type": "code",
   "execution_count": null,
   "metadata": {},
   "outputs": [],
   "source": [
    "plt.hist(data_subset['redshift_old'] - data_subset['redshift_new'])"
   ]
  },
  {
   "cell_type": "code",
   "execution_count": null,
   "metadata": {},
   "outputs": [],
   "source": [
    "plt.figure(figsize=(10,7))\n",
    "plt.plot(data_subset['redshift_new'], data_subset['g-r'], 'o', ms=0.1)\n",
    "plt.xlabel(\"DC2 Redshift\")\n",
    "plt.ylabel(r\"$g-r$\")"
   ]
  },
  {
   "cell_type": "code",
   "execution_count": null,
   "metadata": {},
   "outputs": [],
   "source": [
    "plt.figure(figsize=(10,7))\n",
    "plt.plot(data_subset['redshift_old'], data_subset['r-i'], 'o', ms=0.1)\n",
    "plt.xlabel(\"DC2 Redshift\")\n",
    "plt.ylabel(r\"$g-r$\")"
   ]
  },
  {
   "cell_type": "code",
   "execution_count": null,
   "metadata": {},
   "outputs": [],
   "source": [
    "plt.figure(figsize=(10,7))\n",
    "plt.plot(data_subset['redshift_new'], data_subset['logSFRtot_new'], 'o', ms=0.3, alpha=0.3, label=r'pzflow')\n",
    "#plt.plot(data_subset['redshift_old'], data_subset['logSFRtot_old'], 'o', ms=0.3, alpha=0.3, label=r'DC2')\n",
    "plt.legend(fontsize=16)\n",
    "plt.ylim((2, 10))\n",
    "plt.xlim((0, 3))\n",
    "#plt.xlabel(\"DC2 Redshift\")\n",
    "plt.xlabel(\"Redshift\");\n",
    "plt.ylabel(r\"logSFRtot\");"
   ]
  },
  {
   "cell_type": "code",
   "execution_count": null,
   "metadata": {},
   "outputs": [],
   "source": [
    "plt.figure(figsize=(10,7))\n",
    "#plt.plot(data_subset['redshift_new'], data_subset['logSFRtot_new'], 'o', ms=0.3, alpha=0.3, label=r'pzflow')\n",
    "plt.plot(data_subset['redshift_old'], data_subset['logSFRtot_old'], 'o', ms=0.3, alpha=0.3, label=r'DC2')\n",
    "plt.legend(fontsize=16)\n",
    "plt.ylim((2, 10))\n",
    "plt.xlim((0, 3))\n",
    "#plt.xlabel(\"DC2 Redshift\")\n",
    "plt.xlabel(\"Redshift\");\n",
    "plt.ylabel(r\"SFR\");"
   ]
  },
  {
   "cell_type": "code",
   "execution_count": null,
   "metadata": {},
   "outputs": [],
   "source": [
    "plt.figure(figsize=(10,7))\n",
    "plt.plot(data_subset['redshift_new'], data_subset['g-r'], 'o', ms=0.5, alpha=0.3, label=r'pzflow')\n",
    "plt.plot(data_subset['redshift_old'], data_subset['g-r'], 'o', ms=0.5, alpha=0.3, label=r'DC2')\n",
    "#plt.xlabel(\"DC2 Redshift\")\n",
    "plt.xlabel(\"Redshift\");\n",
    "plt.ylabel(r\"$g-r$\");"
   ]
  },
  {
   "cell_type": "code",
   "execution_count": null,
   "metadata": {},
   "outputs": [],
   "source": [
    "plt.figure(figsize=(10,7))\n",
    "plt.plot(data_subset['redshift_old'], data_subset['redshift_new'] - data_subset['redshift_old'], 'o', ms=1)\n",
    "plt.xlabel(r\"$z_{\\rm pzflow}$\")\n",
    "plt.ylim((-0.5, 0.5))\n",
    "plt.axhline(y=0, ls='--', c='tab:red')\n",
    "plt.ylabel(r\"$z_{\\rm pzflow} - z_{\\rm DC2}$\");"
   ]
  },
  {
   "cell_type": "code",
   "execution_count": null,
   "metadata": {},
   "outputs": [],
   "source": []
  },
  {
   "cell_type": "code",
   "execution_count": null,
   "metadata": {},
   "outputs": [],
   "source": [
    "plt.figure(figsize=(10,7))\n",
    "plt.plot(data_subset['logSFRtot_old'], (data_subset['logSFRtot_new'] - data_subset['logSFRtot_old'])/data_subset['logSFRtot_old'], 'o', ms=1)\n",
    "plt.xlabel(r\"$logSFRtot_{\\rm pzflow}$\")\n",
    "plt.ylim((-1, 1))\n",
    "plt.xlim((2, 11))\n",
    "plt.axhline(y=0, ls='--', c='tab:red')\n",
    "plt.ylabel(r\"($logSFRtot_{\\rm pzflow} - logSFRtot_{\\rm DC2}$)/$logSFRtot_{\\rm DC2}$\");"
   ]
  },
  {
   "cell_type": "code",
   "execution_count": null,
   "metadata": {},
   "outputs": [],
   "source": [
    "plt.figure(figsize=(10,7))\n",
    "plt.plot(data_subset['redshift_new'], data_subset['logSFRtot_new'] - data_subset['logSFRtot_old'], 'o', ms=1)\n",
    "plt.xlabel(r\"$z_{\\rm pzflow}$\")\n",
    "#plt.xlim((2, 10))\n",
    "plt.ylim((-3, 3))\n",
    "plt.axhline(y=0, ls='--', c='tab:red')\n",
    "plt.ylabel(r\"$logSFRtot_{\\rm pzflow} - logSFRtot_{\\rm DC2}$\");"
   ]
  }
 ],
 "metadata": {
  "kernelspec": {
   "display_name": "pzflow",
   "language": "python",
   "name": "pzflow"
  },
  "language_info": {
   "codemirror_mode": {
    "name": "ipython",
    "version": 3
   },
   "file_extension": ".py",
   "mimetype": "text/x-python",
   "name": "python",
   "nbconvert_exporter": "python",
   "pygments_lexer": "ipython3",
   "version": "3.7.6"
  }
 },
 "nbformat": 4,
 "nbformat_minor": 4
}
