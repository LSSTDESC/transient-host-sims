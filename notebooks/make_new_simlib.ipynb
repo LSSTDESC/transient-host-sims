{
 "cells": [
  {
   "cell_type": "code",
   "execution_count": 4,
   "id": "76259d7e",
   "metadata": {},
   "outputs": [],
   "source": [
    "import pandas as pd\n",
    "import numpy as np\n",
    "import seaborn as sns\n",
    "import matplotlib.pyplot as plt"
   ]
  },
  {
   "cell_type": "code",
   "execution_count": 5,
   "id": "307e407f",
   "metadata": {},
   "outputs": [],
   "source": [
    "sns.set_context(\"talk\",font_scale=1.5)\n",
    "\n",
    "sns.set_style('white', {'axes.linewidth': 0.5})\n",
    "plt.rcParams['xtick.major.size'] = 15\n",
    "plt.rcParams['ytick.major.size'] = 15\n",
    "\n",
    "plt.rcParams['xtick.minor.size'] = 10\n",
    "plt.rcParams['ytick.minor.size'] = 10\n",
    "plt.rcParams['xtick.minor.width'] = 2\n",
    "plt.rcParams['ytick.minor.width'] = 2\n",
    "\n",
    "plt.rcParams['xtick.major.width'] = 2\n",
    "plt.rcParams['ytick.major.width'] = 2\n",
    "plt.rcParams['xtick.bottom'] = True\n",
    "plt.rcParams['xtick.top'] = True\n",
    "plt.rcParams['ytick.left'] = True\n",
    "plt.rcParams['ytick.right'] = True\n",
    "\n",
    "plt.rcParams['xtick.minor.visible'] = True\n",
    "plt.rcParams['ytick.minor.visible'] = True\n",
    "plt.rcParams['xtick.direction'] = 'in'\n",
    "plt.rcParams['ytick.direction'] = 'in'\n",
    "\n",
    "plt.rcParams.update({\n",
    "    \"text.usetex\": False,\n",
    "    \"font.family\": \"sans-serif\",\n",
    "    \"font.sans-serif\": [\"Helvetica\"]})\n",
    "## for Palatino and other serif fonts use:\n",
    "plt.rcParams.update({\n",
    "    \"text.usetex\": False,\n",
    "    \"font.family\": \"serif\",\n",
    "    \"font.serif\": [\"Palatino\"],\n",
    "})"
   ]
  },
  {
   "cell_type": "code",
   "execution_count": 147,
   "id": "1a6f2b19",
   "metadata": {},
   "outputs": [],
   "source": [
    "def new_simlib(inpath, template_simlib_fname, output_fname, days_span=200, sampling_rate=2.0, sampling='coarse', whitespace=True):\n",
    "    i=0\n",
    "    docrows = []\n",
    "    with open(inpath + \"/\" + template_simlib_fname, 'r') as template:\n",
    "        for line in template:\n",
    "            docrows.append(line)\n",
    "            if 'MJD' in line:\n",
    "                skiprows= i+1\n",
    "                break\n",
    "            i+=1\n",
    "\n",
    "    hdr        = [\"MJD\", \"IDEXPT\", \"FLT\", \"CCD GAIN\", \"CCD NOISE\", \"SKYSIG\", \"PSF1\", \"PSF2\", \"PSF 2/1 RATIO\", \"ZPTAVG\", \"ZPTERR\", \"MAG\"]\n",
    "    simlib_old = pd.read_csv(inpath + \"/\" + template_simlib_fname, names=hdr, skiprows=skiprows, delim_whitespace=whitespace, skipfooter=2)\n",
    "\n",
    "    numsteps   = int(days_span/sampling_rate)\n",
    "    \n",
    "    if sampling == 'variable':\n",
    "        #increase the sampling for TDEs and Kilonovae\n",
    "        half = days_span/2\n",
    "        forward = np.logspace(-1, 0.3, 162)\n",
    "        backward = np.logspace(-1, 0.3, 80)\n",
    "        backward = np.flip(backward)\n",
    "        backward_pad = [2]*int((half-np.nansum(backward))/2)\n",
    "        backward_pad = np.array(backward_pad)\n",
    "        full_spacing = np.concatenate([backward_pad, backward, forward])\n",
    "        mjdsteps = np.zeros(len(full_spacing))\n",
    "        mjdsteps[0] = min(simlib_old['MJD'])\n",
    "        \n",
    "        for i in np.arange(1,len(full_spacing)):\n",
    "            mjdsteps[i] = mjdsteps[i - 1] + full_spacing[i-1]\n",
    "            \n",
    "    else: \n",
    "        mjdsteps   = min(simlib_old['MJD']) + np.linspace(0, days_span, num=numsteps+1)\n",
    "        \n",
    "    mjd        = []\n",
    "    for m in range(len(mjdsteps)):\n",
    "        for n in range(6):\n",
    "            mjd.append(mjdsteps[m])\n",
    "    idexpt     = range(min(simlib_old['IDEXPT']),min(simlib_old['IDEXPT'])+len(mjd))\n",
    "    \n",
    "    cvals = []\n",
    "    for h in hdr[3:]:\n",
    "        val = simlib_old[h][0]\n",
    "        cvals.append(val)\n",
    "    with open(inpath + \"/\" + output_fname, 'w') as newfile:\n",
    "        for row in docrows:\n",
    "            newfile.write(row)\n",
    "        for c in range(len(mjd)):\n",
    "            m = c%6\n",
    "            bands = ['u','g','r','i','z','Y']\n",
    "            newfile.write(\"S: {:0.3f}    {:d}   {:s}  {:.2f}  {:.2f}  {:.1f}  {:.2f} {:.2f} {:.3f}  {:.2f}  {:.2f}  {:d}\\n\".format(mjd[c],idexpt[c],\n",
    "                            bands[m], cvals[0],cvals[1],cvals[2],cvals[3],cvals[4],cvals[5],cvals[6],cvals[7],cvals[8]))\n",
    "            if m==5:\n",
    "                newfile.write(\"\\n\")"
   ]
  },
  {
   "cell_type": "code",
   "execution_count": 149,
   "id": "b74cd686",
   "metadata": {},
   "outputs": [],
   "source": [
    "rootPath = \"/global/cfs/cdirs/lsst/groups/SN/snana/SURVEYS/LSST/ROOT/PLASTICC_DEV/survey_config/\"\n",
    "\n",
    "coarse_rate = 2 #days \n",
    "fine_rate = 0.1 #days\n",
    "\n",
    "days_span = 200\n",
    "\n",
    "new_simlib(rootPath, \"LSST_IDEAL_0.1DAY.SIMLIB\", \"SCOTCH_IDEAL_%.2fDAY.SIMLIB\" % fine_rate, days_span=days_span, sampling_rate=fine_rate, sampling='fine', whitespace=True)\n",
    "new_simlib(rootPath, \"LSST_IDEAL_0.1DAY.SIMLIB\", \"SCOTCH_IDEAL_%.2fDAY.SIMLIB\" % coarse_rate, days_span=days_span, sampling_rate=coarse_rate, sampling='coarse', whitespace=True)\n",
    "new_simlib(rootPath, \"LSST_IDEAL_0.1DAY.SIMLIB\", \"SCOTCH_IDEAL_VARDAY.SIMLIB\", days_span=days_span, sampling='variable', whitespace=True)"
   ]
  },
  {
   "cell_type": "code",
   "execution_count": 54,
   "id": "6ad04e02-8faf-4527-bcec-b2b42f977e7b",
   "metadata": {},
   "outputs": [
    {
     "data": {
      "text/plain": [
       "30"
      ]
     },
     "execution_count": 54,
     "metadata": {},
     "output_type": "execute_result"
    }
   ],
   "source": [
    "int((100-np.nansum(backward))/2)"
   ]
  },
  {
   "cell_type": "code",
   "execution_count": 143,
   "id": "e510cd43-8f2b-44dd-8588-ee0bc34b4e18",
   "metadata": {},
   "outputs": [
    {
     "data": {
      "text/plain": [
       "166.66666666666666"
      ]
     },
     "execution_count": 143,
     "metadata": {},
     "output_type": "execute_result"
    }
   ],
   "source": [
    "200*5/6"
   ]
  },
  {
   "cell_type": "code",
   "execution_count": 144,
   "id": "bee4658e",
   "metadata": {},
   "outputs": [
    {
     "data": {
      "text/plain": [
       "[<matplotlib.lines.Line2D at 0x2aaaf853bdc0>]"
      ]
     },
     "execution_count": 144,
     "metadata": {},
     "output_type": "execute_result"
    },
    {
     "data": {
      "image/png": "[encoded data removed]",
      "text/plain": [
       "<Figure size 720x504 with 1 Axes>"
      ]
     },
     "metadata": {},
     "output_type": "display_data"
    }
   ],
   "source": [
    "#increase the sampling for TDEs and Kilonovae\n",
    "days_span=200\n",
    "half = days_span/2\n",
    "forward = np.logspace(-1, 0.3, 162)\n",
    "backward = np.logspace(-1, 0.3, 80)\n",
    "backward = np.flip(backward)\n",
    "backward_pad = [2]*int((half-np.nansum(backward))/2)\n",
    "backward_pad = np.array(backward_pad)\n",
    "full_spacing = np.concatenate([backward_pad, backward, forward])\n",
    "\n",
    "plt.figure(figsize=(10,7))\n",
    "plt.xlabel(\"SIMLIB INDEX\")\n",
    "plt.ylabel(\"Spacing (Days)\")\n",
    "plt.plot(full_spacing, 'o')"
   ]
  },
  {
   "cell_type": "code",
   "execution_count": 169,
   "id": "7ea50918",
   "metadata": {},
   "outputs": [
    {
     "data": {
      "image/png": "[encoded data removed]",
      "text/plain": [
       "<Figure size 720x504 with 1 Axes>"
      ]
     },
     "metadata": {},
     "output_type": "display_data"
    }
   ],
   "source": [
    "mjdsteps = np.zeros(len(full_spacing))\n",
    "mjdsteps[0] = 53100\n",
    "for i in np.arange(1,len(full_spacing)):\n",
    "    mjdsteps[i] = mjdsteps[i-1] + full_spacing[i-1]\n",
    "    \n",
    "t_exp = 53200\n",
    "\n",
    "plt.figure(figsize=(10,7))\n",
    "plt.xlabel(\"Observation Number\")\n",
    "plt.axhline(0, color='k', ls='--')\n",
    "plt.ylabel(\"Phase From Peak (Days)\")\n",
    "plt.plot(mjdsteps-t_exp, lw=4, c='#BA5624')\n",
    "plt.ylim((-100, 100))\n",
    "plt.savefig(\"../plots/VariableSampling_PhasePlot.png\",dpi=200,bbox_inches='tight')"
   ]
  },
  {
   "cell_type": "code",
   "execution_count": 146,
   "id": "28589a57-c57a-4e4a-95e2-2fa3322ddcd0",
   "metadata": {},
   "outputs": [
    {
     "data": {
      "text/plain": [
       "53300.06620654653"
      ]
     },
     "execution_count": 146,
     "metadata": {},
     "output_type": "execute_result"
    }
   ],
   "source": [
    "mjdsteps[-1]"
   ]
  },
  {
   "cell_type": "code",
   "execution_count": 183,
   "id": "b4361042",
   "metadata": {},
   "outputs": [
    {
     "data": {
      "text/html": [
       "<div>\n",
       "<style scoped>\n",
       "    .dataframe tbody tr th:only-of-type {\n",
       "        vertical-align: middle;\n",
       "    }\n",
       "\n",
       "    .dataframe tbody tr th {\n",
       "        vertical-align: top;\n",
       "    }\n",
       "\n",
       "    .dataframe thead th {\n",
       "        text-align: right;\n",
       "    }\n",
       "</style>\n",
       "<table border=\"1\" class=\"dataframe\">\n",
       "  <thead>\n",
       "    <tr style=\"text-align: right;\">\n",
       "      <th></th>\n",
       "      <th>MJD</th>\n",
       "      <th>IDEXPT</th>\n",
       "      <th>FLT</th>\n",
       "      <th>CCD GAIN</th>\n",
       "      <th>CCD NOISE</th>\n",
       "      <th>SKYSIG</th>\n",
       "      <th>PSF1</th>\n",
       "      <th>PSF2</th>\n",
       "      <th>PSF 2/1 RATIO</th>\n",
       "      <th>ZPTAVG</th>\n",
       "      <th>ZPTERR</th>\n",
       "      <th>MAG</th>\n",
       "    </tr>\n",
       "  </thead>\n",
       "  <tbody>\n",
       "    <tr>\n",
       "      <th>S:</th>\n",
       "      <td>53100.0</td>\n",
       "      <td>10001</td>\n",
       "      <td>u</td>\n",
       "      <td>1.0</td>\n",
       "      <td>1.0</td>\n",
       "      <td>40.0</td>\n",
       "      <td>1.0</td>\n",
       "      <td>0.0</td>\n",
       "      <td>0.0</td>\n",
       "      <td>35.0</td>\n",
       "      <td>0.0</td>\n",
       "      <td>99</td>\n",
       "    </tr>\n",
       "    <tr>\n",
       "      <th>S:</th>\n",
       "      <td>53100.0</td>\n",
       "      <td>10002</td>\n",
       "      <td>g</td>\n",
       "      <td>1.0</td>\n",
       "      <td>1.0</td>\n",
       "      <td>40.0</td>\n",
       "      <td>1.0</td>\n",
       "      <td>0.0</td>\n",
       "      <td>0.0</td>\n",
       "      <td>35.0</td>\n",
       "      <td>0.0</td>\n",
       "      <td>99</td>\n",
       "    </tr>\n",
       "    <tr>\n",
       "      <th>S:</th>\n",
       "      <td>53100.0</td>\n",
       "      <td>10003</td>\n",
       "      <td>r</td>\n",
       "      <td>1.0</td>\n",
       "      <td>1.0</td>\n",
       "      <td>40.0</td>\n",
       "      <td>1.0</td>\n",
       "      <td>0.0</td>\n",
       "      <td>0.0</td>\n",
       "      <td>35.0</td>\n",
       "      <td>0.0</td>\n",
       "      <td>99</td>\n",
       "    </tr>\n",
       "    <tr>\n",
       "      <th>S:</th>\n",
       "      <td>53100.0</td>\n",
       "      <td>10004</td>\n",
       "      <td>i</td>\n",
       "      <td>1.0</td>\n",
       "      <td>1.0</td>\n",
       "      <td>40.0</td>\n",
       "      <td>1.0</td>\n",
       "      <td>0.0</td>\n",
       "      <td>0.0</td>\n",
       "      <td>35.0</td>\n",
       "      <td>0.0</td>\n",
       "      <td>99</td>\n",
       "    </tr>\n",
       "    <tr>\n",
       "      <th>S:</th>\n",
       "      <td>53100.0</td>\n",
       "      <td>10005</td>\n",
       "      <td>z</td>\n",
       "      <td>1.0</td>\n",
       "      <td>1.0</td>\n",
       "      <td>40.0</td>\n",
       "      <td>1.0</td>\n",
       "      <td>0.0</td>\n",
       "      <td>0.0</td>\n",
       "      <td>35.0</td>\n",
       "      <td>0.0</td>\n",
       "      <td>99</td>\n",
       "    </tr>\n",
       "    <tr>\n",
       "      <th>S:</th>\n",
       "      <td>53100.0</td>\n",
       "      <td>10006</td>\n",
       "      <td>Y</td>\n",
       "      <td>1.0</td>\n",
       "      <td>1.0</td>\n",
       "      <td>40.0</td>\n",
       "      <td>1.0</td>\n",
       "      <td>0.0</td>\n",
       "      <td>0.0</td>\n",
       "      <td>35.0</td>\n",
       "      <td>0.0</td>\n",
       "      <td>99</td>\n",
       "    </tr>\n",
       "    <tr>\n",
       "      <th>S:</th>\n",
       "      <td>53100.1</td>\n",
       "      <td>10007</td>\n",
       "      <td>u</td>\n",
       "      <td>1.0</td>\n",
       "      <td>1.0</td>\n",
       "      <td>40.0</td>\n",
       "      <td>1.0</td>\n",
       "      <td>0.0</td>\n",
       "      <td>0.0</td>\n",
       "      <td>35.0</td>\n",
       "      <td>0.0</td>\n",
       "      <td>99</td>\n",
       "    </tr>\n",
       "    <tr>\n",
       "      <th>S:</th>\n",
       "      <td>53100.1</td>\n",
       "      <td>10008</td>\n",
       "      <td>g</td>\n",
       "      <td>1.0</td>\n",
       "      <td>1.0</td>\n",
       "      <td>40.0</td>\n",
       "      <td>1.0</td>\n",
       "      <td>0.0</td>\n",
       "      <td>0.0</td>\n",
       "      <td>35.0</td>\n",
       "      <td>0.0</td>\n",
       "      <td>99</td>\n",
       "    </tr>\n",
       "    <tr>\n",
       "      <th>S:</th>\n",
       "      <td>53100.1</td>\n",
       "      <td>10009</td>\n",
       "      <td>r</td>\n",
       "      <td>1.0</td>\n",
       "      <td>1.0</td>\n",
       "      <td>40.0</td>\n",
       "      <td>1.0</td>\n",
       "      <td>0.0</td>\n",
       "      <td>0.0</td>\n",
       "      <td>35.0</td>\n",
       "      <td>0.0</td>\n",
       "      <td>99</td>\n",
       "    </tr>\n",
       "    <tr>\n",
       "      <th>S:</th>\n",
       "      <td>53100.1</td>\n",
       "      <td>10010</td>\n",
       "      <td>i</td>\n",
       "      <td>1.0</td>\n",
       "      <td>1.0</td>\n",
       "      <td>40.0</td>\n",
       "      <td>1.0</td>\n",
       "      <td>0.0</td>\n",
       "      <td>0.0</td>\n",
       "      <td>35.0</td>\n",
       "      <td>0.0</td>\n",
       "      <td>99</td>\n",
       "    </tr>\n",
       "  </tbody>\n",
       "</table>\n",
       "</div>"
      ],
      "text/plain": [
       "        MJD  IDEXPT FLT  CCD GAIN  CCD NOISE  SKYSIG  PSF1  PSF2  \\\n",
       "S:  53100.0   10001   u       1.0        1.0    40.0   1.0   0.0   \n",
       "S:  53100.0   10002   g       1.0        1.0    40.0   1.0   0.0   \n",
       "S:  53100.0   10003   r       1.0        1.0    40.0   1.0   0.0   \n",
       "S:  53100.0   10004   i       1.0        1.0    40.0   1.0   0.0   \n",
       "S:  53100.0   10005   z       1.0        1.0    40.0   1.0   0.0   \n",
       "S:  53100.0   10006   Y       1.0        1.0    40.0   1.0   0.0   \n",
       "S:  53100.1   10007   u       1.0        1.0    40.0   1.0   0.0   \n",
       "S:  53100.1   10008   g       1.0        1.0    40.0   1.0   0.0   \n",
       "S:  53100.1   10009   r       1.0        1.0    40.0   1.0   0.0   \n",
       "S:  53100.1   10010   i       1.0        1.0    40.0   1.0   0.0   \n",
       "\n",
       "    PSF 2/1 RATIO  ZPTAVG  ZPTERR  MAG  \n",
       "S:            0.0    35.0     0.0   99  \n",
       "S:            0.0    35.0     0.0   99  \n",
       "S:            0.0    35.0     0.0   99  \n",
       "S:            0.0    35.0     0.0   99  \n",
       "S:            0.0    35.0     0.0   99  \n",
       "S:            0.0    35.0     0.0   99  \n",
       "S:            0.0    35.0     0.0   99  \n",
       "S:            0.0    35.0     0.0   99  \n",
       "S:            0.0    35.0     0.0   99  \n",
       "S:            0.0    35.0     0.0   99  "
      ]
     },
     "execution_count": 183,
     "metadata": {},
     "output_type": "execute_result"
    }
   ],
   "source": [
    "######## Some diagnostics below ############\n",
    "\n",
    "hdr = [\"MJD\", \"IDEXPT\", \"FLT\", \"CCD GAIN\", \"CCD NOISE\", \"SKYSIG\", \"PSF1\", \"PSF2\", \"PSF 2/1 RATIO\", \"ZPTAVG\", \"ZPTERR\", \"MAG\"]\n",
    "simlib = pd.read_csv(\"/global/cfs/cdirs/lsst/groups/SN/snana/SURVEYS/LSST/ROOT/simlibs/LSST_IDEAL_0.1DAY.SIMLIB\", skiprows=8, names=hdr, delim_whitespace=True, skipfooter=2)\n",
    "simlib.iloc[:10]"
   ]
  },
  {
   "cell_type": "code",
   "execution_count": 185,
   "id": "089f95ae",
   "metadata": {},
   "outputs": [
    {
     "data": {
      "text/plain": [
       "20.0"
      ]
     },
     "execution_count": 185,
     "metadata": {},
     "output_type": "execute_result"
    }
   ],
   "source": [
    "max(simlib['MJD'])-min(simlib['MJD'])"
   ]
  }
 ],
 "metadata": {
  "kernelspec": {
   "display_name": "desc-python-dev",
   "language": "python",
   "name": "desc-python-dev"
  },
  "language_info": {
   "codemirror_mode": {
    "name": "ipython",
    "version": 3
   },
   "file_extension": ".py",
   "mimetype": "text/x-python",
   "name": "python",
   "nbconvert_exporter": "python",
   "pygments_lexer": "ipython3",
   "version": "3.9.7"
  }
 },
 "nbformat": 4,
 "nbformat_minor": 5
}
