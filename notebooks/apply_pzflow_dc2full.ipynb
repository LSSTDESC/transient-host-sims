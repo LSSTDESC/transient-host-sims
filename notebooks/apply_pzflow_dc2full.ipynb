{
 "cells": [
  {
   "cell_type": "code",
   "execution_count": 7,
   "id": "1ede7bd4-3dce-41d3-8ff7-cd7ef3e5c560",
   "metadata": {},
   "outputs": [],
   "source": [
    "import sys\n",
    "sys.path.insert(0, '/global/common/software/lsst/common/miniconda/current/lib/python3.6/site-packages')"
   ]
  },
  {
   "cell_type": "code",
   "execution_count": 14,
   "id": "0729a7ab-7b79-483f-a94d-47cc306f38fc",
   "metadata": {},
   "outputs": [],
   "source": [
    "#If running in Colab, to switch to GPU, go to the menu and select Runtime -> Change runtime type -> Hardware accelerator -> GPU.\n",
    "\n",
    "#In addition, uncomment and run the following code:\n",
    "# !pip install pzflow\n",
    "\n",
    "#Intro to pzflow\n",
    "\n",
    "#This notebook demonstrates building a normalizing flow with pzflow to learn the joint probability distribution of some 2-D data.#\n",
    "\n",
    "#You do not need to have any previous knowledge of normalizing flows to get started with pzflow, however if you are interested, here are some good sources:\n",
    "\n",
    "#    Eric Jang's tutorial: part 1, part 2\n",
    "#    Here is a comprehensive list of papers, blogs, videos, and packages\n",
    "#    Two good intro papers using Coupling Layers: NICE, Real NVP\n",
    "#    The paper on Neural Spline Couplings\n",
    "\n",
    "import jax.numpy as np\n",
    "import matplotlib.pyplot as plt\n",
    "\n",
    "import pzflow\n",
    "from pzflow import Flow\n",
    "from pzflow.bijectors import Chain, ColorTransform, InvSoftplus, StandardScaler, RollingSplineCoupling\n",
    "#from pzflow.examples import galaxy_data\n",
    "from pzflow.distributions import Uniform, Joint, Normal\n",
    "import pandas as pd\n",
    "import GCRCatalogs\n",
    "import timeit\n",
    "import numpy as onp"
   ]
  },
  {
   "cell_type": "code",
   "execution_count": 15,
   "id": "83ef5a2d-2131-4a1a-9084-f16d2474169f",
   "metadata": {},
   "outputs": [],
   "source": [
    "import sys\n",
    "sys.path.insert(0, '/global/common/software/lsst/common/miniconda/current/lib/python3.6/site-packages')"
   ]
  },
  {
   "cell_type": "code",
   "execution_count": 16,
   "id": "181b91e5-b4a3-4d3b-8678-d5ee841f3d5a",
   "metadata": {},
   "outputs": [],
   "source": [
    "cosmo=GCRCatalogs.load_catalog(\"cosmoDC2_v1.1.4_image_with_photozs_v1\")"
   ]
  },
  {
   "cell_type": "code",
   "execution_count": 17,
   "id": "da105046-9d94-4e05-9a0c-246d9c33e462",
   "metadata": {},
   "outputs": [],
   "source": [
    "quantities = ['galaxy_id', 'redshift', 'ra', 'dec','mag_true_u_lsst','mag_true_g_lsst', 'mag_true_r_lsst', 'mag_true_i_lsst', 'mag_true_z_lsst','mag_true_Y_lsst',  \n",
    "     'size_true', 'size_minor_true', 'morphology/totalSersicIndex', \n",
    "     'baseDC2/sfr', 'stellar_mass', 'totalStarFormationRate', 'position_angle_true', 'mag_err_u_photoz', 'mag_err_g_photoz', 'mag_err_r_photoz', 'mag_err_i_photoz', 'mag_err_z_photoz', 'mag_err_y_photoz']\n",
    "filters = []"
   ]
  },
  {
   "cell_type": "code",
   "execution_count": 18,
   "id": "d32eb208-0e19-4fc9-bbf8-2aa57f7ec9c2",
   "metadata": {},
   "outputs": [],
   "source": [
    "#'Mag_true_u_sdss_z0','Mag_true_g_sdss_z0','Mag_true_r_sdss_z0', 'Mag_true_i_sdss_z0', 'Mag_true_z_sdss_z0', 'Mag_true_Y_sdss_z0',"
   ]
  },
  {
   "cell_type": "code",
   "execution_count": null,
   "id": "97219272-6d58-43fe-9211-957365cbe219",
   "metadata": {},
   "outputs": [
    {
     "name": "stdout",
     "output_type": "stream",
     "text": [
      "0 Elapsed time =  13.81226159981452\n",
      "1 Elapsed time =  27.536185099976137\n",
      "2 Elapsed time =  39.651212790980935\n",
      "3 Elapsed time =  51.76325034885667\n",
      "4 Elapsed time =  67.49422720680013\n",
      "5 Elapsed time =  82.8047248579096\n",
      "6 Elapsed time =  97.73838983802125\n",
      "7 Elapsed time =  111.87218948197551\n",
      "8 Elapsed time =  124.6010003988631\n",
      "9 Elapsed time =  137.51672247680835\n",
      "10 Elapsed time =  152.33732666098513\n",
      "11 Elapsed time =  166.8315591888968\n",
      "12 Elapsed time =  181.30739691993222\n",
      "13 Elapsed time =  195.97943030996248\n",
      "14 Elapsed time =  212.07711652992293\n",
      "15 Elapsed time =  227.82376381196082\n",
      "16 Elapsed time =  244.265879947925\n",
      "17 Elapsed time =  260.5629699958954\n",
      "18 Elapsed time =  276.6594984289259\n",
      "19 Elapsed time =  293.12206509080715\n",
      "20 Elapsed time =  309.4308665669523\n",
      "21 Elapsed time =  325.5298015368171\n",
      "22 Elapsed time =  341.9835555329919\n",
      "23 Elapsed time =  358.3943290919997\n",
      "24 Elapsed time =  374.2683538009878\n",
      "25 Elapsed time =  391.163525858894\n",
      "26 Elapsed time =  407.88212382397614\n",
      "27 Elapsed time =  423.32013970287517\n",
      "28 Elapsed time =  439.5741750400048\n",
      "29 Elapsed time =  456.19191704387777\n",
      "30 Elapsed time =  472.4774859920144\n"
     ]
    }
   ],
   "source": [
    "start_time = timeit.default_timer()\n",
    "logsfrtot = []\n",
    "redshift  = []\n",
    "sersic    = []\n",
    "size      = []\n",
    "logmass   = []\n",
    "g = []\n",
    "r = []\n",
    "i = []\n",
    "z = []\n",
    "galid = []\n",
    "ra = []\n",
    "dec = []\n",
    "#ellip = []\n",
    "\n",
    "c = 0\n",
    "for healpix in cosmo.available_healpix_pixels:\n",
    "    gal = cosmo.get_quantities(quantities, native_filters=f\"healpix_pixel == {healpix}\")\n",
    "#for gal in cosmo.get_quantities(quantities, native_filters=f\"healpix_pixel == {healpix}\", return_iterator=True):\n",
    "    logsfrtot.append(np.log10(gal['totalStarFormationRate']))\n",
    "    redshift.append(gal['redshift'])\n",
    "    sersic.append(gal['morphology/totalSersicIndex'])\n",
    "    size.append(gal['size_true'])\n",
    "    logmass.append(np.log10(gal['stellar_mass']))\n",
    "    g.append(gal['mag_true_g_lsst'])\n",
    "    r.append(gal['mag_true_r_lsst'])\n",
    "    i.append(gal['mag_true_i_lsst'])\n",
    "    z.append(gal['mag_true_z_lsst'])\n",
    "    galid.append(gal['galaxy_id'])\n",
    "    ra.append(gal['ra'])\n",
    "    dec.append(gal['dec'])\n",
    "   # ellip.append(gal['morphology/totalEllipticity'])\n",
    "    elapsed = timeit.default_timer() - start_time\n",
    "    print(c, \"Elapsed time = \", elapsed)\n",
    "    if c==50:\n",
    "        break\n",
    "    c+=1"
   ]
  },
  {
   "cell_type": "code",
   "execution_count": 20,
   "id": "28268947-a3cf-4fdb-b78f-9f5fe76a8b59",
   "metadata": {},
   "outputs": [],
   "source": [
    "data_unscaled = {}\n",
    "data_unscaled['logSFRtot'] = onp.concatenate(logsfrtot)\n",
    "data_unscaled['redshift']  = onp.concatenate(redshift)\n",
    "data_unscaled['morphology/totalSersicIndex'] = onp.concatenate(sersic)\n",
    "data_unscaled['size_true'] = onp.concatenate(size)\n",
    "data_unscaled['logmass'] = onp.concatenate(logmass)\n",
    "data_unscaled['mag_true_g_lsst']  = onp.concatenate(g)\n",
    "data_unscaled['mag_true_r_lsst']  = onp.concatenate(r)\n",
    "data_unscaled['mag_true_i_lsst']  = onp.concatenate(i)\n",
    "data_unscaled['mag_true_z_lsst']  = onp.concatenate(z)\n",
    "data_unscaled['galaxy_id'] = onp.concatenate(galid)\n",
    "data_unscaled['ra'] = onp.concatenate(ra)\n",
    "data_unscaled['dec'] = onp.concatenate(dec)\n",
    "#data_unscaled['morphology/totalEllipticity'] = onp.concatenate(ellip)"
   ]
  },
  {
   "cell_type": "code",
   "execution_count": 25,
   "id": "2c8fd089-7b4b-4de3-916d-faedeb86d8f8",
   "metadata": {},
   "outputs": [
    {
     "data": {
      "text/plain": [
       "dict_keys(['logSFRtot', 'redshift', 'morphology/totalSersicIndex', 'size_true', 'logmass', 'mag_true_g_lsst', 'mag_true_r_lsst', 'mag_true_i_lsst', 'mag_true_z_lsst', 'galaxy_id', 'ra', 'dec'])"
      ]
     },
     "execution_count": 25,
     "metadata": {},
     "output_type": "execute_result"
    }
   ],
   "source": [
    "data_unscaled.keys()"
   ]
  },
  {
   "cell_type": "code",
   "execution_count": 35,
   "id": "ffd09799-c22a-4976-b4bb-102d8ecf9f86",
   "metadata": {},
   "outputs": [
    {
     "data": {
      "text/plain": [
       "41916203"
      ]
     },
     "execution_count": 35,
     "metadata": {},
     "output_type": "execute_result"
    }
   ],
   "source": [
    "len(data_unscaled['galaxy_id'])"
   ]
  },
  {
   "cell_type": "code",
   "execution_count": 21,
   "id": "c62e39ea-16cc-4a07-b59a-d974f2816116",
   "metadata": {},
   "outputs": [
    {
     "ename": "ValueError",
     "evalue": "All arrays must be of the same length",
     "output_type": "error",
     "traceback": [
      "\u001b[0;31m---------------------------------------------------------------------------\u001b[0m",
      "\u001b[0;31mValueError\u001b[0m                                Traceback (most recent call last)",
      "\u001b[0;32m<ipython-input-21-4fc087b23ade>\u001b[0m in \u001b[0;36m<module>\u001b[0;34m\u001b[0m\n\u001b[0;32m----> 1\u001b[0;31m \u001b[0mdata_unscaled\u001b[0m \u001b[0;34m=\u001b[0m \u001b[0mpd\u001b[0m\u001b[0;34m.\u001b[0m\u001b[0mDataFrame\u001b[0m\u001b[0;34m(\u001b[0m\u001b[0mdata_unscaled\u001b[0m\u001b[0;34m)\u001b[0m\u001b[0;34m\u001b[0m\u001b[0;34m\u001b[0m\u001b[0m\n\u001b[0m",
      "\u001b[0;32m~/.conda/envs/pzflow/lib/python3.7/site-packages/pandas/core/frame.py\u001b[0m in \u001b[0;36m__init__\u001b[0;34m(self, data, index, columns, dtype, copy)\u001b[0m\n\u001b[1;32m    612\u001b[0m         \u001b[0;32melif\u001b[0m \u001b[0misinstance\u001b[0m\u001b[0;34m(\u001b[0m\u001b[0mdata\u001b[0m\u001b[0;34m,\u001b[0m \u001b[0mdict\u001b[0m\u001b[0;34m)\u001b[0m\u001b[0;34m:\u001b[0m\u001b[0;34m\u001b[0m\u001b[0;34m\u001b[0m\u001b[0m\n\u001b[1;32m    613\u001b[0m             \u001b[0;31m# GH#38939 de facto copy defaults to False only in non-dict cases\u001b[0m\u001b[0;34m\u001b[0m\u001b[0;34m\u001b[0m\u001b[0;34m\u001b[0m\u001b[0m\n\u001b[0;32m--> 614\u001b[0;31m             \u001b[0mmgr\u001b[0m \u001b[0;34m=\u001b[0m \u001b[0mdict_to_mgr\u001b[0m\u001b[0;34m(\u001b[0m\u001b[0mdata\u001b[0m\u001b[0;34m,\u001b[0m \u001b[0mindex\u001b[0m\u001b[0;34m,\u001b[0m \u001b[0mcolumns\u001b[0m\u001b[0;34m,\u001b[0m \u001b[0mdtype\u001b[0m\u001b[0;34m=\u001b[0m\u001b[0mdtype\u001b[0m\u001b[0;34m,\u001b[0m \u001b[0mcopy\u001b[0m\u001b[0;34m=\u001b[0m\u001b[0mcopy\u001b[0m\u001b[0;34m,\u001b[0m \u001b[0mtyp\u001b[0m\u001b[0;34m=\u001b[0m\u001b[0mmanager\u001b[0m\u001b[0;34m)\u001b[0m\u001b[0;34m\u001b[0m\u001b[0;34m\u001b[0m\u001b[0m\n\u001b[0m\u001b[1;32m    615\u001b[0m         \u001b[0;32melif\u001b[0m \u001b[0misinstance\u001b[0m\u001b[0;34m(\u001b[0m\u001b[0mdata\u001b[0m\u001b[0;34m,\u001b[0m \u001b[0mma\u001b[0m\u001b[0;34m.\u001b[0m\u001b[0mMaskedArray\u001b[0m\u001b[0;34m)\u001b[0m\u001b[0;34m:\u001b[0m\u001b[0;34m\u001b[0m\u001b[0;34m\u001b[0m\u001b[0m\n\u001b[1;32m    616\u001b[0m             \u001b[0;32mimport\u001b[0m \u001b[0mnumpy\u001b[0m\u001b[0;34m.\u001b[0m\u001b[0mma\u001b[0m\u001b[0;34m.\u001b[0m\u001b[0mmrecords\u001b[0m \u001b[0;32mas\u001b[0m \u001b[0mmrecords\u001b[0m\u001b[0;34m\u001b[0m\u001b[0;34m\u001b[0m\u001b[0m\n",
      "\u001b[0;32m~/.conda/envs/pzflow/lib/python3.7/site-packages/pandas/core/internals/construction.py\u001b[0m in \u001b[0;36mdict_to_mgr\u001b[0;34m(data, index, columns, dtype, typ, copy)\u001b[0m\n\u001b[1;32m    463\u001b[0m \u001b[0;34m\u001b[0m\u001b[0m\n\u001b[1;32m    464\u001b[0m     return arrays_to_mgr(\n\u001b[0;32m--> 465\u001b[0;31m         \u001b[0marrays\u001b[0m\u001b[0;34m,\u001b[0m \u001b[0mdata_names\u001b[0m\u001b[0;34m,\u001b[0m \u001b[0mindex\u001b[0m\u001b[0;34m,\u001b[0m \u001b[0mcolumns\u001b[0m\u001b[0;34m,\u001b[0m \u001b[0mdtype\u001b[0m\u001b[0;34m=\u001b[0m\u001b[0mdtype\u001b[0m\u001b[0;34m,\u001b[0m \u001b[0mtyp\u001b[0m\u001b[0;34m=\u001b[0m\u001b[0mtyp\u001b[0m\u001b[0;34m,\u001b[0m \u001b[0mconsolidate\u001b[0m\u001b[0;34m=\u001b[0m\u001b[0mcopy\u001b[0m\u001b[0;34m\u001b[0m\u001b[0;34m\u001b[0m\u001b[0m\n\u001b[0m\u001b[1;32m    466\u001b[0m     )\n\u001b[1;32m    467\u001b[0m \u001b[0;34m\u001b[0m\u001b[0m\n",
      "\u001b[0;32m~/.conda/envs/pzflow/lib/python3.7/site-packages/pandas/core/internals/construction.py\u001b[0m in \u001b[0;36marrays_to_mgr\u001b[0;34m(arrays, arr_names, index, columns, dtype, verify_integrity, typ, consolidate)\u001b[0m\n\u001b[1;32m    117\u001b[0m         \u001b[0;31m# figure out the index, if necessary\u001b[0m\u001b[0;34m\u001b[0m\u001b[0;34m\u001b[0m\u001b[0;34m\u001b[0m\u001b[0m\n\u001b[1;32m    118\u001b[0m         \u001b[0;32mif\u001b[0m \u001b[0mindex\u001b[0m \u001b[0;32mis\u001b[0m \u001b[0;32mNone\u001b[0m\u001b[0;34m:\u001b[0m\u001b[0;34m\u001b[0m\u001b[0;34m\u001b[0m\u001b[0m\n\u001b[0;32m--> 119\u001b[0;31m             \u001b[0mindex\u001b[0m \u001b[0;34m=\u001b[0m \u001b[0m_extract_index\u001b[0m\u001b[0;34m(\u001b[0m\u001b[0marrays\u001b[0m\u001b[0;34m)\u001b[0m\u001b[0;34m\u001b[0m\u001b[0;34m\u001b[0m\u001b[0m\n\u001b[0m\u001b[1;32m    120\u001b[0m         \u001b[0;32melse\u001b[0m\u001b[0;34m:\u001b[0m\u001b[0;34m\u001b[0m\u001b[0;34m\u001b[0m\u001b[0m\n\u001b[1;32m    121\u001b[0m             \u001b[0mindex\u001b[0m \u001b[0;34m=\u001b[0m \u001b[0mensure_index\u001b[0m\u001b[0;34m(\u001b[0m\u001b[0mindex\u001b[0m\u001b[0;34m)\u001b[0m\u001b[0;34m\u001b[0m\u001b[0;34m\u001b[0m\u001b[0m\n",
      "\u001b[0;32m~/.conda/envs/pzflow/lib/python3.7/site-packages/pandas/core/internals/construction.py\u001b[0m in \u001b[0;36m_extract_index\u001b[0;34m(data)\u001b[0m\n\u001b[1;32m    633\u001b[0m             \u001b[0mlengths\u001b[0m \u001b[0;34m=\u001b[0m \u001b[0mlist\u001b[0m\u001b[0;34m(\u001b[0m\u001b[0mset\u001b[0m\u001b[0;34m(\u001b[0m\u001b[0mraw_lengths\u001b[0m\u001b[0;34m)\u001b[0m\u001b[0;34m)\u001b[0m\u001b[0;34m\u001b[0m\u001b[0;34m\u001b[0m\u001b[0m\n\u001b[1;32m    634\u001b[0m             \u001b[0;32mif\u001b[0m \u001b[0mlen\u001b[0m\u001b[0;34m(\u001b[0m\u001b[0mlengths\u001b[0m\u001b[0;34m)\u001b[0m \u001b[0;34m>\u001b[0m \u001b[0;36m1\u001b[0m\u001b[0;34m:\u001b[0m\u001b[0;34m\u001b[0m\u001b[0;34m\u001b[0m\u001b[0m\n\u001b[0;32m--> 635\u001b[0;31m                 \u001b[0;32mraise\u001b[0m \u001b[0mValueError\u001b[0m\u001b[0;34m(\u001b[0m\u001b[0;34m\"All arrays must be of the same length\"\u001b[0m\u001b[0;34m)\u001b[0m\u001b[0;34m\u001b[0m\u001b[0;34m\u001b[0m\u001b[0m\n\u001b[0m\u001b[1;32m    636\u001b[0m \u001b[0;34m\u001b[0m\u001b[0m\n\u001b[1;32m    637\u001b[0m             \u001b[0;32mif\u001b[0m \u001b[0mhave_dicts\u001b[0m\u001b[0;34m:\u001b[0m\u001b[0;34m\u001b[0m\u001b[0;34m\u001b[0m\u001b[0m\n",
      "\u001b[0;31mValueError\u001b[0m: All arrays must be of the same length"
     ]
    }
   ],
   "source": [
    "data_unscaled = pd.DataFrame(data_unscaled)"
   ]
  },
  {
   "cell_type": "code",
   "execution_count": null,
   "id": "99e9d8fe-866e-4ce8-8088-891af9712808",
   "metadata": {},
   "outputs": [],
   "source": [
    "def f(logmass):\n",
    "    return 2*logmass - 24\n",
    "\n",
    "#get rid of that weird clump M* > 10^10 Msol and logSFR = -5\n",
    "data_unscaled = data_unscaled[onp.asarray((data_unscaled['logSFRtot'] - 9) > f(data_unscaled['logmass']))]\n",
    "# x = np.linspace(6,12)\n",
    "# plt.figure(figsize=(10,7))\n",
    "# plt.plot(data_unscaled['logmass'].values[::30],data_unscaled['logSFRtot'].values[::30]-9,'o', ms=0.1, alpha=0.6)\n",
    "# plt.plot(data_unscaled['logmass'].values[::30],data_unscaled['logSFRtot'].values[::30]-9,'o', c='tab:red', ms=0.1, alpha=0.6)\n",
    "# plt.plot(x, f(x), ls='--', lw=3)"
   ]
  },
  {
   "cell_type": "code",
   "execution_count": null,
   "id": "357e03ec-7afa-412b-a440-9dff67b5ba7f",
   "metadata": {},
   "outputs": [],
   "source": [
    "#data_unscaled['g-r'] = data_unscaled['Mag_true_g_sdss_z0'] - data_unscaled['Mag_true_r_sdss_z0']\n",
    "#data_unscaled['r-i'] = data_unscaled['Mag_true_r_sdss_z0'] - data_unscaled['Mag_true_i_sdss_z0']\n",
    "#data_unscaled['i-z'] = data_unscaled['Mag_true_i_sdss_z0'] - data_unscaled['Mag_true_z_sdss_z0']\n"
   ]
  },
  {
   "cell_type": "code",
   "execution_count": null,
   "id": "3f15295d-f1cc-4684-b44d-ffcfb3893112",
   "metadata": {},
   "outputs": [],
   "source": [
    "# standard scale the reference magnitude and colors\n",
    "data = data_unscaled.copy()\n",
    "for quality in ['logmass', 'logSFRtot', 'mag_true_u_lsst', 'mag_true_g_lsst', 'mag_true_r_lsst', 'mag_true_i_lsst', 'mag_true_z_lsst', 'mag_true_y_lsst']:\n",
    "    data[quality] = (data_unscaled[quality]-data_unscaled[quality].mean())/data_unscaled[quality].std()"
   ]
  },
  {
   "cell_type": "code",
   "execution_count": null,
   "id": "1ea5a1e5-8ccd-4ab9-b3bf-094f5845871e",
   "metadata": {},
   "outputs": [],
   "source": [
    "data = data[['logmass', 'logSFRtot', 'mag_true_u_lsst', 'mag_true_g_lsst', 'mag_true_r_lsst', 'mag_true_i_lsst', 'mag_true_z_lsst', 'mag_true_y_lsst']]"
   ]
  },
  {
   "cell_type": "code",
   "execution_count": null,
   "id": "1c28bf60-6a43-451b-a866-287062275ba9",
   "metadata": {},
   "outputs": [],
   "source": [
    "# input - df: a Dataframe, chunkSize: the chunk size\n",
    "# output - a list of DataFrame\n",
    "# purpose - splits the DataFrame into smaller chunks\n",
    "def split_dataframe(df, chunk_size = 10000): \n",
    "    chunks = list()\n",
    "    num_chunks = len(df) // chunk_size + 1\n",
    "    for i in range(num_chunks):\n",
    "        chunks.append(df[i*chunk_size:(i+1)*chunk_size])\n",
    "    return chunks\n",
    "\n",
    "\n",
    "#split into 100 chunks\n",
    "data_list = split_dataframe(data, chunk_size=int(len(data)/1.e2))"
   ]
  },
  {
   "cell_type": "code",
   "execution_count": null,
   "id": "76a00723-3359-47c7-8a4f-986d953b7498",
   "metadata": {},
   "outputs": [],
   "source": [
    "flow = Flow(file ='../data_files/pzflow_dc2small_nofilter_div1000.pkl')"
   ]
  },
  {
   "cell_type": "code",
   "execution_count": null,
   "id": "067f29a3-bdae-4d69-aa6b-d887c56f6ac8",
   "metadata": {},
   "outputs": [],
   "source": [
    "allSamples = []\n",
    "for chunk in data_list:\n",
    "    samples = flow.sample(1, conditions=chunk, seed=0)\n",
    "    allSamples.append(samples)\n",
    "samples=pd.concat(allSamples)"
   ]
  },
  {
   "cell_type": "code",
   "execution_count": null,
   "id": "ea8d0980-560c-43f9-a74f-e0cf6aef7b46",
   "metadata": {},
   "outputs": [],
   "source": [
    "len(samples)"
   ]
  },
  {
   "cell_type": "code",
   "execution_count": null,
   "id": "1da294be-188c-4e51-b4cb-a343f7689730",
   "metadata": {},
   "outputs": [],
   "source": [
    "data_unscaled['DC2redshift'] = data_unscaled['redshift'].values\n",
    "data_unscaled['PZflowredshift'] = samples['redshift'].values\n",
    "\n",
    "#data_unscaled['DC2SFRtot'] = 10**(data_unscaled['logSFRtot'].values)\n",
    "#data_unscaled['PZflowSFRtot'] = 10**(samples['logSFRtot'].values)\n",
    "\n",
    "data_unscaled['stellar_mass'] = 10**(data_unscaled['logmass'].values)\n",
    "del data_unscaled['redshift']\n",
    "del data_unscaled['logSFRtot']\n",
    "del data_unscaled['logmass']"
   ]
  },
  {
   "cell_type": "code",
   "execution_count": null,
   "id": "fbffe4f1-c6d7-41a7-a862-7ac1da535182",
   "metadata": {},
   "outputs": [],
   "source": [
    "# quality cuts\n",
    "data_unscaled = data_unscaled[(data_unscaled['PZflowredshift']>=0.0) & (data_unscaled['PZflowredshift']<=1.0)]\n",
    "#data_unscaled = data_unscaled[(data_unscaled['PZflowSFRtot'] > 1.e1) & (data_unscaled['PZflowSFRtot'] < 1.e10)]\n",
    "#data_unscaled.to_csv(\"/global/cscratch1/sd/mlokken/sn_hostenv/DC2_pzRedshifts_SFR_0to50.csv\",index=False)"
   ]
  },
  {
   "cell_type": "code",
   "execution_count": null,
   "id": "fe14bf24-34df-4172-b07c-e788d1edf4db",
   "metadata": {},
   "outputs": [],
   "source": [
    "plt.figure(figsize=(10,7))\n",
    "plt.plot(samples['redshift'], samples['logSFRtot'], 'o', ms=0.08)\n",
    "plt.xlabel(\"Redshift\")\n",
    "plt.ylabel(\"logSFRtot\")\n",
    "#plt.savefig(\"SFR_vs_Redshift_pzFlowOnly.png\",dpi=300, bbox_inches='tight')"
   ]
  },
  {
   "cell_type": "code",
   "execution_count": null,
   "id": "49e2e68f-5d48-4afd-aca5-fb9e9d157431",
   "metadata": {},
   "outputs": [],
   "source": [
    "#consider how to make the cuts here "
   ]
  },
  {
   "cell_type": "code",
   "execution_count": null,
   "id": "be5c038c-3c6e-4303-8ed4-c2b94dc68890",
   "metadata": {},
   "outputs": [],
   "source": [
    "samples_small = samples[(samples['mag_true_r_lsst'] < -2.) & (samples['mag_true_r_lsst'] > -3.)]\n",
    "data_full_small = data[(data['mag_true_r_lsst'] < -2.) & (data['mag_true_r_lsst'] > -3.)]"
   ]
  },
  {
   "cell_type": "code",
   "execution_count": null,
   "id": "16d83876-317a-485b-986f-0247b750c985",
   "metadata": {},
   "outputs": [],
   "source": [
    "plt.figure(figsize=(10,7))\n",
    "plt.plot(data_full_small['redshift'], data_full_small['logSFRtot'], 'o', ms=0.05, label='DC2', c='k')\n",
    "plt.plot(samples_small['redshift'], samples_small['logSFRtot'], 'o', ms=0.05, label='pzflow')\n",
    "plt.xlim((0, 1.0))\n",
    "plt.ylim((4, 10.0))\n",
    "plt.xlabel(\"Redshift\")\n",
    "plt.ylabel(\"logSFRtot\")\n",
    "plt.legend(fontsize=16, loc='upper right')\n",
    "#plt.savefig(\"SFR_vs_Redshift_pzFlow.png\",dpi=300, bbox_inches='tight')"
   ]
  },
  {
   "cell_type": "code",
   "execution_count": null,
   "id": "b04b6c11-40f9-4f5b-bec8-7b4695170513",
   "metadata": {},
   "outputs": [],
   "source": [
    "#plot them again, separately \n",
    "plt.figure(figsize=(10,7))\n",
    "plt.plot(samples_small['redshift'], samples_small['logSFRtot'], 'o', ms=0.05, c='k', label='pzflow')\n",
    "plt.xlim((0, 1.0))\n",
    "plt.ylim((4, 10.0))\n",
    "plt.xlabel(\"Redshift\")\n",
    "plt.ylabel(\"logSFRtot\")\n",
    "#plt.savefig(\"SFR_vs_Redshift_justPZFlow.png\",dpi=300, bbox_inches='tight')"
   ]
  },
  {
   "cell_type": "code",
   "execution_count": null,
   "id": "9fb70ec6-54b9-40af-a57c-08c3530257e3",
   "metadata": {},
   "outputs": [],
   "source": [
    "#plot them again, separately \n",
    "plt.figure(figsize=(10,7))\n",
    "plt.plot(data_full_small['redshift'], data_full_small['logSFRtot'], 'o', ms=0.05, label='DC2', c='k')\n",
    "plt.xlim((0, 1.0))\n",
    "plt.ylim((4, 10.0))\n",
    "plt.xlabel(\"Redshift\")\n",
    "plt.ylabel(\"logSFRtot\")\n",
    "#plt.savefig(\"SFR_vs_Redshift_justDC2.png\",dpi=300, bbox_inches='tight')"
   ]
  },
  {
   "cell_type": "code",
   "execution_count": null,
   "id": "f5466661-92eb-49f1-89cb-9b2167dbccf4",
   "metadata": {},
   "outputs": [],
   "source": [
    "#plt.figure(figsize=(10,7))\n",
    "#plt.hist(samples['logSFRtot'].values - data['logSFRtot'].values, bins=500, density=True);\n",
    "##plt.hist(r, bins=500, density=True, lw=3,fill=False, color='k', histtype='step');\n",
    "#plt.axvline(x=0, c='r')\n",
    "#plt.xlim((-3, 3))\n",
    "#plt.xlabel(r\"$logSFRtot_{pred} - logSFRtot_{DC2}$\");\n",
    "#plt.savefig(\"SFRtotPred_vs_SFRtotDC2_conditionalFlow_wSFRtot.png\",dpi=300, bbox_inches='tight')"
   ]
  },
  {
   "cell_type": "code",
   "execution_count": null,
   "id": "0d5a12ec-07d7-409b-ae9a-c2a7f1b9be56",
   "metadata": {},
   "outputs": [],
   "source": [
    "plt.figure(figsize=(10,7))\n",
    "plt.hist(samples['redshift'].sample(n=20000).values - data['redshift'].sample(n=20000).values, bins=500, density=True);\n",
    "#plt.hist(r, bins=500, density=True, lw=3,fill=False, color='k', histtype='step');\n",
    "#plt.axvline(x=0, c='r')\n",
    "plt.xlim((-0.7, 0.7))\n",
    "plt.xlabel(r\"$z_{pred} - z_{DC2}$\");\n",
    "#plt.savefig(\"zPred_vs_zDC2_conditionalFlow_wSFRtot.png\",dpi=300, bbox_inches='tight')"
   ]
  }
 ],
 "metadata": {
  "kernelspec": {
   "display_name": "pzflow",
   "language": "python",
   "name": "pzflow"
  },
  "language_info": {
   "codemirror_mode": {
    "name": "ipython",
    "version": 3
   },
   "file_extension": ".py",
   "mimetype": "text/x-python",
   "name": "python",
   "nbconvert_exporter": "python",
   "pygments_lexer": "ipython3",
   "version": "3.7.6"
  }
 },
 "nbformat": 4,
 "nbformat_minor": 5
}
