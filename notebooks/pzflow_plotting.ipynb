{
 "cells": [
  {
   "cell_type": "code",
   "execution_count": 1,
   "id": "0729a7ab-7b79-483f-a94d-47cc306f38fc",
   "metadata": {},
   "outputs": [],
   "source": [
    "import numpy as np \n",
    "import pandas as pd \n",
    "import seaborn as sns\n",
    "import matplotlib.pyplot as plt "
   ]
  },
  {
   "cell_type": "code",
   "execution_count": 6,
   "id": "83ef5a2d-2131-4a1a-9084-f16d2474169f",
   "metadata": {
    "tags": []
   },
   "outputs": [
    {
     "ename": "FileNotFoundError",
     "evalue": "[Errno 2] No such file or directory: '/global/homes/a/agaglian/data_files/DC2full_pzRedshifts_SFR_39iter.csv'",
     "output_type": "error",
     "traceback": [
      "\u001b[0;31m---------------------------------------------------------------------------\u001b[0m",
      "\u001b[0;31mFileNotFoundError\u001b[0m                         Traceback (most recent call last)",
      "\u001b[0;32m<ipython-input-6-700bfcc37965>\u001b[0m in \u001b[0;36m<module>\u001b[0;34m\u001b[0m\n\u001b[0;32m----> 1\u001b[0;31m \u001b[0mfullDF\u001b[0m \u001b[0;34m=\u001b[0m \u001b[0mpd\u001b[0m\u001b[0;34m.\u001b[0m\u001b[0mread_csv\u001b[0m\u001b[0;34m(\u001b[0m\u001b[0;34m\"/global/homes/a/agaglian/data_files/DC2full_pzRedshifts_SFR_39iter.csv\"\u001b[0m\u001b[0;34m)\u001b[0m\u001b[0;34m\u001b[0m\u001b[0;34m\u001b[0m\u001b[0m\n\u001b[0m",
      "\u001b[0;32m~/.conda/envs/pzflow/lib/python3.7/site-packages/pandas/io/parsers.py\u001b[0m in \u001b[0;36mread_csv\u001b[0;34m(filepath_or_buffer, sep, delimiter, header, names, index_col, usecols, squeeze, prefix, mangle_dupe_cols, dtype, engine, converters, true_values, false_values, skipinitialspace, skiprows, skipfooter, nrows, na_values, keep_default_na, na_filter, verbose, skip_blank_lines, parse_dates, infer_datetime_format, keep_date_col, date_parser, dayfirst, cache_dates, iterator, chunksize, compression, thousands, decimal, lineterminator, quotechar, quoting, doublequote, escapechar, comment, encoding, dialect, error_bad_lines, warn_bad_lines, delim_whitespace, low_memory, memory_map, float_precision)\u001b[0m\n\u001b[1;32m    684\u001b[0m     )\n\u001b[1;32m    685\u001b[0m \u001b[0;34m\u001b[0m\u001b[0m\n\u001b[0;32m--> 686\u001b[0;31m     \u001b[0;32mreturn\u001b[0m \u001b[0m_read\u001b[0m\u001b[0;34m(\u001b[0m\u001b[0mfilepath_or_buffer\u001b[0m\u001b[0;34m,\u001b[0m \u001b[0mkwds\u001b[0m\u001b[0;34m)\u001b[0m\u001b[0;34m\u001b[0m\u001b[0;34m\u001b[0m\u001b[0m\n\u001b[0m\u001b[1;32m    687\u001b[0m \u001b[0;34m\u001b[0m\u001b[0m\n\u001b[1;32m    688\u001b[0m \u001b[0;34m\u001b[0m\u001b[0m\n",
      "\u001b[0;32m~/.conda/envs/pzflow/lib/python3.7/site-packages/pandas/io/parsers.py\u001b[0m in \u001b[0;36m_read\u001b[0;34m(filepath_or_buffer, kwds)\u001b[0m\n\u001b[1;32m    450\u001b[0m \u001b[0;34m\u001b[0m\u001b[0m\n\u001b[1;32m    451\u001b[0m     \u001b[0;31m# Create the parser.\u001b[0m\u001b[0;34m\u001b[0m\u001b[0;34m\u001b[0m\u001b[0;34m\u001b[0m\u001b[0m\n\u001b[0;32m--> 452\u001b[0;31m     \u001b[0mparser\u001b[0m \u001b[0;34m=\u001b[0m \u001b[0mTextFileReader\u001b[0m\u001b[0;34m(\u001b[0m\u001b[0mfp_or_buf\u001b[0m\u001b[0;34m,\u001b[0m \u001b[0;34m**\u001b[0m\u001b[0mkwds\u001b[0m\u001b[0;34m)\u001b[0m\u001b[0;34m\u001b[0m\u001b[0;34m\u001b[0m\u001b[0m\n\u001b[0m\u001b[1;32m    453\u001b[0m \u001b[0;34m\u001b[0m\u001b[0m\n\u001b[1;32m    454\u001b[0m     \u001b[0;32mif\u001b[0m \u001b[0mchunksize\u001b[0m \u001b[0;32mor\u001b[0m \u001b[0miterator\u001b[0m\u001b[0;34m:\u001b[0m\u001b[0;34m\u001b[0m\u001b[0;34m\u001b[0m\u001b[0m\n",
      "\u001b[0;32m~/.conda/envs/pzflow/lib/python3.7/site-packages/pandas/io/parsers.py\u001b[0m in \u001b[0;36m__init__\u001b[0;34m(self, f, engine, **kwds)\u001b[0m\n\u001b[1;32m    934\u001b[0m             \u001b[0mself\u001b[0m\u001b[0;34m.\u001b[0m\u001b[0moptions\u001b[0m\u001b[0;34m[\u001b[0m\u001b[0;34m\"has_index_names\"\u001b[0m\u001b[0;34m]\u001b[0m \u001b[0;34m=\u001b[0m \u001b[0mkwds\u001b[0m\u001b[0;34m[\u001b[0m\u001b[0;34m\"has_index_names\"\u001b[0m\u001b[0;34m]\u001b[0m\u001b[0;34m\u001b[0m\u001b[0;34m\u001b[0m\u001b[0m\n\u001b[1;32m    935\u001b[0m \u001b[0;34m\u001b[0m\u001b[0m\n\u001b[0;32m--> 936\u001b[0;31m         \u001b[0mself\u001b[0m\u001b[0;34m.\u001b[0m\u001b[0m_make_engine\u001b[0m\u001b[0;34m(\u001b[0m\u001b[0mself\u001b[0m\u001b[0;34m.\u001b[0m\u001b[0mengine\u001b[0m\u001b[0;34m)\u001b[0m\u001b[0;34m\u001b[0m\u001b[0;34m\u001b[0m\u001b[0m\n\u001b[0m\u001b[1;32m    937\u001b[0m \u001b[0;34m\u001b[0m\u001b[0m\n\u001b[1;32m    938\u001b[0m     \u001b[0;32mdef\u001b[0m \u001b[0mclose\u001b[0m\u001b[0;34m(\u001b[0m\u001b[0mself\u001b[0m\u001b[0;34m)\u001b[0m\u001b[0;34m:\u001b[0m\u001b[0;34m\u001b[0m\u001b[0;34m\u001b[0m\u001b[0m\n",
      "\u001b[0;32m~/.conda/envs/pzflow/lib/python3.7/site-packages/pandas/io/parsers.py\u001b[0m in \u001b[0;36m_make_engine\u001b[0;34m(self, engine)\u001b[0m\n\u001b[1;32m   1166\u001b[0m     \u001b[0;32mdef\u001b[0m \u001b[0m_make_engine\u001b[0m\u001b[0;34m(\u001b[0m\u001b[0mself\u001b[0m\u001b[0;34m,\u001b[0m \u001b[0mengine\u001b[0m\u001b[0;34m=\u001b[0m\u001b[0;34m\"c\"\u001b[0m\u001b[0;34m)\u001b[0m\u001b[0;34m:\u001b[0m\u001b[0;34m\u001b[0m\u001b[0;34m\u001b[0m\u001b[0m\n\u001b[1;32m   1167\u001b[0m         \u001b[0;32mif\u001b[0m \u001b[0mengine\u001b[0m \u001b[0;34m==\u001b[0m \u001b[0;34m\"c\"\u001b[0m\u001b[0;34m:\u001b[0m\u001b[0;34m\u001b[0m\u001b[0;34m\u001b[0m\u001b[0m\n\u001b[0;32m-> 1168\u001b[0;31m             \u001b[0mself\u001b[0m\u001b[0;34m.\u001b[0m\u001b[0m_engine\u001b[0m \u001b[0;34m=\u001b[0m \u001b[0mCParserWrapper\u001b[0m\u001b[0;34m(\u001b[0m\u001b[0mself\u001b[0m\u001b[0;34m.\u001b[0m\u001b[0mf\u001b[0m\u001b[0;34m,\u001b[0m \u001b[0;34m**\u001b[0m\u001b[0mself\u001b[0m\u001b[0;34m.\u001b[0m\u001b[0moptions\u001b[0m\u001b[0;34m)\u001b[0m\u001b[0;34m\u001b[0m\u001b[0;34m\u001b[0m\u001b[0m\n\u001b[0m\u001b[1;32m   1169\u001b[0m         \u001b[0;32melse\u001b[0m\u001b[0;34m:\u001b[0m\u001b[0;34m\u001b[0m\u001b[0;34m\u001b[0m\u001b[0m\n\u001b[1;32m   1170\u001b[0m             \u001b[0;32mif\u001b[0m \u001b[0mengine\u001b[0m \u001b[0;34m==\u001b[0m \u001b[0;34m\"python\"\u001b[0m\u001b[0;34m:\u001b[0m\u001b[0;34m\u001b[0m\u001b[0;34m\u001b[0m\u001b[0m\n",
      "\u001b[0;32m~/.conda/envs/pzflow/lib/python3.7/site-packages/pandas/io/parsers.py\u001b[0m in \u001b[0;36m__init__\u001b[0;34m(self, src, **kwds)\u001b[0m\n\u001b[1;32m   1996\u001b[0m         \u001b[0mkwds\u001b[0m\u001b[0;34m[\u001b[0m\u001b[0;34m\"usecols\"\u001b[0m\u001b[0;34m]\u001b[0m \u001b[0;34m=\u001b[0m \u001b[0mself\u001b[0m\u001b[0;34m.\u001b[0m\u001b[0musecols\u001b[0m\u001b[0;34m\u001b[0m\u001b[0;34m\u001b[0m\u001b[0m\n\u001b[1;32m   1997\u001b[0m \u001b[0;34m\u001b[0m\u001b[0m\n\u001b[0;32m-> 1998\u001b[0;31m         \u001b[0mself\u001b[0m\u001b[0;34m.\u001b[0m\u001b[0m_reader\u001b[0m \u001b[0;34m=\u001b[0m \u001b[0mparsers\u001b[0m\u001b[0;34m.\u001b[0m\u001b[0mTextReader\u001b[0m\u001b[0;34m(\u001b[0m\u001b[0msrc\u001b[0m\u001b[0;34m,\u001b[0m \u001b[0;34m**\u001b[0m\u001b[0mkwds\u001b[0m\u001b[0;34m)\u001b[0m\u001b[0;34m\u001b[0m\u001b[0;34m\u001b[0m\u001b[0m\n\u001b[0m\u001b[1;32m   1999\u001b[0m         \u001b[0mself\u001b[0m\u001b[0;34m.\u001b[0m\u001b[0munnamed_cols\u001b[0m \u001b[0;34m=\u001b[0m \u001b[0mself\u001b[0m\u001b[0;34m.\u001b[0m\u001b[0m_reader\u001b[0m\u001b[0;34m.\u001b[0m\u001b[0munnamed_cols\u001b[0m\u001b[0;34m\u001b[0m\u001b[0;34m\u001b[0m\u001b[0m\n\u001b[1;32m   2000\u001b[0m \u001b[0;34m\u001b[0m\u001b[0m\n",
      "\u001b[0;32mpandas/_libs/parsers.pyx\u001b[0m in \u001b[0;36mpandas._libs.parsers.TextReader.__cinit__\u001b[0;34m()\u001b[0m\n",
      "\u001b[0;32mpandas/_libs/parsers.pyx\u001b[0m in \u001b[0;36mpandas._libs.parsers.TextReader._setup_parser_source\u001b[0;34m()\u001b[0m\n",
      "\u001b[0;31mFileNotFoundError\u001b[0m: [Errno 2] No such file or directory: '/global/homes/a/agaglian/data_files/DC2full_pzRedshifts_SFR_39iter.csv'"
     ]
    }
   ],
   "source": [
    "fullDF = pd.read_csv(\"/global/homes/a/agaglian/data_files/DC2full_pzRedshifts_SFR_39iter.csv\")"
   ]
  },
  {
   "cell_type": "code",
   "execution_count": null,
   "id": "181b91e5-b4a3-4d3b-8678-d5ee841f3d5a",
   "metadata": {},
   "outputs": [],
   "source": [
    "cosmo=GCRCatalogs.load_catalog(\"cosmoDC2_v1.1.4_image_with_photozs_v1\")"
   ]
  },
  {
   "cell_type": "code",
   "execution_count": null,
   "id": "da105046-9d94-4e05-9a0c-246d9c33e462",
   "metadata": {},
   "outputs": [],
   "source": [
    "quantities = ['galaxy_id', 'redshift', 'ra', 'dec','mag_true_g_lsst', 'mag_true_r_lsst', 'mag_true_i_lsst', 'mag_true_z_lsst', 'Mag_true_g_sdss_z0', 'Mag_true_r_sdss_z0', 'Mag_true_i_sdss_z0', 'Mag_true_z_sdss_z0', \n",
    "     'size_true', 'size_minor_true', 'morphology/totalSersicIndex', \n",
    "     'morphology/totalEllipticity', 'baseDC2/sfr', 'stellar_mass', 'totalStarFormationRate', 'position_angle_true', 'mag_err_u_photoz', 'mag_err_g_photoz', 'mag_err_r_photoz', 'mag_err_i_photoz', 'mag_err_z_photoz', 'mag_err_y_photoz']\n",
    "filters=['redshift<1', 'Mag_true_r_sdss_z0<-15.']"
   ]
  },
  {
   "cell_type": "code",
   "execution_count": null,
   "id": "97219272-6d58-43fe-9211-957365cbe219",
   "metadata": {},
   "outputs": [],
   "source": [
    "start_time = timeit.default_timer()\n",
    "logsfrtot = []\n",
    "redshift  = []\n",
    "sersic    = []\n",
    "size      = []\n",
    "logmass   = []\n",
    "g = []\n",
    "r = []\n",
    "i = []\n",
    "z = []\n",
    "galid = []\n",
    "ra = []\n",
    "dec = []\n",
    "ellip = []\n",
    "\n",
    "c = 0\n",
    "for gal in cosmo.get_quantities(quantities, filters, return_iterator=True):\n",
    "    logsfrtot.append(np.log10(gal['totalStarFormationRate']))\n",
    "    redshift.append(gal['redshift'])\n",
    "    sersic.append(gal['morphology/totalSersicIndex'])\n",
    "    size.append(gal['size_true'])\n",
    "    logmass.append(np.log10(gal['stellar_mass']))\n",
    "    g.append(gal['Mag_true_g_sdss_z0'])\n",
    "    r.append(gal['Mag_true_r_sdss_z0'])\n",
    "    i.append(gal['Mag_true_i_sdss_z0'])\n",
    "    z.append(gal['Mag_true_z_sdss_z0'])\n",
    "    galid.append(gal['galaxy_id'])\n",
    "    ra.append(gal['ra'])\n",
    "    dec.append(gal['dec'])\n",
    "    ellip.append(gal['morphology/totalEllipticity'])\n",
    "    elapsed = timeit.default_timer() - start_time\n",
    "    print(c, \"Elapsed time = \", elapsed)\n",
    "    if c==50:\n",
    "        break\n",
    "    c+=1"
   ]
  },
  {
   "cell_type": "code",
   "execution_count": null,
   "id": "28268947-a3cf-4fdb-b78f-9f5fe76a8b59",
   "metadata": {},
   "outputs": [],
   "source": [
    "data_unscaled = {}\n",
    "data_unscaled['logSFRtot'] = onp.concatenate(logsfrtot)\n",
    "data_unscaled['redshift']  = onp.concatenate(redshift)\n",
    "data_unscaled['morphology/totalSersicIndex'] = onp.concatenate(sersic)\n",
    "data_unscaled['size_true'] = onp.concatenate(size)\n",
    "data_unscaled['logmass'] = onp.concatenate(logmass)\n",
    "data_unscaled['Mag_true_g_sdss_z0']  = onp.concatenate(g)\n",
    "data_unscaled['Mag_true_r_sdss_z0']  = onp.concatenate(r)\n",
    "data_unscaled['Mag_true_i_sdss_z0']  = onp.concatenate(i)\n",
    "data_unscaled['Mag_true_z_sdss_z0']  = onp.concatenate(z)\n",
    "data_unscaled['galaxy_id'] = onp.concatenate(galid)\n",
    "data_unscaled['ra'] = onp.concatenate(ra)\n",
    "data_unscaled['dec'] = onp.concatenate(dec)\n",
    "data_unscaled['morphology/totalEllipticity'] = onp.concatenate(ellip)"
   ]
  },
  {
   "cell_type": "code",
   "execution_count": null,
   "id": "c62e39ea-16cc-4a07-b59a-d974f2816116",
   "metadata": {},
   "outputs": [],
   "source": [
    "data_unscaled = pd.DataFrame(data_unscaled)"
   ]
  },
  {
   "cell_type": "code",
   "execution_count": null,
   "id": "99e9d8fe-866e-4ce8-8088-891af9712808",
   "metadata": {},
   "outputs": [],
   "source": [
    "def f(logmass):\n",
    "    return 2*logmass - 24\n",
    "\n",
    "#get rid of that weird clump M* > 10^10 Msol and logSFR = -5\n",
    "data_unscaled = data_unscaled[onp.asarray((data_unscaled['logSFRtot'] - 9) > f(data_unscaled['logmass']))]\n",
    "# x = np.linspace(6,12)\n",
    "# plt.figure(figsize=(10,7))\n",
    "# plt.plot(data_unscaled['logmass'].values[::30],data_unscaled['logSFRtot'].values[::30]-9,'o', ms=0.1, alpha=0.6)\n",
    "# plt.plot(data_unscaled['logmass'].values[::30],data_unscaled['logSFRtot'].values[::30]-9,'o', c='tab:red', ms=0.1, alpha=0.6)\n",
    "# plt.plot(x, f(x), ls='--', lw=3)"
   ]
  },
  {
   "cell_type": "code",
   "execution_count": null,
   "id": "357e03ec-7afa-412b-a440-9dff67b5ba7f",
   "metadata": {},
   "outputs": [],
   "source": [
    "data_unscaled['g-r'] = data_unscaled['Mag_true_g_sdss_z0'] - data_unscaled['Mag_true_r_sdss_z0']\n",
    "data_unscaled['r-i'] = data_unscaled['Mag_true_r_sdss_z0'] - data_unscaled['Mag_true_i_sdss_z0']\n",
    "data_unscaled['i-z'] = data_unscaled['Mag_true_i_sdss_z0'] - data_unscaled['Mag_true_z_sdss_z0']\n"
   ]
  },
  {
   "cell_type": "code",
   "execution_count": null,
   "id": "3f15295d-f1cc-4684-b44d-ffcfb3893112",
   "metadata": {},
   "outputs": [],
   "source": [
    "# standard scale the reference magnitude and colors\n",
    "data = data_unscaled.copy()\n",
    "for quality in ['morphology/totalSersicIndex', 'size_true',\n",
    "        'logmass', 'Mag_true_g_sdss_z0', 'Mag_true_r_sdss_z0', 'Mag_true_i_sdss_z0', 'Mag_true_z_sdss_z0', 'g-r', 'r-i', 'i-z']:\n",
    "    data[quality] = (data_unscaled[quality]-data_unscaled[quality].mean())/data_unscaled[quality].std()"
   ]
  },
  {
   "cell_type": "code",
   "execution_count": null,
   "id": "1ea5a1e5-8ccd-4ab9-b3bf-094f5845871e",
   "metadata": {},
   "outputs": [],
   "source": [
    "data = data[['redshift', 'logSFRtot', 'morphology/totalSersicIndex', 'size_true',\n",
    "        'logmass', 'Mag_true_g_sdss_z0', 'Mag_true_r_sdss_z0', 'Mag_true_i_sdss_z0', 'Mag_true_z_sdss_z0', 'g-r', 'r-i', 'i-z']]"
   ]
  },
  {
   "cell_type": "code",
   "execution_count": null,
   "id": "1c28bf60-6a43-451b-a866-287062275ba9",
   "metadata": {},
   "outputs": [],
   "source": [
    "# input - df: a Dataframe, chunkSize: the chunk size\n",
    "# output - a list of DataFrame\n",
    "# purpose - splits the DataFrame into smaller chunks\n",
    "def split_dataframe(df, chunk_size = 10000): \n",
    "    chunks = list()\n",
    "    num_chunks = len(df) // chunk_size + 1\n",
    "    for i in range(num_chunks):\n",
    "        chunks.append(df[i*chunk_size:(i+1)*chunk_size])\n",
    "    return chunks\n",
    "\n",
    "\n",
    "#split into 100 chunks\n",
    "data_list = split_dataframe(data, chunk_size=int(len(data)/1.e2))"
   ]
  },
  {
   "cell_type": "code",
   "execution_count": null,
   "id": "76a00723-3359-47c7-8a4f-986d953b7498",
   "metadata": {},
   "outputs": [],
   "source": [
    "flow = Flow(file ='../data_files/pzflow_dc2small_1hundredth.pkl')"
   ]
  },
  {
   "cell_type": "code",
   "execution_count": null,
   "id": "067f29a3-bdae-4d69-aa6b-d887c56f6ac8",
   "metadata": {},
   "outputs": [],
   "source": [
    "allSamples = []\n",
    "for chunk in data_list:\n",
    "    samples = flow.sample(1, conditions=chunk, seed=0)\n",
    "    allSamples.append(samples)\n",
    "samples=pd.concat(allSamples)\n"
   ]
  },
  {
   "cell_type": "code",
   "execution_count": null,
   "id": "ea8d0980-560c-43f9-a74f-e0cf6aef7b46",
   "metadata": {},
   "outputs": [],
   "source": [
    "len(samples)"
   ]
  },
  {
   "cell_type": "code",
   "execution_count": null,
   "id": "1da294be-188c-4e51-b4cb-a343f7689730",
   "metadata": {},
   "outputs": [],
   "source": [
    "data_unscaled['DC2redshift'] = data_unscaled['redshift'].values\n",
    "data_unscaled['PZflowredshift'] = samples['redshift'].values\n",
    "\n",
    "data_unscaled['DC2SFRtot'] = 10**(data_unscaled['logSFRtot'].values)\n",
    "data_unscaled['PZflowSFRtot'] = 10**(samples['logSFRtot'].values)\n",
    "\n",
    "data_unscaled['stellar_mass'] = 10**(data_unscaled['logmass'].values)\n",
    "del data_unscaled['redshift']\n",
    "del data_unscaled['logSFRtot']\n",
    "del data_unscaled['logmass']"
   ]
  },
  {
   "cell_type": "code",
   "execution_count": null,
   "id": "fbffe4f1-c6d7-41a7-a862-7ac1da535182",
   "metadata": {},
   "outputs": [],
   "source": [
    "# quality cuts\n",
    "data_unscaled = data_unscaled[(data_unscaled['PZflowredshift']>=0.0) & (data_unscaled['PZflowredshift']<=1.0)]\n",
    "data_unscaled = data_unscaled[(data_unscaled['PZflowSFRtot'] > 1.e1) & (data_unscaled['PZflowSFRtot'] < 1.e10)]\n",
    "data_unscaled.to_csv(\"/global/cscratch1/sd/mlokken/sn_hostenv/DC2_pzRedshifts_SFR_0to50.csv\",index=False)"
   ]
  },
  {
   "cell_type": "code",
   "execution_count": null,
   "id": "fe14bf24-34df-4172-b07c-e788d1edf4db",
   "metadata": {},
   "outputs": [],
   "source": [
    "plt.figure(figsize=(10,7))\n",
    "plt.plot(samples['redshift'], samples['logSFRtot'], 'o', ms=0.08)\n",
    "plt.xlabel(\"Redshift\")\n",
    "plt.ylabel(\"logSFRtot\")\n",
    "#plt.savefig(\"SFR_vs_Redshift_pzFlowOnly.png\",dpi=300, bbox_inches='tight')"
   ]
  },
  {
   "cell_type": "code",
   "execution_count": null,
   "id": "be5c038c-3c6e-4303-8ed4-c2b94dc68890",
   "metadata": {},
   "outputs": [],
   "source": [
    "samples_small = samples[(samples['Mag_true_r_sdss_z0'] < -2.) & (samples['Mag_true_r_sdss_z0'] > -3.)]\n",
    "data_full_small = data[(data['Mag_true_r_sdss_z0'] < -2.) & (data['Mag_true_r_sdss_z0'] > -3.)]"
   ]
  },
  {
   "cell_type": "code",
   "execution_count": null,
   "id": "16d83876-317a-485b-986f-0247b750c985",
   "metadata": {},
   "outputs": [],
   "source": [
    "plt.figure(figsize=(10,7))\n",
    "plt.plot(data_full_small['redshift'], data_full_small['logSFRtot'], 'o', ms=0.05, label='DC2', c='k')\n",
    "plt.plot(samples_small['redshift'], samples_small['logSFRtot'], 'o', ms=0.05, label='pzflow')\n",
    "plt.xlim((0, 1.0))\n",
    "plt.ylim((4, 10.0))\n",
    "plt.xlabel(\"Redshift\")\n",
    "plt.ylabel(\"logSFRtot\")\n",
    "plt.legend(fontsize=16, loc='upper right')\n",
    "#plt.savefig(\"SFR_vs_Redshift_pzFlow.png\",dpi=300, bbox_inches='tight')"
   ]
  },
  {
   "cell_type": "code",
   "execution_count": null,
   "id": "b04b6c11-40f9-4f5b-bec8-7b4695170513",
   "metadata": {},
   "outputs": [],
   "source": [
    "#plot them again, separately \n",
    "plt.figure(figsize=(10,7))\n",
    "plt.plot(samples_small['redshift'], samples_small['logSFRtot'], 'o', ms=0.05, c='k', label='pzflow')\n",
    "plt.xlim((0, 1.0))\n",
    "plt.ylim((4, 10.0))\n",
    "plt.xlabel(\"Redshift\")\n",
    "plt.ylabel(\"logSFRtot\")\n",
    "#plt.savefig(\"SFR_vs_Redshift_justPZFlow.png\",dpi=300, bbox_inches='tight')"
   ]
  },
  {
   "cell_type": "code",
   "execution_count": null,
   "id": "9fb70ec6-54b9-40af-a57c-08c3530257e3",
   "metadata": {},
   "outputs": [],
   "source": [
    "#plot them again, separately \n",
    "plt.figure(figsize=(10,7))\n",
    "plt.plot(data_full_small['redshift'], data_full_small['logSFRtot'], 'o', ms=0.05, label='DC2', c='k')\n",
    "plt.xlim((0, 1.0))\n",
    "plt.ylim((4, 10.0))\n",
    "plt.xlabel(\"Redshift\")\n",
    "plt.ylabel(\"logSFRtot\")\n",
    "#plt.savefig(\"SFR_vs_Redshift_justDC2.png\",dpi=300, bbox_inches='tight')"
   ]
  },
  {
   "cell_type": "code",
   "execution_count": null,
   "id": "f5466661-92eb-49f1-89cb-9b2167dbccf4",
   "metadata": {},
   "outputs": [],
   "source": [
    "plt.figure(figsize=(10,7))\n",
    "plt.hist(samples['logSFRtot'].values - data['logSFRtot'].values, bins=500, density=True);\n",
    "#plt.hist(r, bins=500, density=True, lw=3,fill=False, color='k', histtype='step');\n",
    "plt.axvline(x=0, c='r')\n",
    "plt.xlim((-3, 3))\n",
    "plt.xlabel(r\"$logSFRtot_{pred} - logSFRtot_{DC2}$\");\n",
    "#plt.savefig(\"SFRtotPred_vs_SFRtotDC2_conditionalFlow_wSFRtot.png\",dpi=300, bbox_inches='tight')"
   ]
  },
  {
   "cell_type": "code",
   "execution_count": null,
   "id": "0d5a12ec-07d7-409b-ae9a-c2a7f1b9be56",
   "metadata": {},
   "outputs": [],
   "source": [
    "plt.figure(figsize=(10,7))\n",
    "plt.hist(samples['redshift'].sample(n=20000).values - data['redshift'].sample(n=20000).values, bins=500, density=True);\n",
    "#plt.hist(r, bins=500, density=True, lw=3,fill=False, color='k', histtype='step');\n",
    "#plt.axvline(x=0, c='r')\n",
    "plt.xlim((-0.7, 0.7))\n",
    "plt.xlabel(r\"$z_{pred} - z_{DC2}$\");\n",
    "#plt.savefig(\"zPred_vs_zDC2_conditionalFlow_wSFRtot.png\",dpi=300, bbox_inches='tight')"
   ]
  }
 ],
 "metadata": {
  "kernelspec": {
   "display_name": "pzflow",
   "language": "python",
   "name": "pzflow"
  },
  "language_info": {
   "codemirror_mode": {
    "name": "ipython",
    "version": 3
   },
   "file_extension": ".py",
   "mimetype": "text/x-python",
   "name": "python",
   "nbconvert_exporter": "python",
   "pygments_lexer": "ipython3",
   "version": "3.7.4"
  }
 },
 "nbformat": 4,
 "nbformat_minor": 5
}
