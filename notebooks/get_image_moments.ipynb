{
 "cells": [
  {
   "cell_type": "code",
   "execution_count": 1,
   "id": "53949959-bbd4-4101-b347-234cc807d3d9",
   "metadata": {},
   "outputs": [],
   "source": [
    "import numpy as np\n",
    "import matplotlib.pyplot as plt\n",
    "import pandas as pd\n",
    "%matplotlib inline\n",
    "\n",
    "# We will use astropy's WCS and ZScaleInterval for plotting\n",
    "from astropy.wcs import WCS\n",
    "from astropy.visualization import ZScaleInterval\n",
    "\n",
    "# We will use several stack functions\n",
    "import lsst.geom\n",
    "import lsst.afw.display as afwDisplay\n",
    "import lsst.afw.display.rgb as rgb\n",
    "\n",
    "# And also DESC packages to get the data path\n",
    "import GCRCatalogs\n",
    "from GCRCatalogs import GCRQuery\n",
    "import desc_dc2_dm_data\n",
    "\n",
    "import seaborn as sns"
   ]
  },
  {
   "cell_type": "code",
   "execution_count": 2,
   "id": "0b822212-0dac-4fb1-b4e0-ee29feec3990",
   "metadata": {},
   "outputs": [
    {
     "data": {
      "text/plain": [
       "['buzzard',\n",
       " 'buzzard_high-res',\n",
       " 'cosmoDC2_v1.1.4_image',\n",
       " 'cosmoDC2_v1.1.4_redmapper_v0.8.1',\n",
       " 'cosmoDC2_v1.1.4_small',\n",
       " 'dc2_object_run1.2i',\n",
       " 'dc2_object_run1.2i_all_columns',\n",
       " 'dc2_object_run1.2i_tract4850',\n",
       " 'dc2_object_run1.2i_with_photoz',\n",
       " 'dc2_object_run1.2p',\n",
       " 'dc2_object_run1.2p_all_columns',\n",
       " 'dc2_object_run1.2p_tract4850',\n",
       " 'dc2_object_run2.2i_dr2_wfd',\n",
       " 'dc2_object_run2.2i_dr2_wfd_with_addons',\n",
       " 'dc2_object_run2.2i_dr3a',\n",
       " 'dc2_object_run2.2i_dr3a_with_metacal',\n",
       " 'dc2_object_run2.2i_dr3a_with_photoz',\n",
       " 'dc2_object_run2.2i_dr6',\n",
       " 'dc2_object_run2.2i_dr6_with_addons',\n",
       " 'dc2_redmapper_run2.2i_dr6_wfd_v0.8.1',\n",
       " 'dc2_truth_run1.2_static',\n",
       " 'dc2_truth_run1.2_variable_lightcurve',\n",
       " 'dc2_truth_run1.2_variable_summary',\n",
       " 'dc2_truth_run2.2i_galaxy_truth_summary',\n",
       " 'dc2_truth_run2.2i_sn_truth_summary',\n",
       " 'dc2_truth_run2.2i_sn_variability_truth',\n",
       " 'dc2_truth_run2.2i_star_lc_stats',\n",
       " 'dc2_truth_run2.2i_star_truth_summary',\n",
       " 'dc2_truth_run2.2i_star_variability_truth',\n",
       " 'dc2_truth_run2.2i_summary_tract_partition',\n",
       " 'dc2_truth_run3.1i_agn_auxiliary_info',\n",
       " 'dc2_truth_run3.1i_agn_truth_summary',\n",
       " 'dc2_truth_run3.1i_agn_variability_truth',\n",
       " 'dc2_truth_run3.1i_lensed_agn_truth_summary',\n",
       " 'dc2_truth_run3.1i_lensed_agn_variability_truth',\n",
       " 'dc2_truth_run3.1i_lensed_host_truth_summary',\n",
       " 'dc2_truth_run3.1i_lensed_sn_variability_truth',\n",
       " 'dc2_truth_run3.1i_lensed_sne_truth_summary',\n",
       " 'protoDC2',\n",
       " 'protoDC2_run1.2',\n",
       " 'skysim5000_v1.1.1']"
      ]
     },
     "execution_count": 2,
     "metadata": {},
     "output_type": "execute_result"
    }
   ],
   "source": [
    "GCRCatalogs.get_available_catalogs(names_only=True)"
   ]
  },
  {
   "cell_type": "code",
   "execution_count": 3,
   "id": "f97aea8f-1532-4392-b414-327561220ed5",
   "metadata": {},
   "outputs": [],
   "source": [
    "# We load the catalog with addons\n",
    "cat = GCRCatalogs.load_catalog('dc2_object_run2.2i_dr6_with_addons')"
   ]
  },
  {
   "cell_type": "code",
   "execution_count": 4,
   "id": "180dc9ba-f9a1-4737-9ca1-6a1d89c180a4",
   "metadata": {},
   "outputs": [
    {
     "data": {
      "text/plain": [
       "(<GCRCatalogs.dc2_object.DC2ObjectParquetCatalog at 0x7ffff046eee0>,\n",
       " <GCRCatalogs.dc2_metacal.DC2MetacalCatalog at 0x7ffff046e7c0>,\n",
       " <GCRCatalogs.dc2_truth_match.DC2TruthMatchCatalog at 0x7fffa632e2e0>,\n",
       " <GCRCatalogs.dc2_photoz_parquet.DC2PhotozCatalog at 0x7fffa632e5e0>)"
      ]
     },
     "execution_count": 4,
     "metadata": {},
     "output_type": "execute_result"
    }
   ],
   "source": [
    "# We check what catalogs are part of the catalog with addons\n",
    "cat.catalogs"
   ]
  },
  {
   "cell_type": "code",
   "execution_count": 5,
   "id": "1118b058-cf00-417f-b119-7d210ab6a5f4",
   "metadata": {},
   "outputs": [],
   "source": [
    "# We are going to be interested in several of them:\n",
    "# 1) The ObjectParqueCatalog (that's the main one with ra, dec, etc.)\n",
    "# 2) The TruthMatchCatalog (if you want true redshifts)\n",
    "# 3) The PhotozCatalog (if you want photometric redshifts)\n",
    "#cat.catalogs[0].list_all_quantities()"
   ]
  },
  {
   "cell_type": "code",
   "execution_count": 6,
   "id": "92fd86c3-8323-4199-80e1-dd0a166d175a",
   "metadata": {},
   "outputs": [
    {
     "data": {
      "text/plain": [
       "['mag_u',\n",
       " 'psf_fwhm_y',\n",
       " 'snr_g_cModel',\n",
       " 'cModelFluxErr_y',\n",
       " 'Ixx_pixel',\n",
       " 'magerr_g',\n",
       " 'magerr_i',\n",
       " 'IxxPSF_pixel_y',\n",
       " 'IxyPSF_pixel',\n",
       " 'IxyPSF_pixel_y',\n",
       " 'Ixy_pixel_z',\n",
       " 'IxxPSF_pixel',\n",
       " 'mag_i_cModel',\n",
       " 'cModelFluxErr_g',\n",
       " 'extendedness',\n",
       " 'cModelFlux_r',\n",
       " 'psFluxErr_i',\n",
       " 'magerr_z_cModel',\n",
       " 'cModelFlux_flag_u',\n",
       " 'mag_g_cModel',\n",
       " 'psFlux_z',\n",
       " 'y',\n",
       " 'cModelFlux_u',\n",
       " 'xy_flag',\n",
       " 'mag_z',\n",
       " 'cModelFlux_y',\n",
       " 'snr_u_cModel',\n",
       " 'IxxPSF_pixel_r',\n",
       " 'psFlux_flag_y',\n",
       " 'Ixy_pixel_y',\n",
       " 'ra',\n",
       " 'Ixx_pixel_g',\n",
       " 'Ixy_pixel',\n",
       " 'cModelFluxErr_r',\n",
       " 'cModelFlux_flag_i',\n",
       " 'magerr_z',\n",
       " 'Iyy_pixel_z',\n",
       " 'psf_fwhm_i',\n",
       " 'magerr_r_cModel',\n",
       " 'psFlux_flag_u',\n",
       " 'mag_r',\n",
       " 'magerr_r',\n",
       " 'psFlux_flag_z',\n",
       " 'psFlux_flag_r',\n",
       " 'I_flag_i',\n",
       " 'IxxPSF_pixel_i',\n",
       " 'good',\n",
       " 'psFluxErr_y',\n",
       " 'I_flag_y',\n",
       " 'cModelFluxErr_i',\n",
       " 'magerr_y_cModel',\n",
       " 'psFlux_flag_g',\n",
       " 'I_flag',\n",
       " 'cModelFlux_flag_r',\n",
       " 'Iyy_pixel_i',\n",
       " 'I_flag_r',\n",
       " 'magerr_y',\n",
       " 'objectId',\n",
       " 'snr_z_cModel',\n",
       " 'IyyPSF_pixel_r',\n",
       " 'IyyPSF_pixel_i',\n",
       " 'I_flag_u',\n",
       " 'Ixy_pixel_u',\n",
       " 'Ixx_pixel_z',\n",
       " 'psf_fwhm_z',\n",
       " 'psFlux_y',\n",
       " 'Ixy_pixel_r',\n",
       " 'cModelFlux_flag_y',\n",
       " 'cModelFlux_flag_g',\n",
       " 'mag_y_cModel',\n",
       " 'mag_g',\n",
       " 'IxyPSF_pixel_u',\n",
       " 'psFluxErr_r',\n",
       " 'IxyPSF_pixel_i',\n",
       " 'snr_y_cModel',\n",
       " 'cModelFlux_g',\n",
       " 'IxxPSF_pixel_u',\n",
       " 'psFlux_r',\n",
       " 'Iyy_pixel_y',\n",
       " 'psf_fwhm_g',\n",
       " 'Ixx_pixel_y',\n",
       " 'Ixy_pixel_g',\n",
       " 'xErr',\n",
       " 'I_flag_z',\n",
       " 'blendedness',\n",
       " 'magerr_u_cModel',\n",
       " 'IxyPSF_pixel_g',\n",
       " 'yErr',\n",
       " 'Ixx_pixel_u',\n",
       " 'clean',\n",
       " 'I_flag_g',\n",
       " 'IxxPSF_pixel_g',\n",
       " 'dec',\n",
       " 'cModelFluxErr_u',\n",
       " 'IxyPSF_pixel_z',\n",
       " 'mag_u_cModel',\n",
       " 'parentObjectId',\n",
       " 'psFlux_i',\n",
       " 'IyyPSF_pixel_g',\n",
       " 'snr_r_cModel',\n",
       " 'psf_fwhm_u',\n",
       " 'snr_i_cModel',\n",
       " 'IyyPSF_pixel_z',\n",
       " 'Ixx_pixel_r',\n",
       " 'psFlux_flag_i',\n",
       " 'mag_i',\n",
       " 'IxxPSF_pixel_z',\n",
       " 'mag_y',\n",
       " 'IyyPSF_pixel_y',\n",
       " 'cModelFlux_flag_z',\n",
       " 'IyyPSF_pixel_u',\n",
       " 'IxyPSF_pixel_r',\n",
       " 'Iyy_pixel_r',\n",
       " 'mag_z_cModel',\n",
       " 'psFluxErr_u',\n",
       " 'Iyy_pixel_u',\n",
       " 'psf_fwhm_r',\n",
       " 'psFlux_g',\n",
       " 'cModelFlux_z',\n",
       " 'psFluxErr_g',\n",
       " 'IyyPSF_pixel',\n",
       " 'psNdata',\n",
       " 'Ixy_pixel_i',\n",
       " 'magerr_u',\n",
       " 'cModelFlux_i',\n",
       " 'Iyy_pixel',\n",
       " 'mag_r_cModel',\n",
       " 'cModelFluxErr_z',\n",
       " 'magerr_g_cModel',\n",
       " 'x',\n",
       " 'Ixx_pixel_i',\n",
       " 'psFluxErr_z',\n",
       " 'Iyy_pixel_g',\n",
       " 'magerr_i_cModel',\n",
       " 'psFlux_u']"
      ]
     },
     "execution_count": 6,
     "metadata": {},
     "output_type": "execute_result"
    }
   ],
   "source": [
    "cat.catalogs[0].list_all_quantities()"
   ]
  },
  {
   "cell_type": "code",
   "execution_count": 7,
   "id": "ecd59554-3587-4da3-899e-cfe94f7bd363",
   "metadata": {},
   "outputs": [],
   "source": [
    "obj = cat.catalogs[0].get_quantities(['ra','dec'])"
   ]
  },
  {
   "cell_type": "code",
   "execution_count": 8,
   "id": "7624cbca-aa5a-48c0-aaca-288c40620595",
   "metadata": {},
   "outputs": [],
   "source": [
    "objlen = len(obj['ra'])"
   ]
  },
  {
   "cell_type": "code",
   "execution_count": 9,
   "id": "4cd2bca0-7389-479c-a339-3ca90b7fcdae",
   "metadata": {},
   "outputs": [],
   "source": [
    "idx = np.random.choice(np.arange(objlen),size=int(objlen/1000.), replace=False) "
   ]
  },
  {
   "cell_type": "code",
   "execution_count": 10,
   "id": "1ac8e3d1-509d-419b-b6d3-cd7f6d24b2bc",
   "metadata": {},
   "outputs": [],
   "source": [
    "ra  = obj['ra'][idx]\n",
    "dec = obj['dec'][idx]"
   ]
  },
  {
   "cell_type": "code",
   "execution_count": 11,
   "id": "c7550163-2dfd-430f-a50f-4a80e30ae849",
   "metadata": {},
   "outputs": [
    {
     "data": {
      "text/plain": [
       "<seaborn.axisgrid.FacetGrid at 0x7fff1e557c40>"
      ]
     },
     "execution_count": 11,
     "metadata": {},
     "output_type": "execute_result"
    },
    {
     "data": {
      "image/png": "[encoded data removed]",
      "text/plain": [
       "<Figure size 360x360 with 1 Axes>"
      ]
     },
     "metadata": {
      "needs_background": "light"
     },
     "output_type": "display_data"
    }
   ],
   "source": [
    "sns.displot(x=ra, y=dec)"
   ]
  },
  {
   "cell_type": "code",
   "execution_count": 12,
   "id": "c4ff4346-eb95-4b38-9619-81c2512d9606",
   "metadata": {},
   "outputs": [],
   "source": [
    "cosmo=GCRCatalogs.load_catalog(\"cosmoDC2_v1.1.4_image\")\n"
   ]
  },
  {
   "cell_type": "code",
   "execution_count": 13,
   "id": "d51805dc-716a-4f91-b2ba-d5ca3974d7de",
   "metadata": {},
   "outputs": [
    {
     "data": {
      "text/plain": [
       "<Figure size 720x504 with 0 Axes>"
      ]
     },
     "metadata": {},
     "output_type": "display_data"
    },
    {
     "data": {
      "image/png": "[encoded data removed]",
      "text/plain": [
       "<Figure size 360x360 with 1 Axes>"
      ]
     },
     "metadata": {
      "needs_background": "light"
     },
     "output_type": "display_data"
    }
   ],
   "source": [
    "plt.figure(figsize=[10,7])\n",
    "sns.displot(x=ra, y=dec, color='grey')\n",
    "plt.xlabel(\"RA [deg]\", fontsize=12)\n",
    "plt.ylabel(\"Dec [deg]\", fontsize=12)\n",
    "i=0\n",
    "colors = [u'#FAF3DD', u'#8FC0A9', u'#C7C9D1', u'#000000', u'#C8D5B9', u'#243010', u'#68B0AB', u'#2B2D42', u'#574C52', u'#2A3C24']\n",
    "for healpix in cosmo.available_healpix_pixels:\n",
    "    if healpix in [9556, 9557, 9558, 9559, 9560, 9683, 9684, 9685, 9686, 9687, 9688, 9812, 9813, 9814, 9815, 9816, 9940, 9941, 9942, 9943, 9944, 10068, 10069, 10070, 10071, 10072, 10195,10196,10197, 10198, 10199]:\n",
    "        gal = cosmo.get_quantities(['ra','dec'], filters='redshift<.1', native_filters=f\"healpix_pixel == {healpix}\")\n",
    "        plt.plot(gal['ra'],gal['dec'], color=colors[i%7])\n",
    "        # plt.plot(gal['ra'],gal['dec'])\n",
    "        # plt.text(gal['ra'][0]-1, gal['dec'][0],\"{:d}\".format(healpix))\n",
    "        i+=1\n",
    "plt.tight_layout()\n",
    "plt.savefig(\"../plots/healpixels_on_objcat.png\", dpi=300)"
   ]
  },
  {
   "cell_type": "code",
   "execution_count": 32,
   "id": "bd6a288f-9a34-42bf-84a8-8e07ab4e62ce",
   "metadata": {},
   "outputs": [
    {
     "data": {
      "text/plain": [
       "'/global/u2/m/mlokken/transient-host-sims/notebooks'"
      ]
     },
     "execution_count": 32,
     "metadata": {},
     "output_type": "execute_result"
    }
   ],
   "source": [
    "pwd"
   ]
  },
  {
   "cell_type": "code",
   "execution_count": null,
   "id": "620a439e-bdb4-452f-a63b-ca19abb0165d",
   "metadata": {},
   "outputs": [],
   "source": [
    "bright_galaxy_query = GCRQuery(\n",
    "    \"clean\",\n",
    "    \"extendedness == 1\",\n",
    "    \"mag_r_cModel < 16\",\n",
    "    \"snr_g_cModel > 10\",\n",
    "    \"snr_r_cModel > 10\",\n",
    "    \"snr_i_cModel > 10\",\n",
    ")"
   ]
  },
  {
   "cell_type": "code",
   "execution_count": 13,
   "id": "66d48148-0225-45e6-921c-16e92ea0aa8a",
   "metadata": {},
   "outputs": [],
   "source": [
    "columns_to_get0 = [\"objectId\", \"Ixx_pixel\", \"Iyy_pixel\"]\n",
    "columns_to_get2 = [\"match_objectId\", \"cosmodc2_id_truth\"]"
   ]
  },
  {
   "cell_type": "code",
   "execution_count": 14,
   "id": "73b4599c-0b29-4579-b2d4-901f6396b918",
   "metadata": {},
   "outputs": [],
   "source": [
    "max_rshift = 1.0\n",
    "data0_cols = cat.catalogs[0].get_quantities(columns_to_get0)\n",
    "data2_cols = cat.catalogs[2].get_quantities(columns_to_get2, filters=['redshift<{:s}'.format(str(max_rshift))])"
   ]
  },
  {
   "cell_type": "code",
   "execution_count": 17,
   "id": "c599b0bc-82ad-45a2-8269-570f424dd9eb",
   "metadata": {},
   "outputs": [],
   "source": [
    "DF0 = pd.DataFrame(data0_cols)"
   ]
  },
  {
   "cell_type": "code",
   "execution_count": 18,
   "id": "8fff3aff-7447-42da-8854-dc49a6de579f",
   "metadata": {},
   "outputs": [],
   "source": [
    "DF2 = pd.DataFrame(data2_cols)"
   ]
  },
  {
   "cell_type": "code",
   "execution_count": 21,
   "id": "44f7eba4-3ed7-4d1c-a676-3be088b4c4b7",
   "metadata": {},
   "outputs": [],
   "source": [
    "DF2['objectId'] = DF2['match_objectId']"
   ]
  },
  {
   "cell_type": "code",
   "execution_count": 38,
   "id": "577f523b-f0b3-4b01-9b26-b1d2e064a9d8",
   "metadata": {},
   "outputs": [],
   "source": [
    "DF_comb = DF0.join(DF2, on='objectId',rsuffix='_y')"
   ]
  },
  {
   "cell_type": "code",
   "execution_count": 39,
   "id": "adf0a284-b188-4d9b-8090-f4259c59dca1",
   "metadata": {},
   "outputs": [
    {
     "data": {
      "text/html": [
       "<div>\n",
       "<style scoped>\n",
       "    .dataframe tbody tr th:only-of-type {\n",
       "        vertical-align: middle;\n",
       "    }\n",
       "\n",
       "    .dataframe tbody tr th {\n",
       "        vertical-align: top;\n",
       "    }\n",
       "\n",
       "    .dataframe thead th {\n",
       "        text-align: right;\n",
       "    }\n",
       "</style>\n",
       "<table border=\"1\" class=\"dataframe\">\n",
       "  <thead>\n",
       "    <tr style=\"text-align: right;\">\n",
       "      <th></th>\n",
       "      <th>objectId</th>\n",
       "      <th>Iyy_pixel</th>\n",
       "      <th>Ixx_pixel</th>\n",
       "      <th>match_objectId</th>\n",
       "      <th>cosmodc2_id_truth</th>\n",
       "      <th>objectId_y</th>\n",
       "    </tr>\n",
       "  </thead>\n",
       "  <tbody>\n",
       "    <tr>\n",
       "      <th>0</th>\n",
       "      <td>11975906419540343</td>\n",
       "      <td>8.358371</td>\n",
       "      <td>12.971858</td>\n",
       "      <td>NaN</td>\n",
       "      <td>NaN</td>\n",
       "      <td>NaN</td>\n",
       "    </tr>\n",
       "    <tr>\n",
       "      <th>1</th>\n",
       "      <td>11975906419541206</td>\n",
       "      <td>6.564921</td>\n",
       "      <td>6.865114</td>\n",
       "      <td>NaN</td>\n",
       "      <td>NaN</td>\n",
       "      <td>NaN</td>\n",
       "    </tr>\n",
       "    <tr>\n",
       "      <th>2</th>\n",
       "      <td>11976043858493441</td>\n",
       "      <td>5.014928</td>\n",
       "      <td>2.295742</td>\n",
       "      <td>NaN</td>\n",
       "      <td>NaN</td>\n",
       "      <td>NaN</td>\n",
       "    </tr>\n",
       "    <tr>\n",
       "      <th>3</th>\n",
       "      <td>11976043858493443</td>\n",
       "      <td>7.680129</td>\n",
       "      <td>13.866013</td>\n",
       "      <td>NaN</td>\n",
       "      <td>NaN</td>\n",
       "      <td>NaN</td>\n",
       "    </tr>\n",
       "    <tr>\n",
       "      <th>4</th>\n",
       "      <td>11976043858493737</td>\n",
       "      <td>8.637352</td>\n",
       "      <td>2.735219</td>\n",
       "      <td>NaN</td>\n",
       "      <td>NaN</td>\n",
       "      <td>NaN</td>\n",
       "    </tr>\n",
       "  </tbody>\n",
       "</table>\n",
       "</div>"
      ],
      "text/plain": [
       "            objectId  Iyy_pixel  Ixx_pixel  match_objectId  cosmodc2_id_truth  \\\n",
       "0  11975906419540343   8.358371  12.971858             NaN                NaN   \n",
       "1  11975906419541206   6.564921   6.865114             NaN                NaN   \n",
       "2  11976043858493441   5.014928   2.295742             NaN                NaN   \n",
       "3  11976043858493443   7.680129  13.866013             NaN                NaN   \n",
       "4  11976043858493737   8.637352   2.735219             NaN                NaN   \n",
       "\n",
       "   objectId_y  \n",
       "0         NaN  \n",
       "1         NaN  \n",
       "2         NaN  \n",
       "3         NaN  \n",
       "4         NaN  "
      ]
     },
     "execution_count": 39,
     "metadata": {},
     "output_type": "execute_result"
    }
   ],
   "source": [
    "DF_comb.head()"
   ]
  },
  {
   "cell_type": "code",
   "execution_count": 49,
   "id": "eb9e743f-27e4-44c3-98d9-278562848a98",
   "metadata": {},
   "outputs": [],
   "source": [
    "DF0_objID = DF0['objectId']"
   ]
  },
  {
   "cell_type": "code",
   "execution_count": 51,
   "id": "a824e8ef-2b3d-44d0-adb7-6ea259777e4e",
   "metadata": {},
   "outputs": [],
   "source": [
    "DF2_objID = DF2['objectId']"
   ]
  },
  {
   "cell_type": "code",
   "execution_count": 57,
   "id": "a31714dd-335f-4d79-a074-95e6964d8656",
   "metadata": {},
   "outputs": [],
   "source": [
    "DF2 = DF2[['objectId', 'cosmodc2_id_truth']]"
   ]
  },
  {
   "cell_type": "code",
   "execution_count": 61,
   "id": "cdb51520-2d6f-437c-9ba8-70348bb23b7c",
   "metadata": {},
   "outputs": [],
   "source": [
    "DF_merged = pd.merge(DF0, DF2, on=[\"objectId\"])"
   ]
  },
  {
   "cell_type": "code",
   "execution_count": 62,
   "id": "14128e38-59cb-49fb-8fb8-69be3f7488ca",
   "metadata": {},
   "outputs": [
    {
     "data": {
      "text/html": [
       "<div>\n",
       "<style scoped>\n",
       "    .dataframe tbody tr th:only-of-type {\n",
       "        vertical-align: middle;\n",
       "    }\n",
       "\n",
       "    .dataframe tbody tr th {\n",
       "        vertical-align: top;\n",
       "    }\n",
       "\n",
       "    .dataframe thead th {\n",
       "        text-align: right;\n",
       "    }\n",
       "</style>\n",
       "<table border=\"1\" class=\"dataframe\">\n",
       "  <thead>\n",
       "    <tr style=\"text-align: right;\">\n",
       "      <th></th>\n",
       "      <th>objectId</th>\n",
       "      <th>Iyy_pixel</th>\n",
       "      <th>Ixx_pixel</th>\n",
       "      <th>cosmodc2_id_truth</th>\n",
       "    </tr>\n",
       "  </thead>\n",
       "  <tbody>\n",
       "    <tr>\n",
       "      <th>0</th>\n",
       "      <td>11975906419541206</td>\n",
       "      <td>6.564921</td>\n",
       "      <td>6.865114</td>\n",
       "      <td>10937870093</td>\n",
       "    </tr>\n",
       "    <tr>\n",
       "      <th>1</th>\n",
       "      <td>11976043858493441</td>\n",
       "      <td>5.014928</td>\n",
       "      <td>2.295742</td>\n",
       "      <td>11563663598</td>\n",
       "    </tr>\n",
       "    <tr>\n",
       "      <th>2</th>\n",
       "      <td>11976043858493443</td>\n",
       "      <td>7.680129</td>\n",
       "      <td>13.866013</td>\n",
       "      <td>10938869183</td>\n",
       "    </tr>\n",
       "    <tr>\n",
       "      <th>3</th>\n",
       "      <td>11976043858493737</td>\n",
       "      <td>8.637352</td>\n",
       "      <td>2.735219</td>\n",
       "      <td>11564005688</td>\n",
       "    </tr>\n",
       "    <tr>\n",
       "      <th>4</th>\n",
       "      <td>11976043858493738</td>\n",
       "      <td>NaN</td>\n",
       "      <td>NaN</td>\n",
       "      <td>11563831110</td>\n",
       "    </tr>\n",
       "  </tbody>\n",
       "</table>\n",
       "</div>"
      ],
      "text/plain": [
       "            objectId  Iyy_pixel  Ixx_pixel  cosmodc2_id_truth\n",
       "0  11975906419541206   6.564921   6.865114        10937870093\n",
       "1  11976043858493441   5.014928   2.295742        11563663598\n",
       "2  11976043858493443   7.680129  13.866013        10938869183\n",
       "3  11976043858493737   8.637352   2.735219        11564005688\n",
       "4  11976043858493738        NaN        NaN        11563831110"
      ]
     },
     "execution_count": 62,
     "metadata": {},
     "output_type": "execute_result"
    }
   ],
   "source": [
    "DF_merged.head()"
   ]
  },
  {
   "cell_type": "code",
   "execution_count": 63,
   "id": "cd8a5d8f-6c9c-4ea0-a45d-8a25e68198d0",
   "metadata": {},
   "outputs": [],
   "source": [
    "DF_merged['cosmoDC2_ID'] = DF_merged['cosmodc2_id_truth']"
   ]
  },
  {
   "cell_type": "code",
   "execution_count": 65,
   "id": "019fb327-6ce1-4e3b-8a00-98b243d04753",
   "metadata": {},
   "outputs": [],
   "source": [
    "del DF_merged['cosmodc2_id_truth']"
   ]
  },
  {
   "cell_type": "code",
   "execution_count": 68,
   "id": "efd44d4a-17b6-43c7-9493-fa47cc8d12ac",
   "metadata": {},
   "outputs": [],
   "source": [
    "DF_merged_cut = DF_merged[DF_merged['cosmoDC2_ID'] > 0]"
   ]
  },
  {
   "cell_type": "code",
   "execution_count": 69,
   "id": "914c2ff5-f377-4f02-a18f-62558c301351",
   "metadata": {},
   "outputs": [],
   "source": [
    "DF_merged_cut.to_csv(\"cosmoDC2_ImageMomentsMatch.tar.gz\",index=False)"
   ]
  }
 ],
 "metadata": {
  "kernelspec": {
   "display_name": "desc-stack-weekly-latest",
   "language": "python",
   "name": "desc-stack-weekly-latest"
  },
  "language_info": {
   "codemirror_mode": {
    "name": "ipython",
    "version": 3
   },
   "file_extension": ".py",
   "mimetype": "text/x-python",
   "name": "python",
   "nbconvert_exporter": "python",
   "pygments_lexer": "ipython3",
   "version": "3.8.12"
  }
 },
 "nbformat": 4,
 "nbformat_minor": 5
}
