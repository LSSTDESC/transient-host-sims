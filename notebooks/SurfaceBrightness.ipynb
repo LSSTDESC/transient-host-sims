{
 "cells": [
  {
   "cell_type": "markdown",
   "id": "7fd690b9-e95e-441e-86fd-ca94df83f802",
   "metadata": {},
   "source": [
    "# Get a basic estimate for surface brightness"
   ]
  },
  {
   "cell_type": "code",
   "execution_count": 21,
   "id": "30939bb3-90da-44b8-94c3-40dc02b84049",
   "metadata": {},
   "outputs": [],
   "source": [
    "import numpy as np\n",
    "import matplotlib.pyplot as plt\n",
    "import pandas as pd\n",
    "%matplotlib inline\n",
    "\n",
    "# We will use astropy's WCS and ZScaleInterval for plotting\n",
    "import astropy.units as u\n",
    "\n",
    "# And also DESC packages to get the data path\n",
    "import GCRCatalogs\n",
    "from GCRCatalogs import GCRQuery\n",
    "import desc_dc2_dm_data\n",
    "\n",
    "import seaborn as sns"
   ]
  },
  {
   "cell_type": "code",
   "execution_count": 3,
   "id": "721740bd-917c-4413-991b-f2c751f402e8",
   "metadata": {},
   "outputs": [],
   "source": [
    "# We load the catalog with addons\n",
    "cosmo=GCRCatalogs.load_catalog(\"cosmoDC2_v1.1.4_image\")"
   ]
  },
  {
   "cell_type": "code",
   "execution_count": 12,
   "id": "99229543-4fc4-4805-a10a-c5c6d3af3024",
   "metadata": {},
   "outputs": [],
   "source": [
    "#small healpix sample for testing\n",
    "for healpix in cosmo.available_healpix_pixels:\n",
    "    if healpix == 9556: #, 9558, 9559, 9560, 9683, 9684, 9685, 9686, 9687, 9688, 9812, 9813, 9814, 9815, 9816, 9940, 9941, 9942, 9943, 9944, 10068, 10069, 10070, 10071, 10072, 10195,10196,10197, 10198, 10199\n",
    "        quant = cosmo.get_quantities(['size_true','mag_true_r_lsst'], native_filters=f\"healpix_pixel == {healpix}\")\n"
   ]
  },
  {
   "cell_type": "code",
   "execution_count": 23,
   "id": "061a00e7-e56f-44bb-a5c1-6741dc142c47",
   "metadata": {},
   "outputs": [],
   "source": [
    "size = quant['size_true']*u.arcsec\n",
    "mag  = quant['mag_true_r_lsst']*u.ABmag"
   ]
  },
  {
   "cell_type": "code",
   "execution_count": 26,
   "id": "1c9bd151-64e8-41a2-a278-9072fabf8b78",
   "metadata": {},
   "outputs": [],
   "source": [
    "flux = mag.to(u.erg/u.s/u.cm**2/u.Hz)"
   ]
  },
  {
   "cell_type": "code",
   "execution_count": 40,
   "id": "069ecd50-f384-40a1-ae57-7d5fd9a8e7f2",
   "metadata": {},
   "outputs": [],
   "source": [
    "flux_hlr = flux/2. # light in half-light radius is approx half the flux\n",
    "SB_hlr   = flux_hlr/(np.pi*size**2) # flux over area; flux per square arcsec\n"
   ]
  },
  {
   "cell_type": "code",
   "execution_count": 43,
   "id": "908a7262-521e-4667-82b3-cd11689b9aac",
   "metadata": {},
   "outputs": [],
   "source": [
    "SB_hlr_mag  = (flux_hlr.value*(u.erg/(u.Hz*u.s*u.cm**2))).to(u.ABmag) # hack to get mag/arcsec**2 to work "
   ]
  },
  {
   "cell_type": "code",
   "execution_count": 44,
   "id": "0aeb82ba-42b5-45a8-9ed5-f9b2d180c277",
   "metadata": {},
   "outputs": [
    {
     "data": {
      "text/plain": [
       "Text(0.5, 0, 'Surface brightness [mag/arcsec^2]')"
      ]
     },
     "execution_count": 44,
     "metadata": {},
     "output_type": "execute_result"
    },
    {
     "data": {
      "image/png": "[encoded data removed]",
      "text/plain": [
       "<Figure size 640x480 with 1 Axes>"
      ]
     },
     "metadata": {},
     "output_type": "display_data"
    }
   ],
   "source": [
    "plt.hist(SB_hlr_mag.value)\n",
    "plt.xlabel(\"Surface brightness [mag/arcsec^2]\")"
   ]
  },
  {
   "cell_type": "code",
   "execution_count": null,
   "id": "b1eb5634-33f8-4d83-a378-11324e267c11",
   "metadata": {},
   "outputs": [],
   "source": []
  }
 ],
 "metadata": {
  "kernelspec": {
   "display_name": "desc-stack-weekly-latest",
   "language": "python",
   "name": "desc-stack-weekly-latest"
  },
  "language_info": {
   "codemirror_mode": {
    "name": "ipython",
    "version": 3
   },
   "file_extension": ".py",
   "mimetype": "text/x-python",
   "name": "python",
   "nbconvert_exporter": "python",
   "pygments_lexer": "ipython3",
   "version": "3.10.5"
  }
 },
 "nbformat": 4,
 "nbformat_minor": 5
}
