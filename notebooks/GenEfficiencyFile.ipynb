{
 "cells": [
  {
   "cell_type": "code",
   "execution_count": 17,
   "id": "e5297f6d-df1a-425d-8773-6b0e6ecfcf6f",
   "metadata": {},
   "outputs": [],
   "source": [
    "import numpy as np \n",
    "import seaborn as sns \n",
    "import matplotlib.pyplot as plt \n",
    "import pandas as pd \n",
    "\n",
    "SNR = np.arange(0, 21.5, step=0.5)\n",
    "eff = np.ones(len(SNR))\n",
    "df = pd.DataFrame({'Name':['SNR:']*len(eff), 'SNR':SNR, 'eff':eff})"
   ]
  },
  {
   "cell_type": "code",
   "execution_count": 18,
   "id": "f5427465-7821-4039-abeb-3292a7e109ea",
   "metadata": {},
   "outputs": [],
   "source": [
    "df_ugrizY = pd.concat([df, df, df, df, df, df], ignore_index=False)"
   ]
  },
  {
   "cell_type": "code",
   "execution_count": 19,
   "id": "8847aeea-6770-4e9c-80fe-cb261212ab1e",
   "metadata": {},
   "outputs": [],
   "source": [
    "df_ugrizY.to_csv(\"/global/cfs/cdirs/lsst/groups/SN/snana/SURVEYS/LSST/ROOT/\"+\n",
    "              \"PLASTICC_DEV/survey_config/SEARCHEFF_PIPELINE_SCOTCH.DAT\", sep=' ', index=False)"
   ]
  }
 ],
 "metadata": {
  "kernelspec": {
   "display_name": "desc-python-dev",
   "language": "python",
   "name": "desc-python-dev"
  },
  "language_info": {
   "codemirror_mode": {
    "name": "ipython",
    "version": 3
   },
   "file_extension": ".py",
   "mimetype": "text/x-python",
   "name": "python",
   "nbconvert_exporter": "python",
   "pygments_lexer": "ipython3",
   "version": "3.9.7"
  }
 },
 "nbformat": 4,
 "nbformat_minor": 5
}
