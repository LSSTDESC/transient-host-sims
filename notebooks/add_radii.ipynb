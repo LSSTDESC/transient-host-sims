{
 "cells": [
  {
   "cell_type": "code",
   "execution_count": 1,
   "id": "7b025677-5aef-4f87-9d28-bcee5e3aa0e2",
   "metadata": {},
   "outputs": [],
   "source": [
    "import numpy as np\n",
    "import pandas as pd\n",
    "import matplotlib.pyplot as plt\n",
    "import h5py \n",
    "import GCRCatalogs"
   ]
  },
  {
   "cell_type": "code",
   "execution_count": 13,
   "id": "31bc8d50-534b-47a5-afce-5cf483436799",
   "metadata": {},
   "outputs": [],
   "source": [
    "cosmo = GCRCatalogs.load_catalog(\"cosmoDC2_v1.1.4_image\")"
   ]
  },
  {
   "cell_type": "code",
   "execution_count": 3,
   "id": "2fcdd7a1-7646-4b9f-81c7-ec1862cc84c6",
   "metadata": {},
   "outputs": [
    {
     "data": {
      "text/plain": [
       "{'units': 'physical kpc'}"
      ]
     },
     "execution_count": 3,
     "metadata": {},
     "output_type": "execute_result"
    }
   ],
   "source": [
    "cosmo.get_quantity_info('morphology/spheroidHalfLightRadius')"
   ]
  },
  {
   "cell_type": "code",
   "execution_count": 3,
   "id": "248379ec-92c6-4587-93c8-a48877dd0984",
   "metadata": {},
   "outputs": [],
   "source": [
    "# load the catalog as it exists after running Create_scotch.py\n",
    "f    = h5py.File(\"/global/cscratch1/sd/mlokken/sn_hostenv/scotch_zlim.hdf5\", \"a\")"
   ]
  },
  {
   "cell_type": "code",
   "execution_count": 4,
   "id": "63e1ebb0-9549-4ca7-a51c-6df54a0dbfd9",
   "metadata": {},
   "outputs": [
    {
     "data": {
      "text/plain": [
       "<KeysViewHDF5 ['HostTable', 'TransientTable']>"
      ]
     },
     "execution_count": 4,
     "metadata": {},
     "output_type": "execute_result"
    }
   ],
   "source": [
    "f.keys()"
   ]
  },
  {
   "cell_type": "code",
   "execution_count": 14,
   "id": "0568870a-35c6-4698-b398-f9c2dbebe0f5",
   "metadata": {},
   "outputs": [
    {
     "name": "stdout",
     "output_type": "stream",
     "text": [
      "SLSN-I\n",
      "<HDF5 group \"/HostTable/SLSN-I\" (30 members)>\n",
      "<bound method NDFrame.head of              dc2ID\n",
      "0       8937878321\n",
      "1      10375442957\n",
      "2      10313274590\n",
      "3       8000447679\n",
      "4       9813153682\n",
      "...            ...\n",
      "99995   5938505108\n",
      "99996   8750874450\n",
      "99997  10437612257\n",
      "99998   6812875986\n",
      "99999   8938822642\n",
      "\n",
      "[100000 rows x 1 columns]>\n",
      "<bound method NDFrame.head of              dc2ID  morphology/spheroidHalfLightRadius    galaxy_id  \\\n",
      "0       8937878321                            0.677579   8937878321   \n",
      "1      10375442957                            1.430285  10375442957   \n",
      "2      10313274590                            1.226303  10313274590   \n",
      "3       8000447679                            0.585037   8000447679   \n",
      "4       9813153682                            0.695607   9813153682   \n",
      "...            ...                                 ...          ...   \n",
      "99995   5938505108                            1.467143   5938505108   \n",
      "99996   8750874450                            1.658003   8750874450   \n",
      "99997  10437612257                            1.983810  10437612257   \n",
      "99998   6812875986                            1.442653   6812875986   \n",
      "99999   8938822642                            0.570490   8938822642   \n",
      "\n",
      "       morphology/diskHalfLightRadius  \n",
      "0                            1.311368  \n",
      "1                            3.415203  \n",
      "2                            2.442320  \n",
      "3                            1.205182  \n",
      "4                            1.349491  \n",
      "...                               ...  \n",
      "99995                        2.510589  \n",
      "99996                        2.716652  \n",
      "99997                        3.830125  \n",
      "99998                        2.753605  \n",
      "99999                        1.035774  \n",
      "\n",
      "[100000 rows x 4 columns]>\n",
      "SNII\n",
      "<HDF5 group \"/HostTable/SNII\" (30 members)>\n",
      "<bound method NDFrame.head of                dc2ID\n",
      "0        10375873208\n",
      "1         6813816602\n",
      "2         6063380260\n",
      "3         8000377336\n",
      "4         6063261134\n",
      "...              ...\n",
      "1998995   6000149093\n",
      "1998996  10437693307\n",
      "1998997   9750190428\n",
      "1998998   7875299634\n",
      "1998999   6001005362\n",
      "\n",
      "[1999000 rows x 1 columns]>\n",
      "<bound method NDFrame.head of                dc2ID  morphology/spheroidHalfLightRadius    galaxy_id  \\\n",
      "0        10375873208                            1.080526  10375873208   \n",
      "1         6813816602                            1.590678   6813816602   \n",
      "2         6063380260                            5.163366   6063380260   \n",
      "3         8000377336                            1.415591   8000377336   \n",
      "4         6063261134                            4.174587   6063261134   \n",
      "...              ...                                 ...          ...   \n",
      "1998995   6000149093                            1.367283   6000149093   \n",
      "1998996  10437693307                            1.504687  10437693307   \n",
      "1998997   9750190428                            1.799248   9750190428   \n",
      "1998998   7875299634                            1.885959   7875299634   \n",
      "1998999   6001005362                            2.762009   6001005362   \n",
      "\n",
      "         morphology/diskHalfLightRadius  \n",
      "0                              1.522057  \n",
      "1                              2.980596  \n",
      "2                              7.478312  \n",
      "3                              2.757420  \n",
      "4                              6.904778  \n",
      "...                                 ...  \n",
      "1998995                        2.286699  \n",
      "1998996                        2.264264  \n",
      "1998997                        3.737601  \n",
      "1998998                        3.470919  \n",
      "1998999                        3.862809  \n",
      "\n",
      "[1999000 rows x 4 columns]>\n",
      "SNIIb\n",
      "<HDF5 group \"/HostTable/SNIIb\" (30 members)>\n",
      "<bound method NDFrame.head of              dc2ID\n",
      "0      10500856918\n",
      "1       9687687433\n",
      "2      10563029313\n",
      "3       6125447239\n",
      "4       9812647238\n",
      "...            ...\n",
      "99995  10313265788\n",
      "99996   8063665059\n",
      "99997   6125241948\n",
      "99998   9688043364\n",
      "99999   9750636539\n",
      "\n",
      "[100000 rows x 1 columns]>\n",
      "<bound method NDFrame.head of              dc2ID  morphology/spheroidHalfLightRadius    galaxy_id  \\\n",
      "0      10500856918                            2.967367  10500856918   \n",
      "1       9687687433                            1.583711   9687687433   \n",
      "2      10563029313                            0.406143  10563029313   \n",
      "3       6125447239                            2.922744   6125447239   \n",
      "4       9812647238                            6.287877   9812647238   \n",
      "...            ...                                 ...          ...   \n",
      "99995  10313265788                            3.492374  10313265788   \n",
      "99996   8063665059                            3.098541   8063665059   \n",
      "99997   6125241948                            2.586194   6125241948   \n",
      "99998   9688043364                            4.165870   9688043364   \n",
      "99999   9750636539                            2.438072   9750636539   \n",
      "\n",
      "       morphology/diskHalfLightRadius  \n",
      "0                            4.158853  \n",
      "1                            3.715367  \n",
      "2                            0.600143  \n",
      "3                            5.534339  \n",
      "4                            7.975905  \n",
      "...                               ...  \n",
      "99995                        4.280873  \n",
      "99996                        4.622734  \n",
      "99997                        4.430319  \n",
      "99998                        8.225020  \n",
      "99999                        5.132153  \n",
      "\n",
      "[100000 rows x 4 columns]>\n",
      "SNIa\n",
      "<HDF5 group \"/HostTable/SNIa\" (30 members)>\n",
      "<bound method NDFrame.head of                dc2ID\n",
      "0        10563134224\n",
      "1         9812798013\n",
      "2         5938497603\n",
      "3         8750306264\n",
      "4        10440561670\n",
      "...              ...\n",
      "2199995   9750875390\n",
      "2199996  10562645709\n",
      "2199997  10437695999\n",
      "2199998   6000533168\n",
      "2199999   8751030547\n",
      "\n",
      "[2200000 rows x 1 columns]>\n",
      "<bound method NDFrame.head of                dc2ID  morphology/spheroidHalfLightRadius    galaxy_id  \\\n",
      "0        10563134224                            1.908383  10563134224   \n",
      "1         9812798013                            0.998491   9812798013   \n",
      "2         5938497603                            1.527240   5938497603   \n",
      "3         8750306264                            3.262359   8750306264   \n",
      "4        10440561670                            0.652718  10440561670   \n",
      "...              ...                                 ...          ...   \n",
      "2199995   9750875390                            2.976761   9750875390   \n",
      "2199996  10562645709                            0.694379  10562645709   \n",
      "2199997  10437695999                            2.875744  10437695999   \n",
      "2199998   6000533168                            2.553047   6000533168   \n",
      "2199999   8751030547                            1.367069   8751030547   \n",
      "\n",
      "         morphology/diskHalfLightRadius  \n",
      "0                              4.567839  \n",
      "1                              2.121105  \n",
      "2                              3.309948  \n",
      "3                              5.205771  \n",
      "4                              1.096902  \n",
      "...                                 ...  \n",
      "2199995                        6.589329  \n",
      "2199996                        1.163350  \n",
      "2199997                        5.465494  \n",
      "2199998                        4.610143  \n",
      "2199999                        1.857695  \n",
      "\n",
      "[2200000 rows x 4 columns]>\n",
      "SNIb\n",
      "<HDF5 group \"/HostTable/SNIb\" (30 members)>\n",
      "<bound method NDFrame.head of             dc2ID\n",
      "0      9625245021\n",
      "1      8875768069\n",
      "2      8938026962\n",
      "3      8000878050\n",
      "4      9689011224\n",
      "...           ...\n",
      "99995  8751184286\n",
      "99996  9000777306\n",
      "99997  9751024578\n",
      "99998  9688041320\n",
      "99999  6001361554\n",
      "\n",
      "[100000 rows x 1 columns]>\n",
      "<bound method NDFrame.head of             dc2ID  morphology/spheroidHalfLightRadius   galaxy_id  \\\n",
      "0      9625245021                            1.398633  9625245021   \n",
      "1      8875768069                           15.178035  8875768069   \n",
      "2      8938026962                            3.179600  8938026962   \n",
      "3      8000878050                            1.227647  8000878050   \n",
      "4      9689011224                            1.879142  9689011224   \n",
      "...           ...                                 ...         ...   \n",
      "99995  8751184286                            2.748961  8751184286   \n",
      "99996  9000777306                            0.430237  9000777306   \n",
      "99997  9751024578                            1.893399  9751024578   \n",
      "99998  9688041320                            1.880696  9688041320   \n",
      "99999  6001361554                            1.591857  6001361554   \n",
      "\n",
      "       morphology/diskHalfLightRadius  \n",
      "0                            2.363848  \n",
      "1                           22.455697  \n",
      "2                            6.886694  \n",
      "3                            2.087549  \n",
      "4                            3.306838  \n",
      "...                               ...  \n",
      "99995                        4.712213  \n",
      "99996                        0.790545  \n",
      "99997                        2.734311  \n",
      "99998                        3.855566  \n",
      "99999                        2.662759  \n",
      "\n",
      "[100000 rows x 4 columns]>\n",
      "SNIc\n",
      "<HDF5 group \"/HostTable/SNIc\" (30 members)>\n",
      "<bound method NDFrame.head of               dc2ID\n",
      "0        5875249619\n",
      "1        8750016690\n",
      "2        9687942238\n",
      "3       10437583314\n",
      "4       10500537586\n",
      "...             ...\n",
      "199995   8937742852\n",
      "199996   6062883015\n",
      "199997  10563143653\n",
      "199998   8063659469\n",
      "199999   6062963947\n",
      "\n",
      "[200000 rows x 1 columns]>\n",
      "<bound method NDFrame.head of               dc2ID  morphology/spheroidHalfLightRadius    galaxy_id  \\\n",
      "0        5875249619                            1.137354   5875249619   \n",
      "1        8750016690                            1.826800   8750016690   \n",
      "2        9687942238                            4.524354   9687942238   \n",
      "3       10437583314                            2.826343  10437583314   \n",
      "4       10500537586                            2.876255  10500537586   \n",
      "...             ...                                 ...          ...   \n",
      "199995   8937742852                            1.843653   8937742852   \n",
      "199996   6062883015                            3.089192   6062883015   \n",
      "199997  10563143653                            2.522646  10563143653   \n",
      "199998   8063659469                            1.679002   8063659469   \n",
      "199999   6062963947                            5.192997   6062963947   \n",
      "\n",
      "        morphology/diskHalfLightRadius  \n",
      "0                             2.426021  \n",
      "1                             4.434869  \n",
      "2                             7.467942  \n",
      "3                             4.644666  \n",
      "4                             4.592947  \n",
      "...                                ...  \n",
      "199995                        2.890789  \n",
      "199996                        7.009320  \n",
      "199997                        3.715133  \n",
      "199998                        2.320559  \n",
      "199999                        5.747594  \n",
      "\n",
      "[200000 rows x 4 columns]>\n",
      "TDE\n",
      "<HDF5 group \"/HostTable/TDE\" (30 members)>\n",
      "<bound method NDFrame.head of              dc2ID\n",
      "0       5937931263\n",
      "1       9625191657\n",
      "2       8876020060\n",
      "3       8000763169\n",
      "4       9625240798\n",
      "...            ...\n",
      "100995  5939685446\n",
      "100996  6813032861\n",
      "100997  8062942847\n",
      "100998  8000060153\n",
      "100999  8063388132\n",
      "\n",
      "[101000 rows x 1 columns]>\n",
      "<bound method NDFrame.head of              dc2ID  morphology/spheroidHalfLightRadius   galaxy_id  \\\n",
      "0       5937931263                            0.759842  5937931263   \n",
      "1       9625191657                            0.681680  9625191657   \n",
      "2       8876020060                            0.413505  8876020060   \n",
      "3       8000763169                            2.829531  8000763169   \n",
      "4       9625240798                            0.424362  9625240798   \n",
      "...            ...                                 ...         ...   \n",
      "100995  5939685446                            0.809411  5939685446   \n",
      "100996  6813032861                            0.403434  6813032861   \n",
      "100997  8062942847                            3.326988  8062942847   \n",
      "100998  8000060153                            1.107617  8000060153   \n",
      "100999  8063388132                            0.850705  8063388132   \n",
      "\n",
      "        morphology/diskHalfLightRadius  \n",
      "0                             1.329496  \n",
      "1                             1.397117  \n",
      "2                             0.834582  \n",
      "3                             5.563803  \n",
      "4                             0.692884  \n",
      "...                                ...  \n",
      "100995                        1.616908  \n",
      "100996                        0.803212  \n",
      "100997                        5.920388  \n",
      "100998                        2.442503  \n",
      "100999                        1.965715  \n",
      "\n",
      "[101000 rows x 4 columns]>\n"
     ]
    }
   ],
   "source": [
    "# now add the disk and bulge half-light radii\n",
    "# the 'get_quantities' line can be modified to add in any other quantity of interest from cosmoDC2\n",
    "htable = f['HostTable']\n",
    "for cl in htable.keys():\n",
    "    if cl not in ['AGN', 'KN']:\n",
    "        print(cl)\n",
    "        clas = htable[cl]\n",
    "        print(clas)\n",
    "        dc2id = pd.DataFrame({'dc2ID':np.array(clas['dc2ID'])})\n",
    "        print(dc2id.head)\n",
    "        filters=[(lambda x: np.isin(x, dc2id), 'galaxy_id')]\n",
    "        dc2 = cosmo.get_quantities(['morphology/diskHalfLightRadius', 'morphology/spheroidHalfLightRadius', 'galaxy_id'], filters=filters)\n",
    "        dc2 = pd.DataFrame(dc2)\n",
    "        mrged = pd.merge(dc2id, dc2, how='left', left_on='dc2ID', right_on='galaxy_id')\n",
    "        print(mrged.head)\n",
    "        clas.create_dataset('R_d', data=mrged['morphology/diskHalfLightRadius'])\n",
    "        clas.create_dataset('R_s', data=mrged['morphology/spheroidHalfLightRadius'])"
   ]
  },
  {
   "cell_type": "code",
   "execution_count": 7,
   "id": "5a0c794c-b9c8-43ba-9f2e-89f7122d1fa3",
   "metadata": {},
   "outputs": [
    {
     "name": "stdout",
     "output_type": "stream",
     "text": [
      "100000\n",
      "100000\n",
      "100000\n",
      "1999000\n",
      "100000\n",
      "2200000\n",
      "100000\n",
      "200000\n",
      "101000\n"
     ]
    }
   ],
   "source": [
    "sum=0\n",
    "for cl in htable.keys():\n",
    "    print(len(np.array(htable[cl]['R_s'])))\n",
    "    sum+= len(np.array(htable[cl]['R_s']))"
   ]
  },
  {
   "cell_type": "code",
   "execution_count": 8,
   "id": "19d9dc2c-0e07-4817-9f80-2f6ccd7914a5",
   "metadata": {},
   "outputs": [
    {
     "data": {
      "text/plain": [
       "0"
      ]
     },
     "execution_count": 8,
     "metadata": {},
     "output_type": "execute_result"
    }
   ],
   "source": [
    "np.sum(np.isnan(np.array(htable['KN']['R_d'])[:100]))"
   ]
  },
  {
   "cell_type": "code",
   "execution_count": 9,
   "id": "7062fc42-b551-4a99-9f0a-128f95c32f00",
   "metadata": {},
   "outputs": [
    {
     "data": {
      "text/plain": [
       "5000000"
      ]
     },
     "execution_count": 9,
     "metadata": {},
     "output_type": "execute_result"
    }
   ],
   "source": [
    "sum"
   ]
  },
  {
   "cell_type": "code",
   "execution_count": 10,
   "id": "d8266dd8-9c9e-4428-aecd-9e008bcf3f38",
   "metadata": {},
   "outputs": [
    {
     "data": {
      "text/plain": [
       "(0.0, 10.0)"
      ]
     },
     "execution_count": 10,
     "metadata": {},
     "output_type": "execute_result"
    },
    {
     "data": {
      "image/png": "[encoded data removed]",
      "text/plain": [
       "<Figure size 432x288 with 1 Axes>"
      ]
     },
     "metadata": {
      "needs_background": "light"
     },
     "output_type": "display_data"
    }
   ],
   "source": [
    "\n",
    "plt.hist(np.array(htable['SNII']['R_d']), density=True, bins=100, alpha=.3)\n",
    "plt.hist(np.array(htable['SLSN-I']['R_d']), density=True, color='purple', bins=100, alpha=.3)\n",
    "plt.xlim([0,10])"
   ]
  },
  {
   "cell_type": "code",
   "execution_count": 11,
   "id": "875567d3-d58b-4e03-b9e4-f0b047dafe16",
   "metadata": {},
   "outputs": [
    {
     "data": {
      "text/plain": [
       "<matplotlib.collections.PathCollection at 0x15550a137ca0>"
      ]
     },
     "execution_count": 11,
     "metadata": {},
     "output_type": "execute_result"
    },
    {
     "data": {
      "image/png": "[encoded data removed]",
      "text/plain": [
       "<Figure size 432x288 with 1 Axes>"
      ]
     },
     "metadata": {
      "needs_background": "light"
     },
     "output_type": "display_data"
    }
   ],
   "source": [
    "plt.scatter(np.array(htable['KN']['R_s']), np.array(htable['KN']['logMstar']), s=4, alpha=.01)"
   ]
  },
  {
   "cell_type": "code",
   "execution_count": 12,
   "id": "baa69a45-4457-43a2-89be-71bd2c09d274",
   "metadata": {},
   "outputs": [],
   "source": [
    "f.close()"
   ]
  },
  {
   "cell_type": "code",
   "execution_count": null,
   "id": "24e06af4-3d76-4dd0-b66b-055808d04bed",
   "metadata": {},
   "outputs": [],
   "source": []
  }
 ],
 "metadata": {
  "kernelspec": {
   "display_name": "desc-python",
   "language": "python",
   "name": "desc-python"
  },
  "language_info": {
   "codemirror_mode": {
    "name": "ipython",
    "version": 3
   },
   "file_extension": ".py",
   "mimetype": "text/x-python",
   "name": "python",
   "nbconvert_exporter": "python",
   "pygments_lexer": "ipython3",
   "version": "3.8.12"
  }
 },
 "nbformat": 4,
 "nbformat_minor": 5
}
