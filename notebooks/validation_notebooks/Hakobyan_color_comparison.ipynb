{
 "cells": [
  {
   "cell_type": "code",
   "execution_count": 1,
   "id": "05b830c9-9054-472b-a9d3-b4242563d8c9",
   "metadata": {},
   "outputs": [],
   "source": [
    "import GCRCatalogs\n",
    "import matplotlib.pyplot as plt\n",
    "import pandas as pd\n",
    "import glob\n",
    "import numpy as np\n",
    "from astropy import table\n",
    "import seaborn as sns"
   ]
  },
  {
   "cell_type": "code",
   "execution_count": 2,
   "id": "f61da5df-8517-424e-8ed8-68c8eb79f215",
   "metadata": {},
   "outputs": [],
   "source": [
    "cosmo = GCRCatalogs.load_catalog(\"cosmoDC2_v1.1.4_image\")"
   ]
  },
  {
   "cell_type": "code",
   "execution_count": 8,
   "id": "2e2ca04a-1caa-429f-8923-78f913c9edc2",
   "metadata": {},
   "outputs": [],
   "source": [
    "def collect_snana_outputs(path): #path may be single or list\n",
    "    if type(path)==str:\n",
    "        headfiles = sorted(glob.glob(path+ '*HEAD.FITS*'))\n",
    "        photfiles = sorted(glob.glob(path+ '*PHOT.FITS*'))\n",
    "    elif type(path)==list:\n",
    "        headfiles = []\n",
    "        photfiles = []\n",
    "        for p in path:\n",
    "            headfiles.extend(sorted(glob.glob(p+ '*HEAD.FITS*')))\n",
    "            photfiles.extend(sorted(glob.glob(p+ '*HEAD.FITS*')))\n",
    "    c=0\n",
    "    for file in headfiles: # don't read more than 10\n",
    "        if c==0:\n",
    "            headfile = table.Table.read(file, format='fits').to_pandas()\n",
    "        else:\n",
    "            headfile=headfile.append(table.Table.read(file, format='fits').to_pandas())\n",
    "        c+=1\n",
    "    return headfile\n",
    "        \n",
    "def pull_cosmodc2_props(quantities, indices):\n",
    "    filters=[(lambda x: np.isin(x, indices), 'galaxy_id')]\n",
    "    quants = quantities+['galaxy_id']\n",
    "    gals = cosmo.get_quantities(quants, filters)\n",
    "    return gals"
   ]
  },
  {
   "cell_type": "code",
   "execution_count": 9,
   "id": "f7e94f72-a9c5-4998-b7c0-048b0ca32467",
   "metadata": {},
   "outputs": [],
   "source": [
    "path = \"/global/cscratch1/sd/kessler/SNANA_LSST_SIM/SCOTCH10k_Z3/\"\n",
    "snia = collect_snana_outputs(path+\"MLAG_SCOTCH10k_SNIa-SALT2/\")\n"
   ]
  },
  {
   "cell_type": "code",
   "execution_count": 10,
   "id": "e73baf62-8fde-4ea1-b531-0a97c5d103e2",
   "metadata": {},
   "outputs": [],
   "source": [
    "sniax = collect_snana_outputs(path+\"MLAG_SCOTCH10k_SNIax/\")\n"
   ]
  },
  {
   "cell_type": "code",
   "execution_count": 11,
   "id": "326622d4-8178-4923-8d82-ed0ba8efcb6c",
   "metadata": {},
   "outputs": [],
   "source": [
    "sn91bg = collect_snana_outputs(path+\"MLAG_SCOTCH10k_SNIa-91bg/\")"
   ]
  },
  {
   "cell_type": "code",
   "execution_count": 12,
   "id": "8d15a94a-d6cf-40c6-9be3-8bc87c470657",
   "metadata": {},
   "outputs": [],
   "source": [
    "# snia   = snia.sample(n=10000)\n",
    "# sniax  = sniax.sample(n=10000)\n",
    "# sn91bg = sn91bg.sample(n=10000)"
   ]
  },
  {
   "cell_type": "code",
   "execution_count": 13,
   "id": "55bacbc4-f741-4386-ab18-652d5b8fbb8b",
   "metadata": {},
   "outputs": [],
   "source": [
    "quantities= ['Mag_true_u_sdss_z0','Mag_true_r_sdss_z0']\n",
    "snia = pull_cosmodc2_props(quantities, snia['HOSTGAL_OBJID'])\n"
   ]
  },
  {
   "cell_type": "code",
   "execution_count": 14,
   "id": "f53b566c-f39f-46fd-8924-22ed480ee50d",
   "metadata": {},
   "outputs": [],
   "source": [
    "sniax = pull_cosmodc2_props(quantities, sniax['HOSTGAL_OBJID'])"
   ]
  },
  {
   "cell_type": "code",
   "execution_count": 15,
   "id": "568bc069-cfbc-42c0-80a6-931897bacb65",
   "metadata": {},
   "outputs": [],
   "source": [
    "sn91bg =  pull_cosmodc2_props(quantities, sn91bg['HOSTGAL_OBJID'])"
   ]
  },
  {
   "cell_type": "code",
   "execution_count": 16,
   "id": "b12829d5-1910-48d9-9114-4401c1937561",
   "metadata": {},
   "outputs": [
    {
     "data": {
      "text/plain": [
       "(1.3723375, 0.005683095448783962)"
      ]
     },
     "execution_count": 16,
     "metadata": {},
     "output_type": "execute_result"
    }
   ],
   "source": [
    "np.average(snia['Mag_true_u_sdss_z0']-snia['Mag_true_r_sdss_z0']), np.std(snia['Mag_true_u_sdss_z0']-snia['Mag_true_r_sdss_z0'])/np.sqrt(len(snia['Mag_true_r_sdss_z0']))\n"
   ]
  },
  {
   "cell_type": "code",
   "execution_count": 17,
   "id": "b5c3c266-4e0d-43ad-aef4-aa2199da6caf",
   "metadata": {},
   "outputs": [
    {
     "data": {
      "text/plain": [
       "(1.2553247, 0.005814034636491799)"
      ]
     },
     "execution_count": 17,
     "metadata": {},
     "output_type": "execute_result"
    }
   ],
   "source": [
    "np.average(sniax['Mag_true_u_sdss_z0']-sniax['Mag_true_r_sdss_z0']), np.std(sniax['Mag_true_u_sdss_z0']-sniax['Mag_true_r_sdss_z0'])/np.sqrt(len(sniax['Mag_true_u_sdss_z0']))"
   ]
  },
  {
   "cell_type": "code",
   "execution_count": 18,
   "id": "b3a151b7-96f7-4baa-8bfa-03a20b8b8af6",
   "metadata": {},
   "outputs": [
    {
     "data": {
      "text/plain": [
       "(1.9086872, 0.003283362515673)"
      ]
     },
     "execution_count": 18,
     "metadata": {},
     "output_type": "execute_result"
    }
   ],
   "source": [
    "np.average(sn91bg['Mag_true_u_sdss_z0']-sn91bg['Mag_true_r_sdss_z0']), np.std(sn91bg['Mag_true_u_sdss_z0']-sn91bg['Mag_true_r_sdss_z0'])/np.sqrt(len(sn91bg['Mag_true_u_sdss_z0']))\n"
   ]
  },
  {
   "cell_type": "code",
   "execution_count": 2,
   "id": "5503f952-f319-4f69-a347-cb6b7087c016",
   "metadata": {},
   "outputs": [
    {
     "name": "stdout",
     "output_type": "stream",
     "text": [
      "0.3699999999999999\n",
      "0.5363496999999999\n"
     ]
    }
   ],
   "source": [
    "# hakobyan 91bg vs normal\n",
    "print(2.23-1.86)\n",
    "# ours\n",
    "print(1.9086872-1.3723375)"
   ]
  },
  {
   "cell_type": "code",
   "execution_count": 8,
   "id": "b8815919-1560-4145-95ce-83a5c9c76b9a",
   "metadata": {},
   "outputs": [
    {
     "name": "stdout",
     "output_type": "stream",
     "text": [
      "-0.3900000000000001\n",
      "-0.11701279999999992\n"
     ]
    }
   ],
   "source": [
    "# hakobyan Iax vs normal\n",
    "print(1.47-1.86)\n",
    "# ours\n",
    "print(1.2553247-1.3723375)"
   ]
  },
  {
   "cell_type": "code",
   "execution_count": 6,
   "id": "70480903-ae05-4664-87c9-312aa079f641",
   "metadata": {},
   "outputs": [],
   "source": [
    "import numpy as np"
   ]
  },
  {
   "cell_type": "code",
   "execution_count": 9,
   "id": "1920860e-cd4d-4d66-990c-16d0a7d5736a",
   "metadata": {},
   "outputs": [
    {
     "data": {
      "text/plain": [
       "0.0081302258661316"
      ]
     },
     "execution_count": 9,
     "metadata": {},
     "output_type": "execute_result"
    }
   ],
   "source": [
    "np.sqrt(0.005683095448783962**2+0.005814034636491799**2)"
   ]
  },
  {
   "cell_type": "code",
   "execution_count": null,
   "id": "aea3451f-cb71-41d0-8f19-332a019ac9ce",
   "metadata": {},
   "outputs": [],
   "source": [
    "np.sqrt(0.005683095448783962**2+0.003283362515673**2)"
   ]
  },
  {
   "cell_type": "code",
   "execution_count": 11,
   "id": "c8973c34-0e68-4db6-b2be-2d526cc39413",
   "metadata": {},
   "outputs": [
    {
     "data": {
      "text/plain": [
       "16.034244229359764"
      ]
     },
     "execution_count": 11,
     "metadata": {},
     "output_type": "execute_result"
    }
   ],
   "source": [
    "(1.86-1.3723375)/np.sqrt(.03**2+.005**2)"
   ]
  },
  {
   "cell_type": "code",
   "execution_count": 12,
   "id": "b5b68219-79b8-4d7c-ae51-f53fbfeb0d10",
   "metadata": {},
   "outputs": [
    {
     "data": {
      "text/plain": [
       "2.1428992466181955"
      ]
     },
     "execution_count": 12,
     "metadata": {},
     "output_type": "execute_result"
    }
   ],
   "source": [
    "(1.47-1.2553247)/np.sqrt(.1**2+.006**2)"
   ]
  },
  {
   "cell_type": "code",
   "execution_count": 13,
   "id": "0b1b41bd-ccac-433d-acff-103ef211e19e",
   "metadata": {},
   "outputs": [
    {
     "data": {
      "text/plain": [
       "6.388511010980984"
      ]
     },
     "execution_count": 13,
     "metadata": {},
     "output_type": "execute_result"
    }
   ],
   "source": [
    "(2.23-1.91)/np.sqrt(.05**2+.003**2)"
   ]
  },
  {
   "cell_type": "code",
   "execution_count": null,
   "id": "c429c257-cf70-4d64-8518-5a530836b2e2",
   "metadata": {},
   "outputs": [],
   "source": []
  }
 ],
 "metadata": {
  "kernelspec": {
   "display_name": "MyDescNew",
   "language": "python",
   "name": "mydescnew"
  },
  "language_info": {
   "codemirror_mode": {
    "name": "ipython",
    "version": 3
   },
   "file_extension": ".py",
   "mimetype": "text/x-python",
   "name": "python",
   "nbconvert_exporter": "python",
   "pygments_lexer": "ipython3",
   "version": "3.8.12"
  }
 },
 "nbformat": 4,
 "nbformat_minor": 5
}
