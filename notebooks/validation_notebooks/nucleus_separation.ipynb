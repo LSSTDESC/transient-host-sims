{
 "cells": [
  {
   "cell_type": "code",
   "execution_count": 44,
   "id": "00c90be1-959a-4771-a467-ca4f7bb8545e",
   "metadata": {},
   "outputs": [],
   "source": [
    "import numpy as np \n",
    "import pandas as pd\n",
    "import seaborn as sns\n",
    "import matplotlib.pyplot as plt\n",
    "from astropy import table\n",
    "from astropy.coordinates import SkyCoord\n",
    "import astropy.units as u\n",
    "from astropy.cosmology import Planck15 as cosmo\n",
    "import h5py"
   ]
  },
  {
   "cell_type": "code",
   "execution_count": 113,
   "id": "910b6153-7e49-48d3-aa85-8d2bce2ca3cb",
   "metadata": {},
   "outputs": [],
   "source": [
    "transDir = \"/global/cscratch1/sd/kessler/SNANA_LSST_SIM/MLAG_SCOTCH10k_TDE/\"\n",
    "\n",
    "TDE_heads = []\n",
    "for selection in ('0003', '0012', '0024', '0032'): # some random head files\n",
    "    TDE_phot_fn = transDir + \"MLAG_GP_SCOTCH10k_Z3_MXINTFLUX_NONIaMODEL0-{:s}_PHOT.FITS.gz\".format(selection)\n",
    "    TDE_head = table.Table.read(TDE_head_fn, format='fits').to_pandas()\n",
    "    TDE_heads.append(TDE_head)"
   ]
  },
  {
   "cell_type": "code",
   "execution_count": 117,
   "id": "a651f5b7-e2b8-4884-9654-2d6309a6fbe4",
   "metadata": {},
   "outputs": [
    {
     "data": {
      "text/plain": [
       "250"
      ]
     },
     "execution_count": 117,
     "metadata": {},
     "output_type": "execute_result"
    }
   ],
   "source": [
    "len(TDE_heads[0])"
   ]
  },
  {
   "cell_type": "code",
   "execution_count": 121,
   "id": "1fd8680c-df43-477e-8a28-928c1faa6e43",
   "metadata": {},
   "outputs": [],
   "source": [
    "TDE = pd.concat(TDE_heads)"
   ]
  },
  {
   "cell_type": "code",
   "execution_count": 122,
   "id": "1808bd96-836d-4769-8e35-c6eb71aaed41",
   "metadata": {},
   "outputs": [
    {
     "name": "stdout",
     "output_type": "stream",
     "text": [
      "HOSTGAL_NMATCH\n",
      "HOSTGAL_NMATCH2\n",
      "HOSTGAL_OBJID\n",
      "HOSTGAL_FLAG\n",
      "HOSTGAL_PHOTOZ\n",
      "HOSTGAL_PHOTOZ_ERR\n",
      "HOSTGAL_SPECZ\n",
      "HOSTGAL_SPECZ_ERR\n",
      "HOSTGAL_RA\n",
      "HOSTGAL_DEC\n",
      "HOSTGAL_SNSEP\n",
      "HOSTGAL_DDLR\n",
      "HOSTGAL_CONFUSION\n",
      "HOSTGAL_LOGMASS\n",
      "HOSTGAL_LOGMASS_ERR\n",
      "HOSTGAL_LOGSFR\n",
      "HOSTGAL_LOGSFR_ERR\n",
      "HOSTGAL_LOGsSFR\n",
      "HOSTGAL_LOGsSFR_ERR\n",
      "HOSTGAL_COLOR\n",
      "HOSTGAL_COLOR_ERR\n",
      "HOSTGAL_ELLIPTICITY\n",
      "HOSTGAL_OBJID2\n",
      "HOSTGAL_SQRADIUS\n",
      "HOSTGAL_OBJID_UNIQUE\n",
      "HOSTGAL_ZPHOT_Q000\n",
      "HOSTGAL_ZPHOT_Q010\n",
      "HOSTGAL_ZPHOT_Q020\n",
      "HOSTGAL_ZPHOT_Q030\n",
      "HOSTGAL_ZPHOT_Q040\n",
      "HOSTGAL_ZPHOT_Q050\n",
      "HOSTGAL_ZPHOT_Q060\n",
      "HOSTGAL_ZPHOT_Q070\n",
      "HOSTGAL_ZPHOT_Q080\n",
      "HOSTGAL_ZPHOT_Q090\n",
      "HOSTGAL_ZPHOT_Q100\n",
      "HOSTGAL_MAG_u\n",
      "HOSTGAL_MAG_g\n",
      "HOSTGAL_MAG_r\n",
      "HOSTGAL_MAG_i\n",
      "HOSTGAL_MAG_z\n",
      "HOSTGAL_MAG_Y\n",
      "HOSTGAL_MAGERR_u\n",
      "HOSTGAL_MAGERR_g\n",
      "HOSTGAL_MAGERR_r\n",
      "HOSTGAL_MAGERR_i\n",
      "HOSTGAL_MAGERR_z\n",
      "HOSTGAL_MAGERR_Y\n",
      "HOSTGAL2_OBJID\n",
      "HOSTGAL2_FLAG\n",
      "HOSTGAL2_PHOTOZ\n",
      "HOSTGAL2_PHOTOZ_ERR\n",
      "HOSTGAL2_SPECZ\n",
      "HOSTGAL2_SPECZ_ERR\n",
      "HOSTGAL2_RA\n",
      "HOSTGAL2_DEC\n",
      "HOSTGAL2_SNSEP\n",
      "HOSTGAL2_DDLR\n",
      "HOSTGAL2_LOGMASS\n",
      "HOSTGAL2_LOGMASS_ERR\n",
      "HOSTGAL2_LOGSFR\n",
      "HOSTGAL2_LOGSFR_ERR\n",
      "HOSTGAL2_LOGsSFR\n",
      "HOSTGAL2_LOGsSFR_ERR\n",
      "HOSTGAL2_COLOR\n",
      "HOSTGAL2_COLOR_ERR\n",
      "HOSTGAL2_ELLIPTICITY\n",
      "HOSTGAL2_OBJID2\n",
      "HOSTGAL2_SQRADIUS\n",
      "HOSTGAL2_OBJID_UNIQUE\n",
      "HOSTGAL2_MAG_u\n",
      "HOSTGAL2_MAG_g\n",
      "HOSTGAL2_MAG_r\n",
      "HOSTGAL2_MAG_i\n",
      "HOSTGAL2_MAG_z\n",
      "HOSTGAL2_MAG_Y\n",
      "HOSTGAL2_MAGERR_u\n",
      "HOSTGAL2_MAGERR_g\n",
      "HOSTGAL2_MAGERR_r\n",
      "HOSTGAL2_MAGERR_i\n",
      "HOSTGAL2_MAGERR_z\n",
      "HOSTGAL2_MAGERR_Y\n",
      "HOSTGAL2_ZPHOT_Q000\n",
      "HOSTGAL2_ZPHOT_Q010\n",
      "HOSTGAL2_ZPHOT_Q020\n",
      "HOSTGAL2_ZPHOT_Q030\n",
      "HOSTGAL2_ZPHOT_Q040\n",
      "HOSTGAL2_ZPHOT_Q050\n",
      "HOSTGAL2_ZPHOT_Q060\n",
      "HOSTGAL2_ZPHOT_Q070\n",
      "HOSTGAL2_ZPHOT_Q080\n",
      "HOSTGAL2_ZPHOT_Q090\n",
      "HOSTGAL2_ZPHOT_Q100\n",
      "HOSTGAL_SB_FLUXCAL_u\n",
      "HOSTGAL_SB_FLUXCAL_g\n",
      "HOSTGAL_SB_FLUXCAL_r\n",
      "HOSTGAL_SB_FLUXCAL_i\n",
      "HOSTGAL_SB_FLUXCAL_z\n",
      "HOSTGAL_SB_FLUXCAL_Y\n"
     ]
    }
   ],
   "source": [
    "for col in TDE.columns:\n",
    "    if 'HOSTGAL' in col:\n",
    "        print(col)"
   ]
  },
  {
   "cell_type": "code",
   "execution_count": 123,
   "id": "53c9dad6-12e3-4c64-ab79-93ee198f65b5",
   "metadata": {},
   "outputs": [],
   "source": [
    "c2 = SkyCoord(TDE['HOSTGAL_RA'].values*u.deg, TDE['HOSTGAL_DEC'].values*u.deg, frame='icrs')\n",
    "c1 = SkyCoord(0.0*u.deg, 0.0*u.deg, frame='icrs')\n",
    "sep_tde = c1.separation(c2)"
   ]
  },
  {
   "cell_type": "code",
   "execution_count": 124,
   "id": "6d78374a-2f5e-4045-81c9-65acdca77b14",
   "metadata": {},
   "outputs": [],
   "source": [
    "redshift_tde = np.asarray(TDE['HOSTGAL_SPECZ'])\n",
    "sep_phys_tde = cosmo.kpc_proper_per_arcmin(redshift_tde)*sep_tde.to(u.arcmin)\n",
    "tde_hostgal_rad = TDE['HOSTGAL_SQRADIUS']"
   ]
  },
  {
   "cell_type": "code",
   "execution_count": 126,
   "id": "4d792ee0-4063-46af-8a6f-6daae7a8dff2",
   "metadata": {},
   "outputs": [
    {
     "data": {
      "text/plain": [
       "Text(0.5, 0, 'Separation in kpc proper')"
      ]
     },
     "execution_count": 126,
     "metadata": {},
     "output_type": "execute_result"
    },
    {
     "data": {
      "image/png": "[encoded data removed]",
      "text/plain": [
       "<Figure size 432x288 with 1 Axes>"
      ]
     },
     "metadata": {
      "needs_background": "light"
     },
     "output_type": "display_data"
    }
   ],
   "source": [
    "plt.hist(sep_phys_tde.value)\n",
    "plt.xlabel(\"Separation in kpc proper\")"
   ]
  },
  {
   "cell_type": "code",
   "execution_count": 127,
   "id": "2e61cdff-94a4-450b-b760-3b1f7cdcd874",
   "metadata": {},
   "outputs": [
    {
     "data": {
      "text/plain": [
       "Text(0.5, 0, 'Separation in arcsec')"
      ]
     },
     "execution_count": 127,
     "metadata": {},
     "output_type": "execute_result"
    },
    {
     "data": {
      "image/png": "[encoded data removed]",
      "text/plain": [
       "<Figure size 432x288 with 1 Axes>"
      ]
     },
     "metadata": {
      "needs_background": "light"
     },
     "output_type": "display_data"
    }
   ],
   "source": [
    "plt.hist(sep_tde.to(u.arcsec).value)\n",
    "plt.xlabel(\"Separation in arcsec\")"
   ]
  },
  {
   "cell_type": "code",
   "execution_count": 129,
   "id": "3c1c6809-2212-49bd-9f58-5b99f07ace6e",
   "metadata": {},
   "outputs": [],
   "source": [
    "# compare with a more typical transient from SCOTCH\n",
    "f    = h5py.File(\"/global/cscratch1/sd/mlokken/sn_hostenv/scotch_submitted/scotch_z3.hdf5\", \"a\")"
   ]
  },
  {
   "cell_type": "code",
   "execution_count": 130,
   "id": "eacf4c4e-c061-4ee1-8958-8e7c0208b82f",
   "metadata": {},
   "outputs": [
    {
     "data": {
      "text/plain": [
       "<KeysViewHDF5 ['GID', 'MJD', 'TID', 'cadence', 'dec_off', 'mag_Y', 'mag_g', 'mag_i', 'mag_r', 'mag_u', 'mag_z', 'ra_off', 'sep', 'z']>"
      ]
     },
     "execution_count": 130,
     "metadata": {},
     "output_type": "execute_result"
    }
   ],
   "source": [
    "slsn.keys()"
   ]
  },
  {
   "cell_type": "code",
   "execution_count": 131,
   "id": "334189f7-2a3e-4ca3-be1c-cf1aa7ea0c30",
   "metadata": {},
   "outputs": [],
   "source": [
    "slsn = f['TransientTable']['SLSN-I']['SLSN-I']\n",
    "sep_slsn  = list(slsn['sep'][0:1000])\n",
    "redshift_slsn    = list(slsn['z'][0:1000])"
   ]
  },
  {
   "cell_type": "code",
   "execution_count": 132,
   "id": "66c6ef95-f904-4c62-9c34-6ab6cf12d1db",
   "metadata": {},
   "outputs": [],
   "source": [
    "sep_phys_slsn = cosmo.kpc_proper_per_arcmin(redshift_slsn).to(u.kpc/u.arcsec)*sep_slsn*u.arcsec"
   ]
  },
  {
   "cell_type": "code",
   "execution_count": 133,
   "id": "84b19cdb-4959-4698-848b-583e6880cb22",
   "metadata": {},
   "outputs": [
    {
     "data": {
      "text/plain": [
       "Text(0.5, 0, 'Separation in kpc proper')"
      ]
     },
     "execution_count": 133,
     "metadata": {},
     "output_type": "execute_result"
    },
    {
     "data": {
      "image/png": "[encoded data removed]",
      "text/plain": [
       "<Figure size 432x288 with 1 Axes>"
      ]
     },
     "metadata": {
      "needs_background": "light"
     },
     "output_type": "display_data"
    }
   ],
   "source": [
    "plt.hist(sep_phys_slsn.value)\n",
    "plt.xlabel(\"Separation in kpc proper\")"
   ]
  },
  {
   "cell_type": "code",
   "execution_count": 139,
   "id": "b2cba048-0cb6-402c-8d39-e99968d7de6e",
   "metadata": {},
   "outputs": [
    {
     "data": {
      "text/plain": [
       "<matplotlib.legend.Legend at 0x1554fcfe6130>"
      ]
     },
     "execution_count": 139,
     "metadata": {},
     "output_type": "execute_result"
    },
    {
     "data": {
      "image/png": "[encoded data removed]",
      "text/plain": [
       "<Figure size 432x288 with 1 Axes>"
      ]
     },
     "metadata": {
      "needs_background": "light"
     },
     "output_type": "display_data"
    }
   ],
   "source": [
    "plt.hist(sep_phys_slsn.value, label='SLSN', alpha=.5, bins=100)\n",
    "plt.hist(sep_phys_tde.value, label='TDE', alpha=.5, bins=20)\n",
    "plt.xlabel(\"Transient-nucleus separation in proper kpc\")\n",
    "plt.ylabel(\"Probability Density\")\n",
    "plt.xlim([0,30])\n",
    "plt.legend()"
   ]
  },
  {
   "cell_type": "code",
   "execution_count": null,
   "id": "6f48d2d8-46b3-4585-b819-d33c7e22232d",
   "metadata": {},
   "outputs": [],
   "source": []
  }
 ],
 "metadata": {
  "kernelspec": {
   "display_name": "desc-python",
   "language": "python",
   "name": "desc-python"
  },
  "language_info": {
   "codemirror_mode": {
    "name": "ipython",
    "version": 3
   },
   "file_extension": ".py",
   "mimetype": "text/x-python",
   "name": "python",
   "nbconvert_exporter": "python",
   "pygments_lexer": "ipython3",
   "version": "3.8.12"
  }
 },
 "nbformat": 4,
 "nbformat_minor": 5
}
