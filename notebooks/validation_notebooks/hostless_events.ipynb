{
 "cells": [
  {
   "cell_type": "markdown",
   "id": "81040adb-de2a-4ef6-87b6-4112e53e42e3",
   "metadata": {},
   "source": [
    "# Missing Hosts"
   ]
  },
  {
   "cell_type": "code",
   "execution_count": 1,
   "id": "d732d5e1-70a3-4fec-ab6f-8b7cfdce5b01",
   "metadata": {},
   "outputs": [],
   "source": [
    "import numpy as np \n",
    "import pandas as pd\n",
    "import seaborn as sns\n",
    "import matplotlib.pyplot as plt\n",
    "from astropy import table\n",
    "from astropy.coordinates import SkyCoord\n",
    "import astropy.units as u\n",
    "import h5py\n",
    "import os\n",
    "from astropy.cosmology import FlatLambdaCDM\n",
    "cosmo = FlatLambdaCDM(H0=70, Om0=0.3, Tcmb0=2.725)\n",
    "import matplotlib\n",
    "# matplotlib.rcParams['text.usetex'] = True\n"
   ]
  },
  {
   "cell_type": "code",
   "execution_count": 23,
   "id": "5105fbce-87f2-4fd1-a490-6c6ae63a37d6",
   "metadata": {},
   "outputs": [],
   "source": [
    "def get_z(scotchdir, classname):\n",
    "    full_info = []\n",
    "    for file in os.listdir(scotchdir+classname):        \n",
    "        if \"HEAD\" in file:\n",
    "            head = table.Table.read(scotchdir+'/'+classname+'/'+file, format='fits').to_pandas()\n",
    "            full_info.append(head)\n",
    "    full = pd.concat(full_info)\n",
    "    # for col in full.columns:\n",
    "    #     print(col)\n",
    "    full = full[full['HOSTGAL_RA']==-999] # select the no-host events\n",
    "    redshift = np.asarray(full['REDSHIFT_HELIO'])\n",
    "    return redshift"
   ]
  },
  {
   "cell_type": "code",
   "execution_count": 59,
   "id": "2ba6bbed-fca0-4973-a0e6-0068ccc9fc14",
   "metadata": {},
   "outputs": [],
   "source": [
    "scotchdir = \"/global/cscratch1/sd/kessler/SNANA_LSST_SIM/SCOTCH_Z3_V2/\"\n",
    "# input model you want to check here:\n",
    "z_hostless  = get_z(scotchdir, \"MLAG_SCOTCH_Z3_AGN20\")\n"
   ]
  },
  {
   "cell_type": "code",
   "execution_count": 60,
   "id": "09ab599a-9f88-46bb-90ed-088b617f0418",
   "metadata": {},
   "outputs": [
    {
     "data": {
      "text/plain": [
       "(array([3., 2., 2., 1., 1., 4., 0., 3., 0., 4.]),\n",
       " array([0.2314129 , 0.4776535 , 0.7238941 , 0.97013474, 1.2163754 ,\n",
       "        1.462616  , 1.7088566 , 1.9550972 , 2.2013378 , 2.4475784 ,\n",
       "        2.693819  ], dtype=float32),\n",
       " <BarContainer object of 10 artists>)"
      ]
     },
     "execution_count": 60,
     "metadata": {},
     "output_type": "execute_result"
    },
    {
     "data": {
      "image/png": "[encoded data removed]",
      "text/plain": [
       "<Figure size 640x480 with 1 Axes>"
      ]
     },
     "metadata": {},
     "output_type": "display_data"
    }
   ],
   "source": [
    "plt.hist(z_hostless)"
   ]
  },
  {
   "cell_type": "code",
   "execution_count": 61,
   "id": "4519e326-b390-4396-891a-a3160b9fbf55",
   "metadata": {},
   "outputs": [
    {
     "name": "stdout",
     "output_type": "stream",
     "text": [
      "There are 20 events without hosts in this model.\n"
     ]
    }
   ],
   "source": [
    "print(\"There are {:d} events without hosts in this model.\".format(len(z_hostless)))"
   ]
  },
  {
   "cell_type": "code",
   "execution_count": 62,
   "id": "52d3eb0f-2707-4563-a030-af449b3e09b8",
   "metadata": {},
   "outputs": [
    {
     "name": "stdout",
     "output_type": "stream",
     "text": [
      "0.0002\n"
     ]
    }
   ],
   "source": [
    "N_SCOTCH = 100000 # enter by hand: Table 2\n",
    "print(len(z_hostless)/100000)"
   ]
  },
  {
   "cell_type": "code",
   "execution_count": 63,
   "id": "f7c3b7db-1bd1-4aaf-9edd-e745946a3605",
   "metadata": {},
   "outputs": [],
   "source": [
    "# 3,000 in KN: 6%\n",
    "# 1 in AGN01 ~0%\n",
    "# 79594 for SN Ia : 8%\n",
    "# 22 for TDE: ~0%\n",
    "# 23999 for SN II-NMF: ~4%\n",
    "# 3443 for SLSN-I: ~3%\n",
    "# 4127 for SN-Iax: ~4%"
   ]
  },
  {
   "cell_type": "code",
   "execution_count": null,
   "id": "3e706a15-50fd-4132-a81c-58485ab45f3a",
   "metadata": {},
   "outputs": [],
   "source": []
  }
 ],
 "metadata": {
  "kernelspec": {
   "display_name": "desc-stack-weekly-latest",
   "language": "python",
   "name": "desc-stack-weekly-latest"
  },
  "language_info": {
   "codemirror_mode": {
    "name": "ipython",
    "version": 3
   },
   "file_extension": ".py",
   "mimetype": "text/x-python",
   "name": "python",
   "nbconvert_exporter": "python",
   "pygments_lexer": "ipython3",
   "version": "3.10.5"
  }
 },
 "nbformat": 4,
 "nbformat_minor": 5
}
