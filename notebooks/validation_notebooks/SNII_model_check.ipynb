{
 "cells": [
  {
   "cell_type": "code",
   "execution_count": 1,
   "id": "4c3c0d28-e5f5-4e8c-854b-17d876b632f7",
   "metadata": {},
   "outputs": [],
   "source": [
    "import matplotlib.pyplot as plt\n",
    "import pandas as pd\n",
    "import glob\n",
    "import numpy as np\n",
    "from astropy import table\n",
    "import seaborn as sns"
   ]
  },
  {
   "cell_type": "code",
   "execution_count": 2,
   "id": "07c965a3-30df-4388-81ae-4e5351c4038e",
   "metadata": {},
   "outputs": [],
   "source": [
    "def collect_snana_outputs(path): #path may be single or list\n",
    "    if type(path)==str:\n",
    "        headfiles = sorted(glob.glob(path+ '*HEAD.FITS*'))\n",
    "        photfiles = sorted(glob.glob(path+ '*PHOT.FITS*'))\n",
    "    elif type(path)==list:\n",
    "        headfiles = []\n",
    "        photfiles = []\n",
    "        for p in path:\n",
    "            headfiles.extend(sorted(glob.glob(p+ '*HEAD.FITS*')))\n",
    "            photfiles.extend(sorted(glob.glob(p+ '*HEAD.FITS*')))\n",
    "    c=0\n",
    "    for file in headfiles[:1]:\n",
    "        if c==0:\n",
    "            headfile = table.Table.read(file, format='fits').to_pandas()\n",
    "        else:\n",
    "            headfile=headfile.append(table.Table.read(file, format='fits').to_pandas())\n",
    "        c+=1\n",
    "    return headfile"
   ]
  },
  {
   "cell_type": "code",
   "execution_count": 19,
   "id": "90ab6a9d-ae03-4085-b55e-b1bc27316720",
   "metadata": {},
   "outputs": [],
   "source": [
    "icbl = collect_snana_outputs(\"/global/cscratch1/sd/kessler/SNANA_LSST_SIM/SCOTCH_CATALOG/MLAG_GP_SCOTCH_FINAL_SNIcBL+HostXT_V19/\")"
   ]
  },
  {
   "cell_type": "code",
   "execution_count": 20,
   "id": "ca1fd2bc-4aff-48b8-9431-01d28d2660b2",
   "metadata": {},
   "outputs": [
    {
     "name": "stdout",
     "output_type": "stream",
     "text": [
      "SUBSURVEY\n",
      "SNID\n",
      "IAUC\n",
      "FAKE\n",
      "RA\n",
      "DEC\n",
      "PIXSIZE\n",
      "NXPIX\n",
      "NYPIX\n",
      "SNTYPE\n",
      "NOBS\n",
      "PTROBS_MIN\n",
      "PTROBS_MAX\n",
      "MWEBV\n",
      "MWEBV_ERR\n",
      "REDSHIFT_HELIO\n",
      "REDSHIFT_HELIO_ERR\n",
      "REDSHIFT_FINAL\n",
      "REDSHIFT_FINAL_ERR\n",
      "VPEC\n",
      "VPEC_ERR\n",
      "HOSTGAL_NMATCH\n",
      "HOSTGAL_NMATCH2\n",
      "HOSTGAL_OBJID\n",
      "HOSTGAL_FLAG\n",
      "HOSTGAL_PHOTOZ\n",
      "HOSTGAL_PHOTOZ_ERR\n",
      "HOSTGAL_SPECZ\n",
      "HOSTGAL_SPECZ_ERR\n",
      "HOSTGAL_RA\n",
      "HOSTGAL_DEC\n",
      "HOSTGAL_SNSEP\n",
      "HOSTGAL_DDLR\n",
      "HOSTGAL_CONFUSION\n",
      "HOSTGAL_LOGMASS\n",
      "HOSTGAL_LOGMASS_ERR\n",
      "HOSTGAL_sSFR\n",
      "HOSTGAL_sSFR_ERR\n",
      "HOSTGAL_ELLIPTICITY\n",
      "HOSTGAL_OBJID2\n",
      "HOSTGAL_SQRADIUS\n",
      "HOSTGAL_OBJID_UNIQUE\n",
      "HOSTGAL_MAG_u\n",
      "HOSTGAL_MAG_g\n",
      "HOSTGAL_MAG_r\n",
      "HOSTGAL_MAG_i\n",
      "HOSTGAL_MAG_z\n",
      "HOSTGAL_MAG_Y\n",
      "HOSTGAL_MAGERR_u\n",
      "HOSTGAL_MAGERR_g\n",
      "HOSTGAL_MAGERR_r\n",
      "HOSTGAL_MAGERR_i\n",
      "HOSTGAL_MAGERR_z\n",
      "HOSTGAL_MAGERR_Y\n",
      "HOSTGAL2_OBJID\n",
      "HOSTGAL2_FLAG\n",
      "HOSTGAL2_PHOTOZ\n",
      "HOSTGAL2_PHOTOZ_ERR\n",
      "HOSTGAL2_SPECZ\n",
      "HOSTGAL2_SPECZ_ERR\n",
      "HOSTGAL2_RA\n",
      "HOSTGAL2_DEC\n",
      "HOSTGAL2_SNSEP\n",
      "HOSTGAL2_DDLR\n",
      "HOSTGAL2_LOGMASS\n",
      "HOSTGAL2_LOGMASS_ERR\n",
      "HOSTGAL2_sSFR\n",
      "HOSTGAL2_sSFR_ERR\n",
      "HOSTGAL2_ELLIPTICITY\n",
      "HOSTGAL2_OBJID2\n",
      "HOSTGAL2_SQRADIUS\n",
      "HOSTGAL2_OBJID_UNIQUE\n",
      "HOSTGAL2_MAG_u\n",
      "HOSTGAL2_MAG_g\n",
      "HOSTGAL2_MAG_r\n",
      "HOSTGAL2_MAG_i\n",
      "HOSTGAL2_MAG_z\n",
      "HOSTGAL2_MAG_Y\n",
      "HOSTGAL2_MAGERR_u\n",
      "HOSTGAL2_MAGERR_g\n",
      "HOSTGAL2_MAGERR_r\n",
      "HOSTGAL2_MAGERR_i\n",
      "HOSTGAL2_MAGERR_z\n",
      "HOSTGAL2_MAGERR_Y\n",
      "HOSTGAL_SB_FLUXCAL_u\n",
      "HOSTGAL_SB_FLUXCAL_g\n",
      "HOSTGAL_SB_FLUXCAL_r\n",
      "HOSTGAL_SB_FLUXCAL_i\n",
      "HOSTGAL_SB_FLUXCAL_z\n",
      "HOSTGAL_SB_FLUXCAL_Y\n",
      "PEAKMJD\n",
      "MJD_TRIGGER\n",
      "MJD_DETECT_FIRST\n",
      "MJD_DETECT_LAST\n",
      "SEARCH_TYPE\n",
      "SIM_MODEL_NAME\n",
      "SIM_MODEL_INDEX\n",
      "SIM_TYPE_INDEX\n",
      "SIM_TYPE_NAME\n",
      "SIM_TEMPLATE_INDEX\n",
      "SIM_LIBID\n",
      "SIM_NGEN_LIBID\n",
      "SIM_NOBS_UNDEFINED\n",
      "SIM_SEARCHEFF_MASK\n",
      "SIM_REDSHIFT_HELIO\n",
      "SIM_REDSHIFT_CMB\n",
      "SIM_REDSHIFT_HOST\n",
      "SIM_REDSHIFT_FLAG\n",
      "SIM_VPEC\n",
      "SIM_HOSTLIB_GALID\n",
      "SIM_HOSTLIB(LOG_SFR)\n",
      "SIM_HOSTLIB(LOGMASS_TRUE)\n",
      "SIM_HOSTLIB(SQRADIUS)\n",
      "SIM_HOSTLIB(ELLIPTICITY)\n",
      "SIM_HOSTLIB(a0_Sersic)\n",
      "SIM_HOSTLIB(b0_Sersic)\n",
      "SIM_HOSTLIB(n0_Sersic)\n",
      "SIM_HOSTLIB(w0_Sersic)\n",
      "SIM_HOSTLIB(a1_Sersic)\n",
      "SIM_HOSTLIB(b1_Sersic)\n",
      "SIM_HOSTLIB(n1_Sersic)\n",
      "SIM_HOSTLIB(w1_Sersic)\n",
      "SIM_HOSTLIB(a_rot)\n",
      "SIM_DLMU\n",
      "SIM_LENSDMU\n",
      "SIM_RA\n",
      "SIM_DEC\n",
      "SIM_MWEBV\n",
      "SIM_PEAKMJD\n",
      "SIM_MAGSMEAR_COH\n",
      "SIM_AV\n",
      "SIM_RV\n",
      "SIM_PEAKMAG_u\n",
      "SIM_PEAKMAG_g\n",
      "SIM_PEAKMAG_r\n",
      "SIM_PEAKMAG_i\n",
      "SIM_PEAKMAG_z\n",
      "SIM_PEAKMAG_Y\n",
      "SIM_EXPOSURE_u\n",
      "SIM_EXPOSURE_g\n",
      "SIM_EXPOSURE_r\n",
      "SIM_EXPOSURE_i\n",
      "SIM_EXPOSURE_z\n",
      "SIM_EXPOSURE_Y\n",
      "SIM_GALFRAC_u\n",
      "SIM_GALFRAC_g\n",
      "SIM_GALFRAC_r\n",
      "SIM_GALFRAC_i\n",
      "SIM_GALFRAC_z\n",
      "SIM_GALFRAC_Y\n",
      "SIM_SUBSAMPLE_INDEX\n"
     ]
    }
   ],
   "source": [
    "for col in ii.columns:\n",
    "    print(col)"
   ]
  },
  {
   "cell_type": "code",
   "execution_count": 21,
   "id": "0a20bab1-e187-4448-b081-c05f5084310e",
   "metadata": {},
   "outputs": [
    {
     "data": {
      "text/plain": [
       "(0       1.160189\n",
       " 1       1.275989\n",
       " 2       1.368123\n",
       " 3       0.456140\n",
       " 4       1.018870\n",
       "           ...   \n",
       " 2495    1.148173\n",
       " 2496    1.168754\n",
       " 2497    0.937665\n",
       " 2498    0.616827\n",
       " 2499    1.147754\n",
       " Name: HOSTGAL_PHOTOZ, Length: 2500, dtype: float32,\n",
       " 0       1.160185\n",
       " 1       1.275989\n",
       " 2       1.368123\n",
       " 3       0.456148\n",
       " 4       1.018855\n",
       "           ...   \n",
       " 2495    1.148187\n",
       " 2496    1.168755\n",
       " 2497    0.937666\n",
       " 2498    0.616818\n",
       " 2499    1.147767\n",
       " Name: REDSHIFT_HELIO, Length: 2500, dtype: float32)"
      ]
     },
     "execution_count": 21,
     "metadata": {},
     "output_type": "execute_result"
    }
   ],
   "source": [
    "ii['HOSTGAL_PHOTOZ'], ii['REDSHIFT_HELIO']"
   ]
  },
  {
   "cell_type": "code",
   "execution_count": 22,
   "id": "477533df-4028-45cb-ace7-5e5cd874cf2f",
   "metadata": {},
   "outputs": [
    {
     "data": {
      "text/plain": [
       "array([b'NON1ASED                        '], dtype=object)"
      ]
     },
     "execution_count": 22,
     "metadata": {},
     "output_type": "execute_result"
    }
   ],
   "source": [
    "np.unique(ii['SIM_MODEL_NAME'])"
   ]
  },
  {
   "cell_type": "code",
   "execution_count": 17,
   "id": "903d054c-b520-44fa-97c8-3bc610e50e38",
   "metadata": {},
   "outputs": [
    {
     "data": {
      "text/plain": [
       "array([b'UNKNOWN '], dtype=object)"
      ]
     },
     "execution_count": 17,
     "metadata": {},
     "output_type": "execute_result"
    }
   ],
   "source": [
    "np.unique(ii['SIM_TYPE_NAME'])"
   ]
  },
  {
   "cell_type": "code",
   "execution_count": 24,
   "id": "365fcc3d-82fd-40fb-9748-5f7b56c50d15",
   "metadata": {},
   "outputs": [],
   "source": [
    "ii_temp = collect_snana_outputs(\"/global/cscratch1/sd/kessler/SNANA_LSST_SIM/MLAG_GP_ELASTICC_LSST_FULLSAMPLE/MLAG_GP_ELASTICC_LSST_WFD_SNII-NMF/\")"
   ]
  },
  {
   "cell_type": "code",
   "execution_count": 29,
   "id": "60df1033-e729-4541-b6a2-aa1082681a34",
   "metadata": {},
   "outputs": [
    {
     "data": {
      "text/plain": [
       "array([7], dtype=int16)"
      ]
     },
     "execution_count": 29,
     "metadata": {},
     "output_type": "execute_result"
    }
   ],
   "source": [
    "np.unique(ii_temp['SIM_MODEL_INDEX'])"
   ]
  },
  {
   "cell_type": "code",
   "execution_count": null,
   "id": "516d4056-a661-46fa-bf7a-d46961ea7cf6",
   "metadata": {},
   "outputs": [],
   "source": []
  }
 ],
 "metadata": {
  "kernelspec": {
   "display_name": "desc-python",
   "language": "python",
   "name": "desc-python"
  },
  "language_info": {
   "codemirror_mode": {
    "name": "ipython",
    "version": 3
   },
   "file_extension": ".py",
   "mimetype": "text/x-python",
   "name": "python",
   "nbconvert_exporter": "python",
   "pygments_lexer": "ipython3",
   "version": "3.8.12"
  }
 },
 "nbformat": 4,
 "nbformat_minor": 5
}
