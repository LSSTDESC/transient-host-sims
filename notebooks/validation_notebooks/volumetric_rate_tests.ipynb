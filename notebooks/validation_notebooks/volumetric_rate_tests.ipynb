{
 "cells": [
  {
   "cell_type": "code",
   "execution_count": 1,
   "id": "981ee51c-5608-462d-a6e5-450695a0c1e5",
   "metadata": {},
   "outputs": [],
   "source": [
    "import pandas as pd\n",
    "import matplotlib.pyplot as plt\n",
    "import os\n",
    "import glob\n",
    "from astropy import table\n",
    "import seaborn as sns\n",
    "import numpy as np\n",
    "import astropy\n",
    "from astropy.cosmology import FlatLambdaCDM\n",
    "import h5py\n",
    "cosmo = FlatLambdaCDM(H0=70, Om0=0.315)\n",
    "import warnings\n",
    "warnings.filterwarnings(\"ignore\")\n",
    "#plotting functionality!!\n",
    "sns.set_context(\"talk\",font_scale=1.5)\n",
    "\n",
    "sns.set_style('white', {'axes.linewidth': 0.5})\n",
    "plt.rcParams['xtick.major.size'] = 15\n",
    "plt.rcParams['ytick.major.size'] = 15\n",
    "\n",
    "plt.rcParams['xtick.minor.size'] = 10\n",
    "plt.rcParams['ytick.minor.size'] = 10\n",
    "plt.rcParams['xtick.minor.width'] = 2\n",
    "plt.rcParams['ytick.minor.width'] = 2\n",
    "\n",
    "plt.rcParams['xtick.major.width'] = 2\n",
    "plt.rcParams['ytick.major.width'] = 2\n",
    "plt.rcParams['xtick.bottom'] = True\n",
    "plt.rcParams['xtick.top'] = True\n",
    "plt.rcParams['ytick.left'] = True\n",
    "plt.rcParams['ytick.right'] = True\n",
    "\n",
    "plt.rcParams['xtick.minor.visible'] = True\n",
    "plt.rcParams['ytick.minor.visible'] = True\n",
    "plt.rcParams['xtick.direction'] = 'in'\n",
    "plt.rcParams['ytick.direction'] = 'in'\n",
    "\n",
    "plt.rcParams.update({\n",
    "    \"text.usetex\": False,\n",
    "    \"font.family\": \"sans-serif\",\n",
    "    \"font.sans-serif\": [\"Helvetica\"]})\n",
    "## for Palatino and other serif fonts use:\n",
    "plt.rcParams.update({\n",
    "    \"text.usetex\": False,\n",
    "    \"font.family\": \"serif\",\n",
    "    \"font.serif\": [\"Palatino\"],\n",
    "})"
   ]
  },
  {
   "cell_type": "code",
   "execution_count": 2,
   "id": "e60d78bc-508b-408c-8bb7-8a608cb9b229",
   "metadata": {},
   "outputs": [],
   "source": [
    "def ia_rate(z):\n",
    "    rates = []\n",
    "    for zstep in z:\n",
    "        if zstep<1:\n",
    "            rates.append(2.5e-5*(1+zstep)**1.5)\n",
    "        elif zstep>=1:\n",
    "            rates.append(9.7e-5*(1+zstep)**-0.5)\n",
    "    return(np.asarray(rates))\n",
    "        \n",
    "def collect_snana_outputs(path): #path may be single or list\n",
    "    if type(path)==str:\n",
    "        headfiles = sorted(glob.glob(path+ '*HEAD.FITS*'))\n",
    "        photfiles = sorted(glob.glob(path+ '*PHOT.FITS*'))\n",
    "    elif type(path)==list:\n",
    "        headfiles = []\n",
    "        photfiles = []\n",
    "        for p in path:\n",
    "            headfiles.extend(sorted(glob.glob(p+ '*HEAD.FITS*')))\n",
    "            photfiles.extend(sorted(glob.glob(p+ '*HEAD.FITS*')))\n",
    "    c=0\n",
    "    for file in headfiles:\n",
    "        if c==0:\n",
    "            headfile = table.Table.read(file, format='fits').to_pandas()\n",
    "        else:\n",
    "            headfile=headfile.append(table.Table.read(file, format='fits').to_pandas())\n",
    "        c+=1\n",
    "    return headfile"
   ]
  },
  {
   "cell_type": "code",
   "execution_count": 3,
   "id": "32e2bcb4-9efb-4a51-a283-790288940eba",
   "metadata": {},
   "outputs": [],
   "source": [
    "scotchpath = \"/global/cscratch1/sd/kessler/SNANA_LSST_SIM/SCOTCH10k_Z3/\"\n",
    "scotchpath = \"/global/cscratch1/sd/mlokken/sn_hostenv/scotch_z3_with_sizes.hdf5\""
   ]
  },
  {
   "cell_type": "code",
   "execution_count": 4,
   "id": "a4f72b8a-18bd-49c0-b5a1-6c1f1393d49e",
   "metadata": {},
   "outputs": [],
   "source": [
    "f    = h5py.File(scotchpath, \"r\")"
   ]
  },
  {
   "cell_type": "code",
   "execution_count": 5,
   "id": "32eb9d1b-0dea-4fe8-b594-a971af874c97",
   "metadata": {},
   "outputs": [],
   "source": [
    "ttable = f['TransientTable']\n",
    "htable = f['HostTable']"
   ]
  },
  {
   "cell_type": "code",
   "execution_count": 6,
   "id": "7d24dc1d-9994-40e2-99d4-6161fdb43d35",
   "metadata": {},
   "outputs": [
    {
     "data": {
      "text/plain": [
       "<KeysViewHDF5 ['AGN', 'KN', 'SLSN-I', 'SNII', 'SNIIb', 'SNIa', 'SNIb', 'SNIc', 'TDE']>"
      ]
     },
     "execution_count": 6,
     "metadata": {},
     "output_type": "execute_result"
    }
   ],
   "source": [
    "htable.keys()"
   ]
  },
  {
   "cell_type": "code",
   "execution_count": 7,
   "id": "4096d75a-c3ce-4854-9abc-53213967f027",
   "metadata": {},
   "outputs": [],
   "source": [
    "cl = 'KN'\n",
    "z = np.array(htable[cl]['z'])\n",
    "f.close()"
   ]
  },
  {
   "cell_type": "code",
   "execution_count": 8,
   "id": "858c1b24-d3e0-44d4-b65c-7e9fb092bd91",
   "metadata": {},
   "outputs": [],
   "source": [
    "# # expected increase with redshift\n",
    "# zarr = np.linspace(0,3, 100)\n",
    "# plt.plot(zarr,cosmo.differential_comoving_volume(z)/(1+z))\n",
    "# plt.xlabel(\"z\")\n",
    "# plt.ylabel(\"dV\")\n",
    "# plt.title(\"Differential comoving volume\")"
   ]
  },
  {
   "cell_type": "code",
   "execution_count": 9,
   "id": "8940650d-0bd6-445f-8417-2500beffd117",
   "metadata": {},
   "outputs": [
    {
     "data": {
      "text/plain": [
       "(array([ 1987.,  6919., 10540., 12592., 13228., 12655., 11643., 11016.,\n",
       "        10087.,  9333.]),\n",
       " array([0.04785166, 0.3380629 , 0.6282742 , 0.91848546, 1.2086967 ,\n",
       "        1.4989079 , 1.7891192 , 2.0793304 , 2.3695416 , 2.659753  ,\n",
       "        2.9499643 ], dtype=float32),\n",
       " <BarContainer object of 10 artists>)"
      ]
     },
     "execution_count": 9,
     "metadata": {},
     "output_type": "execute_result"
    },
    {
     "name": "stderr",
     "output_type": "stream",
     "text": [
      "findfont: Font family ['serif'] not found. Falling back to DejaVu Sans.\n",
      "findfont: Generic family 'serif' not found because none of the following families were found: Palatino\n"
     ]
    },
    {
     "data": {
      "image/png": "[encoded data removed]",
      "text/plain": [
       "<Figure size 432x288 with 1 Axes>"
      ]
     },
     "metadata": {},
     "output_type": "display_data"
    }
   ],
   "source": [
    "plt.hist(z)"
   ]
  },
  {
   "cell_type": "code",
   "execution_count": 10,
   "id": "4cf7c218-64b0-4f43-a1a2-ae0502ff4858",
   "metadata": {},
   "outputs": [],
   "source": [
    "def volumetric_rate(z, skyfrac):\n",
    "    hist, bin_edges = np.histogram(z, bins=20)\n",
    "    vol_rates = []\n",
    "    zavg      = []\n",
    "    for i in range(len(bin_edges)-1):\n",
    "        zstep = (bin_edges[i+1]+bin_edges[i])/2.\n",
    "        zavg.append(zstep)\n",
    "        dz = bin_edges[i+1]-bin_edges[i]\n",
    "        dV = (cosmo.comoving_volume(bin_edges[i+1])-cosmo.comoving_volume(bin_edges[i]))*skyfrac\n",
    "        # dV = cosmo.differential_comoving_volume(zstep)*dz\n",
    "        vol_rates.append((hist[i]/dV).value*(zstep+1))\n",
    "    return(np.asarray(vol_rates), np.asarray(zavg))"
   ]
  },
  {
   "cell_type": "code",
   "execution_count": 11,
   "id": "a2ade011-369d-4149-b136-f29569828a1b",
   "metadata": {},
   "outputs": [],
   "source": [
    "vol_rates, z_avg = volumetric_rate(z, 1) # our simulation generates events just at a single point, but imagine these are spread out across the fullsky"
   ]
  },
  {
   "cell_type": "code",
   "execution_count": 12,
   "id": "92e6aa7a-a4a1-421b-998e-3261d50bc4f4",
   "metadata": {},
   "outputs": [],
   "source": [
    "if cl=='SNIa':\n",
    "    n_exp = 21773710+15933345+5035905 # n_expected from Table B1\n",
    "if cl=='KN':\n",
    "    n_exp = 122640*2\n",
    "scale = n_exp/365/(len(z)) # expected number of events to z=3 per year, converted to # per day, compared to the number there actually are\n",
    "vol_rates_scaled = vol_rates * scale # our volumetric rates per Mpc^3 per day, times number expected over number we have\n",
    "vol_rate_peryear = vol_rates_scaled * 365 # our volumetric rates per year"
   ]
  },
  {
   "cell_type": "code",
   "execution_count": 13,
   "id": "ccd6d1b0-f308-490e-a694-b4a96ba1266e",
   "metadata": {},
   "outputs": [],
   "source": [
    "z_model = np.linspace(0,3,100)\n",
    "if cl=='SNIa':\n",
    "    plt.plot(z_model, ia_rate(z_model))\n",
    "    plt.plot(z_avg[1:], vol_rate_peryear[1:], 'ro') #rates per Mpc^3 per day * scale * days per year; these should match."
   ]
  },
  {
   "cell_type": "code",
   "execution_count": 16,
   "id": "9bec2169-8a20-49cc-bb35-57e5b818432f",
   "metadata": {},
   "outputs": [
    {
     "data": {
      "image/png": "[encoded data removed]",
      "text/plain": [
       "<Figure size 432x288 with 1 Axes>"
      ]
     },
     "metadata": {},
     "output_type": "display_data"
    }
   ],
   "source": [
    "if cl=='KN':\n",
    "    # from Plasticc paper: 6e-6 is vol rate per year per full sky\n",
    "    plt.plot(z_model, np.full(len(z_model),6e-6))\n",
    "    plt.plot(z_avg[1:], vol_rate_peryear[1:], 'ro')\n"
   ]
  },
  {
   "cell_type": "code",
   "execution_count": 13,
   "id": "47b116d4-8230-4b8d-9ab1-c25d1acb7b47",
   "metadata": {},
   "outputs": [],
   "source": [
    "# expected increase with redshift\n",
    "z = np.linspace(0,3, 100)"
   ]
  },
  {
   "cell_type": "code",
   "execution_count": null,
   "id": "f3ba8554-bbde-4e9f-99cb-79a1bf90d05e",
   "metadata": {},
   "outputs": [],
   "source": [
    "def volume(z, dz):\n",
    "    dr  = cosmo.angular_diameter_distance_z1z2(z, z+dz)\n",
    "    r   = cosmo.angular_diameter_distance(z)\n",
    "    vol = 4*np.pi*r**2*dr\n",
    "    return(vol)"
   ]
  },
  {
   "cell_type": "code",
   "execution_count": null,
   "id": "4372db0e-91d8-4349-8bf4-70e9779f0dc8",
   "metadata": {},
   "outputs": [],
   "source": [
    "v_of_z = volume(z, z[1]-z[0])"
   ]
  },
  {
   "cell_type": "code",
   "execution_count": null,
   "id": "8922f35c-463e-4994-8481-4aeaf7a8667e",
   "metadata": {},
   "outputs": [],
   "source": [
    "plt.plot(z,v_of_z)"
   ]
  },
  {
   "cell_type": "code",
   "execution_count": 14,
   "id": "2b1a2b92-5d09-4b5d-badf-51e0f4bd2569",
   "metadata": {},
   "outputs": [
    {
     "data": {
      "text/plain": [
       "Text(0.5, 1.0, 'Differential comoving volume')"
      ]
     },
     "execution_count": 14,
     "metadata": {},
     "output_type": "execute_result"
    },
    {
     "data": {
      "image/png": "[encoded data removed]",
      "text/plain": [
       "<Figure size 432x288 with 1 Axes>"
      ]
     },
     "metadata": {},
     "output_type": "display_data"
    }
   ],
   "source": [
    "plt.plot(z,cosmo.differential_comoving_volume(z)/(1+z))\n",
    "plt.xlabel(\"z\")\n",
    "plt.ylabel(\"dV\")\n",
    "plt.title(\"Differential comoving volume\")"
   ]
  },
  {
   "cell_type": "code",
   "execution_count": null,
   "id": "cec0ce32-1749-41af-a52c-fbbcbbe25113",
   "metadata": {},
   "outputs": [],
   "source": []
  }
 ],
 "metadata": {
  "kernelspec": {
   "display_name": "TexEnv",
   "language": "python",
   "name": "texenv"
  },
  "language_info": {
   "codemirror_mode": {
    "name": "ipython",
    "version": 3
   },
   "file_extension": ".py",
   "mimetype": "text/x-python",
   "name": "python",
   "nbconvert_exporter": "python",
   "pygments_lexer": "ipython3",
   "version": "3.9.7"
  }
 },
 "nbformat": 4,
 "nbformat_minor": 5
}
