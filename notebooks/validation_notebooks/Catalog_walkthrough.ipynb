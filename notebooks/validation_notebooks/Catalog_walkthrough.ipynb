{
 "cells": [
  {
   "cell_type": "markdown",
   "id": "f4b61b66-31b1-4d8b-a8aa-ddb95d0ad67c",
   "metadata": {},
   "source": [
    "# A Notebook Demonstrating Use of the Final SCOTCH Catalog"
   ]
  },
  {
   "cell_type": "code",
   "execution_count": 1,
   "id": "752c796c-5efd-4f31-99b8-91da2155178d",
   "metadata": {},
   "outputs": [],
   "source": [
    "import numpy as np\n",
    "import pandas as pd\n",
    "\n"
   ]
  },
  {
   "cell_type": "markdown",
   "id": "65996d67-4339-44a3-85e1-9650ce48e9e3",
   "metadata": {},
   "source": [
    "First read the host table"
   ]
  },
  {
   "cell_type": "code",
   "execution_count": 2,
   "id": "f0c2dd89-9a28-4211-b9e8-f43c00fbc100",
   "metadata": {},
   "outputs": [],
   "source": [
    "scotch = pd.read_csv(\"/global/cscratch1/sd/kessler/SNANA_LSST_SIM/SCOTCH_CATALOG/SCOTCH_HostTable.tar.gz\")\n"
   ]
  },
  {
   "cell_type": "code",
   "execution_count": 3,
   "id": "945a1168-05e5-47ed-90fd-01d7c2bc4ba0",
   "metadata": {},
   "outputs": [
    {
     "data": {
      "text/html": [
       "<div>\n",
       "<style scoped>\n",
       "    .dataframe tbody tr th:only-of-type {\n",
       "        vertical-align: middle;\n",
       "    }\n",
       "\n",
       "    .dataframe tbody tr th {\n",
       "        vertical-align: top;\n",
       "    }\n",
       "\n",
       "    .dataframe thead th {\n",
       "        text-align: right;\n",
       "    }\n",
       "</style>\n",
       "<table border=\"1\" class=\"dataframe\">\n",
       "  <thead>\n",
       "    <tr style=\"text-align: right;\">\n",
       "      <th></th>\n",
       "      <th>GID</th>\n",
       "      <th>dc2ID</th>\n",
       "      <th>mag_u</th>\n",
       "      <th>magerr_u</th>\n",
       "      <th>mag_g</th>\n",
       "      <th>magerr_g</th>\n",
       "      <th>mag_r</th>\n",
       "      <th>magerr_r</th>\n",
       "      <th>mag_i</th>\n",
       "      <th>magerr_i</th>\n",
       "      <th>...</th>\n",
       "      <th>a0</th>\n",
       "      <th>b0</th>\n",
       "      <th>n0</th>\n",
       "      <th>w0</th>\n",
       "      <th>a1</th>\n",
       "      <th>b1</th>\n",
       "      <th>w1</th>\n",
       "      <th>n1</th>\n",
       "      <th>a_rot</th>\n",
       "      <th>TID</th>\n",
       "    </tr>\n",
       "  </thead>\n",
       "  <tbody>\n",
       "    <tr>\n",
       "      <th>0</th>\n",
       "      <td>G0000054</td>\n",
       "      <td>7815559638</td>\n",
       "      <td>28.107187</td>\n",
       "      <td>0.996084</td>\n",
       "      <td>27.352888</td>\n",
       "      <td>0.281237</td>\n",
       "      <td>26.065523</td>\n",
       "      <td>0.076490</td>\n",
       "      <td>25.146328</td>\n",
       "      <td>0.053515</td>\n",
       "      <td>...</td>\n",
       "      <td>0.294442</td>\n",
       "      <td>0.246204</td>\n",
       "      <td>1.0</td>\n",
       "      <td>0.830076</td>\n",
       "      <td>0.150094</td>\n",
       "      <td>0.144542</td>\n",
       "      <td>0.169924</td>\n",
       "      <td>4.0</td>\n",
       "      <td>140.741270</td>\n",
       "      <td>T4810612</td>\n",
       "    </tr>\n",
       "    <tr>\n",
       "      <th>1</th>\n",
       "      <td>G0000058</td>\n",
       "      <td>5875645182</td>\n",
       "      <td>25.237135</td>\n",
       "      <td>0.216080</td>\n",
       "      <td>24.760307</td>\n",
       "      <td>0.027266</td>\n",
       "      <td>23.877342</td>\n",
       "      <td>0.012098</td>\n",
       "      <td>23.164074</td>\n",
       "      <td>0.009861</td>\n",
       "      <td>...</td>\n",
       "      <td>0.288022</td>\n",
       "      <td>0.164110</td>\n",
       "      <td>1.0</td>\n",
       "      <td>0.519484</td>\n",
       "      <td>0.155870</td>\n",
       "      <td>0.138138</td>\n",
       "      <td>0.480516</td>\n",
       "      <td>4.0</td>\n",
       "      <td>0.279153</td>\n",
       "      <td>T4815516</td>\n",
       "    </tr>\n",
       "    <tr>\n",
       "      <th>2</th>\n",
       "      <td>G0000061</td>\n",
       "      <td>5880576022</td>\n",
       "      <td>28.611580</td>\n",
       "      <td>2.190751</td>\n",
       "      <td>27.613650</td>\n",
       "      <td>0.362063</td>\n",
       "      <td>26.938522</td>\n",
       "      <td>0.176438</td>\n",
       "      <td>25.756737</td>\n",
       "      <td>0.095042</td>\n",
       "      <td>...</td>\n",
       "      <td>0.350561</td>\n",
       "      <td>0.281809</td>\n",
       "      <td>1.0</td>\n",
       "      <td>0.127809</td>\n",
       "      <td>0.208548</td>\n",
       "      <td>0.196587</td>\n",
       "      <td>0.872191</td>\n",
       "      <td>4.0</td>\n",
       "      <td>73.516400</td>\n",
       "      <td>T4788591</td>\n",
       "    </tr>\n",
       "    <tr>\n",
       "      <th>3</th>\n",
       "      <td>G0000070</td>\n",
       "      <td>10505978196</td>\n",
       "      <td>26.542133</td>\n",
       "      <td>1.475145</td>\n",
       "      <td>26.262999</td>\n",
       "      <td>0.113740</td>\n",
       "      <td>26.027160</td>\n",
       "      <td>0.074533</td>\n",
       "      <td>25.391472</td>\n",
       "      <td>0.060963</td>\n",
       "      <td>...</td>\n",
       "      <td>0.451421</td>\n",
       "      <td>0.401660</td>\n",
       "      <td>1.0</td>\n",
       "      <td>0.005188</td>\n",
       "      <td>0.243913</td>\n",
       "      <td>0.233618</td>\n",
       "      <td>0.994812</td>\n",
       "      <td>4.0</td>\n",
       "      <td>139.257370</td>\n",
       "      <td>T4826635</td>\n",
       "    </tr>\n",
       "    <tr>\n",
       "      <th>4</th>\n",
       "      <td>G0000085</td>\n",
       "      <td>7942705565</td>\n",
       "      <td>26.231293</td>\n",
       "      <td>0.436643</td>\n",
       "      <td>26.062622</td>\n",
       "      <td>0.095566</td>\n",
       "      <td>25.840034</td>\n",
       "      <td>0.072089</td>\n",
       "      <td>25.127655</td>\n",
       "      <td>0.051658</td>\n",
       "      <td>...</td>\n",
       "      <td>0.473507</td>\n",
       "      <td>0.358939</td>\n",
       "      <td>1.0</td>\n",
       "      <td>0.121074</td>\n",
       "      <td>0.248259</td>\n",
       "      <td>0.210478</td>\n",
       "      <td>0.878926</td>\n",
       "      <td>4.0</td>\n",
       "      <td>107.437240</td>\n",
       "      <td>T4782494</td>\n",
       "    </tr>\n",
       "    <tr>\n",
       "      <th>5</th>\n",
       "      <td>G0000105</td>\n",
       "      <td>5938035969</td>\n",
       "      <td>24.556957</td>\n",
       "      <td>0.098025</td>\n",
       "      <td>23.810722</td>\n",
       "      <td>0.012184</td>\n",
       "      <td>22.785820</td>\n",
       "      <td>0.006434</td>\n",
       "      <td>22.166390</td>\n",
       "      <td>0.006039</td>\n",
       "      <td>...</td>\n",
       "      <td>0.552507</td>\n",
       "      <td>0.503744</td>\n",
       "      <td>1.0</td>\n",
       "      <td>0.833775</td>\n",
       "      <td>0.297469</td>\n",
       "      <td>0.275772</td>\n",
       "      <td>0.166225</td>\n",
       "      <td>4.0</td>\n",
       "      <td>147.244950</td>\n",
       "      <td>T4835900</td>\n",
       "    </tr>\n",
       "    <tr>\n",
       "      <th>6</th>\n",
       "      <td>G0000159</td>\n",
       "      <td>6813830122</td>\n",
       "      <td>999.000000</td>\n",
       "      <td>999.000000</td>\n",
       "      <td>999.000000</td>\n",
       "      <td>999.000000</td>\n",
       "      <td>999.000000</td>\n",
       "      <td>999.000000</td>\n",
       "      <td>999.000000</td>\n",
       "      <td>999.000000</td>\n",
       "      <td>...</td>\n",
       "      <td>0.837801</td>\n",
       "      <td>0.382431</td>\n",
       "      <td>1.0</td>\n",
       "      <td>0.567007</td>\n",
       "      <td>0.646458</td>\n",
       "      <td>0.524005</td>\n",
       "      <td>0.432993</td>\n",
       "      <td>4.0</td>\n",
       "      <td>39.479090</td>\n",
       "      <td>T4770913</td>\n",
       "    </tr>\n",
       "    <tr>\n",
       "      <th>7</th>\n",
       "      <td>G0000171</td>\n",
       "      <td>9818924179</td>\n",
       "      <td>25.122238</td>\n",
       "      <td>0.155936</td>\n",
       "      <td>25.152517</td>\n",
       "      <td>0.043741</td>\n",
       "      <td>25.249796</td>\n",
       "      <td>0.042112</td>\n",
       "      <td>25.204025</td>\n",
       "      <td>0.065171</td>\n",
       "      <td>...</td>\n",
       "      <td>0.085248</td>\n",
       "      <td>0.069483</td>\n",
       "      <td>1.0</td>\n",
       "      <td>0.138419</td>\n",
       "      <td>0.055077</td>\n",
       "      <td>0.054420</td>\n",
       "      <td>0.861581</td>\n",
       "      <td>4.0</td>\n",
       "      <td>114.508820</td>\n",
       "      <td>T4768121</td>\n",
       "    </tr>\n",
       "    <tr>\n",
       "      <th>8</th>\n",
       "      <td>G0000353</td>\n",
       "      <td>6003076295</td>\n",
       "      <td>25.153072</td>\n",
       "      <td>0.228559</td>\n",
       "      <td>25.156374</td>\n",
       "      <td>0.039131</td>\n",
       "      <td>24.701439</td>\n",
       "      <td>0.024000</td>\n",
       "      <td>24.144226</td>\n",
       "      <td>0.021449</td>\n",
       "      <td>...</td>\n",
       "      <td>0.664883</td>\n",
       "      <td>0.353947</td>\n",
       "      <td>1.0</td>\n",
       "      <td>0.478867</td>\n",
       "      <td>0.391393</td>\n",
       "      <td>0.291490</td>\n",
       "      <td>0.521133</td>\n",
       "      <td>4.0</td>\n",
       "      <td>149.798700</td>\n",
       "      <td>T4782396</td>\n",
       "    </tr>\n",
       "    <tr>\n",
       "      <th>9</th>\n",
       "      <td>G0000388</td>\n",
       "      <td>8880238366</td>\n",
       "      <td>26.246967</td>\n",
       "      <td>0.236113</td>\n",
       "      <td>26.078987</td>\n",
       "      <td>0.088183</td>\n",
       "      <td>25.855015</td>\n",
       "      <td>0.073984</td>\n",
       "      <td>25.139130</td>\n",
       "      <td>0.048904</td>\n",
       "      <td>...</td>\n",
       "      <td>0.252180</td>\n",
       "      <td>0.082538</td>\n",
       "      <td>1.0</td>\n",
       "      <td>0.122696</td>\n",
       "      <td>0.155694</td>\n",
       "      <td>0.115651</td>\n",
       "      <td>0.877304</td>\n",
       "      <td>4.0</td>\n",
       "      <td>50.213770</td>\n",
       "      <td>T4765989</td>\n",
       "    </tr>\n",
       "  </tbody>\n",
       "</table>\n",
       "<p>10 rows × 28 columns</p>\n",
       "</div>"
      ],
      "text/plain": [
       "        GID        dc2ID       mag_u    magerr_u       mag_g    magerr_g  \\\n",
       "0  G0000054   7815559638   28.107187    0.996084   27.352888    0.281237   \n",
       "1  G0000058   5875645182   25.237135    0.216080   24.760307    0.027266   \n",
       "2  G0000061   5880576022   28.611580    2.190751   27.613650    0.362063   \n",
       "3  G0000070  10505978196   26.542133    1.475145   26.262999    0.113740   \n",
       "4  G0000085   7942705565   26.231293    0.436643   26.062622    0.095566   \n",
       "5  G0000105   5938035969   24.556957    0.098025   23.810722    0.012184   \n",
       "6  G0000159   6813830122  999.000000  999.000000  999.000000  999.000000   \n",
       "7  G0000171   9818924179   25.122238    0.155936   25.152517    0.043741   \n",
       "8  G0000353   6003076295   25.153072    0.228559   25.156374    0.039131   \n",
       "9  G0000388   8880238366   26.246967    0.236113   26.078987    0.088183   \n",
       "\n",
       "        mag_r    magerr_r       mag_i    magerr_i  ...        a0        b0  \\\n",
       "0   26.065523    0.076490   25.146328    0.053515  ...  0.294442  0.246204   \n",
       "1   23.877342    0.012098   23.164074    0.009861  ...  0.288022  0.164110   \n",
       "2   26.938522    0.176438   25.756737    0.095042  ...  0.350561  0.281809   \n",
       "3   26.027160    0.074533   25.391472    0.060963  ...  0.451421  0.401660   \n",
       "4   25.840034    0.072089   25.127655    0.051658  ...  0.473507  0.358939   \n",
       "5   22.785820    0.006434   22.166390    0.006039  ...  0.552507  0.503744   \n",
       "6  999.000000  999.000000  999.000000  999.000000  ...  0.837801  0.382431   \n",
       "7   25.249796    0.042112   25.204025    0.065171  ...  0.085248  0.069483   \n",
       "8   24.701439    0.024000   24.144226    0.021449  ...  0.664883  0.353947   \n",
       "9   25.855015    0.073984   25.139130    0.048904  ...  0.252180  0.082538   \n",
       "\n",
       "    n0        w0        a1        b1        w1   n1       a_rot       TID  \n",
       "0  1.0  0.830076  0.150094  0.144542  0.169924  4.0  140.741270  T4810612  \n",
       "1  1.0  0.519484  0.155870  0.138138  0.480516  4.0    0.279153  T4815516  \n",
       "2  1.0  0.127809  0.208548  0.196587  0.872191  4.0   73.516400  T4788591  \n",
       "3  1.0  0.005188  0.243913  0.233618  0.994812  4.0  139.257370  T4826635  \n",
       "4  1.0  0.121074  0.248259  0.210478  0.878926  4.0  107.437240  T4782494  \n",
       "5  1.0  0.833775  0.297469  0.275772  0.166225  4.0  147.244950  T4835900  \n",
       "6  1.0  0.567007  0.646458  0.524005  0.432993  4.0   39.479090  T4770913  \n",
       "7  1.0  0.138419  0.055077  0.054420  0.861581  4.0  114.508820  T4768121  \n",
       "8  1.0  0.478867  0.391393  0.291490  0.521133  4.0  149.798700  T4782396  \n",
       "9  1.0  0.122696  0.155694  0.115651  0.877304  4.0   50.213770  T4765989  \n",
       "\n",
       "[10 rows x 28 columns]"
      ]
     },
     "execution_count": 3,
     "metadata": {},
     "output_type": "execute_result"
    }
   ],
   "source": [
    "scotch[:10]"
   ]
  },
  {
   "cell_type": "code",
   "execution_count": 4,
   "id": "2cf50231-4769-450b-89a3-214a8ece3233",
   "metadata": {},
   "outputs": [
    {
     "data": {
      "text/plain": [
       "Index(['GID', 'dc2ID', 'mag_u', 'magerr_u', 'mag_g', 'magerr_g', 'mag_r',\n",
       "       'magerr_r', 'mag_i', 'magerr_i', 'mag_z', 'magerr_z', 'mag_Y',\n",
       "       'magerr_Y', 'logMsol', 'logSFR', 'T', 'Ellipticity', 'a0', 'b0', 'n0',\n",
       "       'w0', 'a1', 'b1', 'w1', 'n1', 'a_rot', 'TID'],\n",
       "      dtype='object')"
      ]
     },
     "execution_count": 4,
     "metadata": {},
     "output_type": "execute_result"
    }
   ],
   "source": [
    "scotch.columns"
   ]
  },
  {
   "cell_type": "code",
   "execution_count": 13,
   "id": "e39e6815-f07a-4766-87ab-9248a1489134",
   "metadata": {},
   "outputs": [
    {
     "data": {
      "text/plain": [
       "(array([1.]), array([4.]))"
      ]
     },
     "execution_count": 13,
     "metadata": {},
     "output_type": "execute_result"
    }
   ],
   "source": [
    "np.unique(scotch['n0']), np.unique(scotch['n1'])"
   ]
  },
  {
   "cell_type": "markdown",
   "id": "d2230d51-0473-4175-81c7-30347f984281",
   "metadata": {},
   "source": [
    "Now read the transient table"
   ]
  },
  {
   "cell_type": "code",
   "execution_count": 5,
   "id": "c5d2b71f-72ed-46d2-9037-a07b2098b5d8",
   "metadata": {},
   "outputs": [],
   "source": [
    "scotch_trans = pd.read_csv(\"/global/cscratch1/sd/kessler/SNANA_LSST_SIM/SCOTCH_CATALOG/SCOTCH_TransientTable.tar.gz\")"
   ]
  },
  {
   "cell_type": "code",
   "execution_count": 6,
   "id": "f76f496e-5e6c-414a-a15a-ff78930b0007",
   "metadata": {},
   "outputs": [
    {
     "data": {
      "text/plain": [
       "Index(['TID', 'z', 'MJD', 'mag_u', 'mag_g', 'mag_r', 'mag_i', 'mag_z', 'mag_Y',\n",
       "       'Class', 'Model', 'cadence', 'GID', 'RA_Off', 'Dec_Off', 'Sep'],\n",
       "      dtype='object')"
      ]
     },
     "execution_count": 6,
     "metadata": {},
     "output_type": "execute_result"
    }
   ],
   "source": [
    "scotch_trans.columns"
   ]
  },
  {
   "cell_type": "code",
   "execution_count": 14,
   "id": "fdb9bc90-9946-47bc-b83e-faece56cf00d",
   "metadata": {},
   "outputs": [
    {
     "data": {
      "text/plain": [
       "0          [53100. 53102. 53104. 53106. 53108. 53110. 531...\n",
       "1          [53100. 53102. 53104. 53106. 53108. 53110. 531...\n",
       "2          [53100. 53102. 53104. 53106. 53108. 53110. 531...\n",
       "3          [53100. 53102. 53104. 53106. 53108. 53110. 531...\n",
       "4          [53100. 53102. 53104. 53106. 53108. 53110. 531...\n",
       "                                 ...                        \n",
       "4999995    [53100. 53102. 53104. 53106. 53108. 53110. 531...\n",
       "4999996    [53100. 53102. 53104. 53106. 53108. 53110. 531...\n",
       "4999997    [53100. 53102. 53104. 53106. 53108. 53110. 531...\n",
       "4999998    [53100. 53102. 53104. 53106. 53108. 53110. 531...\n",
       "4999999    [53100. 53102. 53104. 53106. 53108. 53110. 531...\n",
       "Name: MJD, Length: 5000000, dtype: object"
      ]
     },
     "execution_count": 14,
     "metadata": {},
     "output_type": "execute_result"
    }
   ],
   "source": [
    "scotch_trans['MJD']"
   ]
  },
  {
   "cell_type": "code",
   "execution_count": 15,
   "id": "ba9ecbf1-41d6-43a7-991c-5aefee9bfd56",
   "metadata": {},
   "outputs": [
    {
     "data": {
      "text/plain": [
       "array(['AGN01', 'AGN20', 'KN_B19', 'KN_K17', 'SLSN-I', 'SNII+HostXT_V19',\n",
       "       'SNII-NMF', 'SNII-Templates', 'SNIIb+HostXT_V19',\n",
       "       'SNIIn+HostXT_V19', 'SNIIn-MOSFIT', 'SNIa-91bg', 'SNIa-SALT2',\n",
       "       'SNIax', 'SNIb+HostXT_V19', 'SNIb-Templates', 'SNIc+HostXT_V19',\n",
       "       'SNIc-Templates', 'SNIcBL+HostXT_V19', 'TDE'], dtype=object)"
      ]
     },
     "execution_count": 15,
     "metadata": {},
     "output_type": "execute_result"
    }
   ],
   "source": [
    "np.unique(scotch_trans['Model'])"
   ]
  },
  {
   "cell_type": "code",
   "execution_count": 17,
   "id": "0bceb963-adf4-42ed-a322-233243707af2",
   "metadata": {},
   "outputs": [
    {
     "data": {
      "text/plain": [
       "0          0.009457\n",
       "1          0.331342\n",
       "2          0.152034\n",
       "3          0.270527\n",
       "4          0.123224\n",
       "             ...   \n",
       "4999995    0.100646\n",
       "4999996    0.175527\n",
       "4999997    0.198016\n",
       "4999998         NaN\n",
       "4999999    0.376151\n",
       "Name: Sep, Length: 5000000, dtype: float64"
      ]
     },
     "execution_count": 17,
     "metadata": {},
     "output_type": "execute_result"
    }
   ],
   "source": [
    "scotch_trans['Sep']"
   ]
  },
  {
   "cell_type": "code",
   "execution_count": 8,
   "id": "4ac5cf00-c649-4c08-8434-70324980c7f1",
   "metadata": {},
   "outputs": [
    {
     "data": {
      "text/plain": [
       "0          0.030691\n",
       "1          0.296571\n",
       "2          0.249134\n",
       "3          0.293174\n",
       "4          0.428509\n",
       "             ...   \n",
       "4999995    0.003140\n",
       "4999996    0.008723\n",
       "4999997    6.055480\n",
       "4999998    0.021603\n",
       "4999999    0.323833\n",
       "Name: logSFR, Length: 5000000, dtype: float64"
      ]
     },
     "execution_count": 8,
     "metadata": {},
     "output_type": "execute_result"
    }
   ],
   "source": [
    "10**scotch['logSFR']"
   ]
  },
  {
   "cell_type": "code",
   "execution_count": 9,
   "id": "5e04afc9-20eb-4a48-8739-c53eef34f22d",
   "metadata": {},
   "outputs": [
    {
     "data": {
      "text/plain": [
       "0         -1.512995\n",
       "1         -0.527871\n",
       "2         -0.603566\n",
       "3         -0.532875\n",
       "4         -0.368040\n",
       "             ...   \n",
       "4999995   -2.503017\n",
       "4999996   -2.059339\n",
       "4999997    0.782149\n",
       "4999998   -1.665479\n",
       "4999999   -0.489678\n",
       "Name: logSFR, Length: 5000000, dtype: float64"
      ]
     },
     "execution_count": 9,
     "metadata": {},
     "output_type": "execute_result"
    }
   ],
   "source": [
    "scotch['logSFR']"
   ]
  },
  {
   "cell_type": "code",
   "execution_count": null,
   "id": "8db4ddd9-733e-40ab-9249-4c7a8d950754",
   "metadata": {},
   "outputs": [],
   "source": []
  }
 ],
 "metadata": {
  "kernelspec": {
   "display_name": "desc-python",
   "language": "python",
   "name": "desc-python"
  },
  "language_info": {
   "codemirror_mode": {
    "name": "ipython",
    "version": 3
   },
   "file_extension": ".py",
   "mimetype": "text/x-python",
   "name": "python",
   "nbconvert_exporter": "python",
   "pygments_lexer": "ipython3",
   "version": "3.8.12"
  }
 },
 "nbformat": 4,
 "nbformat_minor": 5
}
