{
 "cells": [
  {
   "cell_type": "code",
   "execution_count": 1,
   "id": "1ede7bd4-3dce-41d3-8ff7-cd7ef3e5c560",
   "metadata": {},
   "outputs": [],
   "source": [
    "import sys\n",
    "sys.path.insert(0, '/global/common/software/lsst/common/miniconda/current/lib/python3.6/site-packages')"
   ]
  },
  {
   "cell_type": "code",
   "execution_count": 2,
   "id": "0729a7ab-7b79-483f-a94d-47cc306f38fc",
   "metadata": {
    "tags": []
   },
   "outputs": [
    {
     "name": "stderr",
     "output_type": "stream",
     "text": [
      "/global/homes/a/agaglian/.conda/envs/pzflow/lib/python3.7/site-packages/jax/experimental/optimizers.py:30: FutureWarning: jax.experimental.optimizers is deprecated, import jax.example_libraries.optimizers instead\n",
      "  FutureWarning)\n",
      "/global/homes/a/agaglian/.conda/envs/pzflow/lib/python3.7/site-packages/jax/experimental/stax.py:30: FutureWarning: jax.experimental.stax is deprecated, import jax.example_libraries.stax instead\n",
      "  FutureWarning)\n"
     ]
    }
   ],
   "source": [
    "#If running in Colab, to switch to GPU, go to the menu and select Runtime -> Change runtime type -> Hardware accelerator -> GPU.\n",
    "\n",
    "#In addition, uncomment and run the following code:\n",
    "# !pip install pzflow\n",
    "\n",
    "#Intro to pzflow\n",
    "\n",
    "#This notebook demonstrates building a normalizing flow with pzflow to learn the joint probability distribution of some 2-D data.#\n",
    "\n",
    "#You do not need to have any previous knowledge of normalizing flows to get started with pzflow, however if you are interested, here are some good sources:\n",
    "\n",
    "#    Eric Jang's tutorial: part 1, part 2\n",
    "#    Here is a comprehensive list of papers, blogs, videos, and packages\n",
    "#    Two good intro papers using Coupling Layers: NICE, Real NVP\n",
    "#    The paper on Neural Spline Couplings\n",
    "\n",
    "import jax.numpy as np\n",
    "import matplotlib.pyplot as plt\n",
    "\n",
    "import pzflow\n",
    "from pzflow import Flow\n",
    "from pzflow.bijectors import Chain, ColorTransform, InvSoftplus, StandardScaler, RollingSplineCoupling\n",
    "#from pzflow.examples import galaxy_data\n",
    "from pzflow.distributions import Uniform, Joint, Normal\n",
    "import pandas as pd\n",
    "import GCRCatalogs\n",
    "import timeit\n",
    "import numpy as onp\n",
    "\n",
    "import seaborn as sns\n",
    "#change the plot styling\n",
    "sns.set_context(\"talk\",font_scale=1.5)\n",
    "\n",
    "sns.set_style('white', {'axes.linewidth': 0.5})\n",
    "plt.rcParams['xtick.major.size'] = 15\n",
    "plt.rcParams['ytick.major.size'] = 15\n",
    "\n",
    "plt.rcParams['xtick.minor.size'] = 10\n",
    "plt.rcParams['ytick.minor.size'] = 10\n",
    "plt.rcParams['xtick.minor.width'] = 2\n",
    "plt.rcParams['ytick.minor.width'] = 2\n",
    "\n",
    "plt.rcParams['xtick.major.width'] = 2\n",
    "plt.rcParams['ytick.major.width'] = 2\n",
    "plt.rcParams['xtick.bottom'] = True\n",
    "plt.rcParams['xtick.top'] = True\n",
    "plt.rcParams['ytick.left'] = True\n",
    "plt.rcParams['ytick.right'] = True\n",
    "\n",
    "plt.rcParams['xtick.minor.visible'] = True\n",
    "plt.rcParams['ytick.minor.visible'] = True\n",
    "plt.rcParams['xtick.direction'] = 'in'\n",
    "plt.rcParams['ytick.direction'] = 'in'\n",
    "\n",
    "plt.rcParams.update({\n",
    "    \"text.usetex\": False,\n",
    "    \"font.family\": \"sans-serif\",\n",
    "    \"font.sans-serif\": [\"Helvetica\"]})\n",
    "## for Palatino and other serif fonts use:\n",
    "plt.rcParams.update({\n",
    "    \"text.usetex\": False,\n",
    "    \"font.family\": \"serif\",\n",
    "    \"font.serif\": [\"Palatino\"],\n",
    "})\n",
    "\n",
    "\n",
    "%matplotlib inline"
   ]
  },
  {
   "cell_type": "code",
   "execution_count": 3,
   "id": "83ef5a2d-2131-4a1a-9084-f16d2474169f",
   "metadata": {},
   "outputs": [],
   "source": [
    "import sys\n",
    "sys.path.insert(0, '/global/common/software/lsst/common/miniconda/current/lib/python3.6/site-packages')"
   ]
  },
  {
   "cell_type": "code",
   "execution_count": 4,
   "id": "9f7d6e12-797a-43f7-9893-b8b618aa13a5",
   "metadata": {},
   "outputs": [],
   "source": [
    "#merge Kpc sets \n",
    "set1 = pd.read_csv(\"/global/cscratch1/sd/agaglian/DC2full_pzRedshifts_tenHealpix_sdss_updMag_Rkpc.tar.gz\")\n",
    "set2 = pd.read_csv(\"/global/cscratch1/sd/agaglian/DC2full_pzRedshifts_tenHealpix_sdss_updMag_Rkpc_secondSet.tar.gz\")"
   ]
  },
  {
   "cell_type": "code",
   "execution_count": 10,
   "id": "306da65f-2d55-409d-91d9-9dbfc1317fc4",
   "metadata": {},
   "outputs": [],
   "source": [
    "set_comb = pd.concat([set1, set2])\n",
    "set_comb.to_csv(\"/global/cscratch1/sd/agaglian/DC2full_pzRedshifts_twentyHealpix_sdss_updMag_Rkpc_Final.tar.gz\",index=False)"
   ]
  },
  {
   "cell_type": "code",
   "execution_count": 12,
   "id": "bd2af536-a449-46ac-99df-2dad494e84f3",
   "metadata": {},
   "outputs": [
    {
     "data": {
      "text/html": [
       "<div>\n",
       "<style scoped>\n",
       "    .dataframe tbody tr th:only-of-type {\n",
       "        vertical-align: middle;\n",
       "    }\n",
       "\n",
       "    .dataframe tbody tr th {\n",
       "        vertical-align: top;\n",
       "    }\n",
       "\n",
       "    .dataframe thead th {\n",
       "        text-align: right;\n",
       "    }\n",
       "</style>\n",
       "<table border=\"1\" class=\"dataframe\">\n",
       "  <thead>\n",
       "    <tr style=\"text-align: right;\">\n",
       "      <th></th>\n",
       "      <th>galaxy_id</th>\n",
       "      <th>DC2redshift</th>\n",
       "      <th>PZflowredshift</th>\n",
       "      <th>Mag_true_g_sdss_z0</th>\n",
       "      <th>Mag_true_r_sdss_z0</th>\n",
       "      <th>Mag_true_i_sdss_z0</th>\n",
       "      <th>Mag_true_z_sdss_z0</th>\n",
       "      <th>R_kpc</th>\n",
       "    </tr>\n",
       "  </thead>\n",
       "  <tbody>\n",
       "    <tr>\n",
       "      <th>0</th>\n",
       "      <td>8751222988</td>\n",
       "      <td>0.758340</td>\n",
       "      <td>0.804479</td>\n",
       "      <td>-17.489836</td>\n",
       "      <td>-17.634062</td>\n",
       "      <td>-17.702017</td>\n",
       "      <td>-17.734333</td>\n",
       "      <td>9.460621</td>\n",
       "    </tr>\n",
       "    <tr>\n",
       "      <th>1</th>\n",
       "      <td>8752517690</td>\n",
       "      <td>1.014355</td>\n",
       "      <td>1.036861</td>\n",
       "      <td>-18.488428</td>\n",
       "      <td>-18.759039</td>\n",
       "      <td>-18.960004</td>\n",
       "      <td>-19.081531</td>\n",
       "      <td>19.197772</td>\n",
       "    </tr>\n",
       "    <tr>\n",
       "      <th>2</th>\n",
       "      <td>8757406419</td>\n",
       "      <td>1.796789</td>\n",
       "      <td>1.827007</td>\n",
       "      <td>-19.581698</td>\n",
       "      <td>-19.709780</td>\n",
       "      <td>-19.808768</td>\n",
       "      <td>-19.871696</td>\n",
       "      <td>18.690062</td>\n",
       "    </tr>\n",
       "    <tr>\n",
       "      <th>3</th>\n",
       "      <td>8766076619</td>\n",
       "      <td>2.438104</td>\n",
       "      <td>2.515672</td>\n",
       "      <td>-20.711130</td>\n",
       "      <td>-20.837253</td>\n",
       "      <td>-20.932871</td>\n",
       "      <td>-21.001268</td>\n",
       "      <td>53.626015</td>\n",
       "    </tr>\n",
       "    <tr>\n",
       "      <th>4</th>\n",
       "      <td>8763087211</td>\n",
       "      <td>2.058508</td>\n",
       "      <td>2.194695</td>\n",
       "      <td>-20.823303</td>\n",
       "      <td>-20.905174</td>\n",
       "      <td>-20.965090</td>\n",
       "      <td>-20.997666</td>\n",
       "      <td>44.047350</td>\n",
       "    </tr>\n",
       "    <tr>\n",
       "      <th>...</th>\n",
       "      <td>...</td>\n",
       "      <td>...</td>\n",
       "      <td>...</td>\n",
       "      <td>...</td>\n",
       "      <td>...</td>\n",
       "      <td>...</td>\n",
       "      <td>...</td>\n",
       "      <td>...</td>\n",
       "    </tr>\n",
       "    <tr>\n",
       "      <th>24548277</th>\n",
       "      <td>6138061063</td>\n",
       "      <td>2.027011</td>\n",
       "      <td>2.001752</td>\n",
       "      <td>-18.355928</td>\n",
       "      <td>-18.362360</td>\n",
       "      <td>-18.378444</td>\n",
       "      <td>-18.380008</td>\n",
       "      <td>60.727286</td>\n",
       "    </tr>\n",
       "    <tr>\n",
       "      <th>24548278</th>\n",
       "      <td>6129737713</td>\n",
       "      <td>1.323697</td>\n",
       "      <td>1.364383</td>\n",
       "      <td>-17.492582</td>\n",
       "      <td>-17.377902</td>\n",
       "      <td>-17.330597</td>\n",
       "      <td>-17.308857</td>\n",
       "      <td>NaN</td>\n",
       "    </tr>\n",
       "    <tr>\n",
       "      <th>24548279</th>\n",
       "      <td>6129777172</td>\n",
       "      <td>1.422939</td>\n",
       "      <td>0.881403</td>\n",
       "      <td>-18.550947</td>\n",
       "      <td>-18.685375</td>\n",
       "      <td>-18.797890</td>\n",
       "      <td>-18.869108</td>\n",
       "      <td>8.714039</td>\n",
       "    </tr>\n",
       "    <tr>\n",
       "      <th>24548280</th>\n",
       "      <td>6130584111</td>\n",
       "      <td>1.528024</td>\n",
       "      <td>1.530636</td>\n",
       "      <td>-18.657193</td>\n",
       "      <td>-18.735358</td>\n",
       "      <td>-18.779700</td>\n",
       "      <td>-18.797636</td>\n",
       "      <td>NaN</td>\n",
       "    </tr>\n",
       "    <tr>\n",
       "      <th>24548281</th>\n",
       "      <td>6128840251</td>\n",
       "      <td>1.226244</td>\n",
       "      <td>1.245642</td>\n",
       "      <td>-17.187300</td>\n",
       "      <td>-17.108738</td>\n",
       "      <td>-17.079409</td>\n",
       "      <td>-17.059048</td>\n",
       "      <td>32.163262</td>\n",
       "    </tr>\n",
       "  </tbody>\n",
       "</table>\n",
       "<p>40580074 rows × 8 columns</p>\n",
       "</div>"
      ],
      "text/plain": [
       "           galaxy_id  DC2redshift  PZflowredshift  Mag_true_g_sdss_z0  \\\n",
       "0         8751222988     0.758340        0.804479          -17.489836   \n",
       "1         8752517690     1.014355        1.036861          -18.488428   \n",
       "2         8757406419     1.796789        1.827007          -19.581698   \n",
       "3         8766076619     2.438104        2.515672          -20.711130   \n",
       "4         8763087211     2.058508        2.194695          -20.823303   \n",
       "...              ...          ...             ...                 ...   \n",
       "24548277  6138061063     2.027011        2.001752          -18.355928   \n",
       "24548278  6129737713     1.323697        1.364383          -17.492582   \n",
       "24548279  6129777172     1.422939        0.881403          -18.550947   \n",
       "24548280  6130584111     1.528024        1.530636          -18.657193   \n",
       "24548281  6128840251     1.226244        1.245642          -17.187300   \n",
       "\n",
       "          Mag_true_r_sdss_z0  Mag_true_i_sdss_z0  Mag_true_z_sdss_z0  \\\n",
       "0                 -17.634062          -17.702017          -17.734333   \n",
       "1                 -18.759039          -18.960004          -19.081531   \n",
       "2                 -19.709780          -19.808768          -19.871696   \n",
       "3                 -20.837253          -20.932871          -21.001268   \n",
       "4                 -20.905174          -20.965090          -20.997666   \n",
       "...                      ...                 ...                 ...   \n",
       "24548277          -18.362360          -18.378444          -18.380008   \n",
       "24548278          -17.377902          -17.330597          -17.308857   \n",
       "24548279          -18.685375          -18.797890          -18.869108   \n",
       "24548280          -18.735358          -18.779700          -18.797636   \n",
       "24548281          -17.108738          -17.079409          -17.059048   \n",
       "\n",
       "              R_kpc  \n",
       "0          9.460621  \n",
       "1         19.197772  \n",
       "2         18.690062  \n",
       "3         53.626015  \n",
       "4         44.047350  \n",
       "...             ...  \n",
       "24548277  60.727286  \n",
       "24548278        NaN  \n",
       "24548279   8.714039  \n",
       "24548280        NaN  \n",
       "24548281  32.163262  \n",
       "\n",
       "[40580074 rows x 8 columns]"
      ]
     },
     "execution_count": 12,
     "metadata": {},
     "output_type": "execute_result"
    }
   ],
   "source": [
    "set_comb"
   ]
  },
  {
   "cell_type": "code",
   "execution_count": null,
   "id": "5bcd0481-0f95-4033-9bbe-ec7b3a379153",
   "metadata": {},
   "outputs": [],
   "source": [
    "# Implement a magnitude cut where LSST will never see a galaxy for each of the chunks of data \n",
    "df_set = []\n",
    "#for s in [10000, 10001, 10002, 10003, 10003, 10004, 10005, 10006, 10007, 10008, 10009]:\n",
    "for s in [9556, 9557, 9558, 9559, 9560, 9683, 9683, 10068, 10069, 10070, 10071, 10072, 10195, 10196, 10197, 10198, 10199]:    \n",
    "    file1 = pd.read_csv(\"/global/cscratch1/sd/agaglian/additional_healpixels/DC2full_pzRedshifts_div1000_%i.csv\"%s)\n",
    "    file1_cut = file1[file1['mag_true_r_lsst'] < 28]\n",
    "    df_set.append(file1_cut)\n",
    "    file1_cut.to_csv(\"/global/cscratch1/sd/agaglian/additional_healpixels/DC2full_pzRedshifts_div1000_%i_cut.tar.gz\"%s,index=False)"
   ]
  },
  {
   "cell_type": "code",
   "execution_count": null,
   "id": "e7cdbaac-d693-4531-bd81-2f7ae0497c5f",
   "metadata": {},
   "outputs": [],
   "source": [
    "# Implement a magnitude cut where LSST will never see a galaxy for each of the chunks of data \n",
    "df_set = []\n",
    "for s in [10000, 10001, 10002, 10003, 10003, 10004, 10005, 10006, 10007, 10008, 10009]:\n",
    "    file1 = pd.read_csv(\"/global/cscratch1/sd/agaglian/pzflow_oversampled/DC2full_pzRedshifts_1itertest_div%i_cut.tar.gz\"%s)\n",
    "    #file1_cut = file1[file1['mag_true_r_lsst'] < 28]\n",
    "    df_set.append(file1)"
   ]
  },
  {
   "cell_type": "code",
   "execution_count": null,
   "id": "df5a1d0a-2486-4158-a98d-b1e752d3531f",
   "metadata": {},
   "outputs": [],
   "source": [
    "# Combine chunks into one dataframe\n",
    "df_comb = pd.concat(df_set, ignore_index=True)"
   ]
  },
  {
   "cell_type": "code",
   "execution_count": null,
   "id": "22023c99-9727-4508-a826-0f3be8a0f125",
   "metadata": {},
   "outputs": [],
   "source": [
    "# Make cuts at 0.05 > z > 3.0 to make sure we remove the edge artifacts\n",
    "df_comb = df_comb[df_comb['PZflowredshift'] > 0.05]\n",
    "df_comb = df_comb[df_comb['PZflowredshift'] < 3.0]"
   ]
  },
  {
   "cell_type": "code",
   "execution_count": null,
   "id": "8b73bbe4-5700-48ea-bb3c-f57464563316",
   "metadata": {},
   "outputs": [],
   "source": [
    "# Plot to see what the colors sv pzflowredshifts look like \n",
    "%matplotlib inline \n",
    "plt.figure(figsize=(10,7))\n",
    "plt.plot(df_comb['PZflowredshift'], df_comb['mag_true_g_lsst'] - df_comb['mag_true_i_lsst'], 'o', ms=0.05, alpha=0.1)\n",
    "plt.xlabel(\"PZFlowRedshift\")\n",
    "plt.axvline(x=0.05, c='tab:red')\n",
    "plt.axvline(x=3.0, c='tab:red')\n",
    "plt.ylabel(r\"$g-i$\")"
   ]
  },
  {
   "cell_type": "code",
   "execution_count": null,
   "id": "357b49f4-b0d3-42cd-833b-11a102a94925",
   "metadata": {},
   "outputs": [],
   "source": [
    "# And SFR (which before we were sampling with PZFlow, but are no longer)\n",
    "%matplotlib inline \n",
    "plt.figure(figsize=(10,7))\n",
    "plt.plot(df_comb['PZflowredshift'], df_comb['SFRtot'], 'o', ms=0.05, alpha=0.1)\n",
    "plt.xlabel(\"PZFlowRedshift\")\n",
    "plt.ylim((0, 100))\n",
    "plt.ylabel(r\"SFRtot\")"
   ]
  },
  {
   "cell_type": "code",
   "execution_count": null,
   "id": "52b88ded-c81f-4227-8c87-cfaa8f041ce1",
   "metadata": {},
   "outputs": [],
   "source": [
    "# And a comparison to the original (discrete) SFR vs z plot\n",
    "%matplotlib inline \n",
    "plt.figure(figsize=(10,7))\n",
    "plt.plot(df_comb['DC2redshift'], df_comb['SFRtot'], 'o', ms=0.05, alpha=0.1)\n",
    "plt.xlabel(\"DC2Redshift\")\n",
    "plt.ylim((0, 100))\n",
    "plt.ylabel(r\"SFRtot\")"
   ]
  },
  {
   "cell_type": "code",
   "execution_count": null,
   "id": "dba481a6-2f8d-47ce-a7b1-bbd2b2b49756",
   "metadata": {},
   "outputs": [],
   "source": [
    "#looks good, save it! \n",
    "df_comb.to_csv(\"/global/cscratch1/sd/agaglian/DC2full_pzRedshifts_tenHealpix_secondSet_Final.tar.gz\",index=False)"
   ]
  },
  {
   "cell_type": "code",
   "execution_count": null,
   "id": "282dc9b3-0bdc-4e68-9abf-ce630f21e3dc",
   "metadata": {},
   "outputs": [],
   "source": [
    "df_comb = pd.read_csv(\"/global/cscratch1/sd/agaglian/DC2full_pzRedshifts_secondSet_tenHealpix_Final.tar.gz\")"
   ]
  },
  {
   "cell_type": "code",
   "execution_count": null,
   "id": "e0341e0c-9cdf-4db7-8363-6c1e72d0d341",
   "metadata": {},
   "outputs": [],
   "source": [
    "#load the original dataframe and get the absolute magnitudes in SDSS filters from cosmoDC2 (we were using LSST apparent magnitudes for pzflow sampling)\n",
    "df_comb = pd.read_csv(\"/global/cscratch1/sd/agaglian/DC2full_pzRedshifts_tenHealpix_secondSet_Final.tar.gz\",usecols=['galaxy_id', 'PZflowredshift'])\n",
    "cosmo=GCRCatalogs.load_catalog(\"cosmoDC2_v1.1.4\")\n",
    "features = ['galaxy_id', 'Mag_true_g_sdss_z0', 'Mag_true_r_sdss_z0', 'Mag_true_i_sdss_z0', 'Mag_true_z_sdss_z0']\n",
    "gal = cosmo.get_quantities(features, filters=[(lambda x: np.in1d(x, df_comb['galaxy_id'].values), 'galaxy_id')])#, return_iterator=True)\n",
    "df_sdss = pd.DataFrame(gal)\n",
    "df_sdss_comb = df_sdss.merge(df_comb, on='galaxy_id', ignore_index=True)\n",
    "df_sdss_comb.to_csv(\"/global/cscratch1/sd/agaglian/DC2full_pzRedshifts_tenHealpix_secondSet_Final_sdss.tar.gz\",index=False)"
   ]
  },
  {
   "cell_type": "code",
   "execution_count": null,
   "id": "687de704-0ba9-459d-8daa-53975a43332c",
   "metadata": {},
   "outputs": [],
   "source": [
    "# Load our df of SDSS photometry\n",
    "df_sdss_comb = pd.read_csv(\"/global/cscratch1/sd/agaglian/DC2full_pzRedshifts_tenHealpix_secondSet_Final_sdss.tar.gz\")"
   ]
  },
  {
   "cell_type": "code",
   "execution_count": null,
   "id": "8b4dadc8-96cb-4b0b-90b4-45a7fb626443",
   "metadata": {},
   "outputs": [],
   "source": [
    "# Look at the % change in redshift w PZFlow\n",
    "plt.figure(figsize=(10,7))\n",
    "plt.plot(df_sdss_comb['DC2redshift'], (df_sdss_comb['PZflowredshift'] - df_sdss_comb['DC2redshift']), 'o', ms=0.03, alpha=0.5);\n",
    "plt.xlabel(r\"$z_{\\rm DC2}$\")\n",
    "plt.ylabel(r\"$(z_{\\rm PZFlow} - z_{DC2})$\")\n",
    "plt.ylim((-1, 1))\n",
    "#plt.yscale(\"log\")"
   ]
  },
  {
   "cell_type": "code",
   "execution_count": null,
   "id": "214e77ca-79d8-4ff4-b09b-153c892743cd",
   "metadata": {},
   "outputs": [],
   "source": [
    "#calculate all luminosity distances, old and new\n",
    "import astropy.units as u\n",
    "from astropy.cosmology import FlatLambdaCDM\n",
    "cosmo = FlatLambdaCDM(H0=70, Om0=0.3, Tcmb0=2.725)\n",
    "dLum_old = cosmo.luminosity_distance(df_sdss_comb['DC2redshift']).to(u.pc).value\n",
    "dLum_new = cosmo.luminosity_distance(df_sdss_comb['PZflowredshift']).to(u.pc).value"
   ]
  },
  {
   "cell_type": "code",
   "execution_count": null,
   "id": "b8c39fbb-aa61-4763-ab16-db62af10b6b8",
   "metadata": {},
   "outputs": [],
   "source": [
    "# Check out how our luminosity distance changes between PZFlow redshift and cosmoDC2 redshift\n",
    "plt.figure(figsize=(10,7))\n",
    "plt.hist(np.abs(dLum_old - dLum_new)/dLum_old*100, bins=np.logspace(-6, 5, 50))\n",
    "plt.xlabel(r\"$(D_{\\rm New} - D_{\\rm Old}) / D_{\\rm Old} (\\%)$\")\n",
    "plt.ylabel(r\"$N$\")\n",
    "plt.xscale(\"log\")\n",
    "plt.yscale(\"log\")"
   ]
  },
  {
   "cell_type": "code",
   "execution_count": null,
   "id": "75bf9082-0f02-499a-a158-de6a8b5bec96",
   "metadata": {},
   "outputs": [],
   "source": [
    "# Look at the % change in redshift w PZFlow\n",
    "plt.figure(figsize=(10,7))\n",
    "plt.hist((df_sdss_comb['PZflowredshift'] - df_sdss_comb['DC2redshift'])/df_sdss_comb['DC2redshift']*100, bins=np.linspace(-100, 100));\n",
    "plt.xlabel(\"% Redshift Change\")\n",
    "plt.ylabel(r\"$N$\")\n",
    "plt.yscale(\"log\")"
   ]
  },
  {
   "cell_type": "code",
   "execution_count": null,
   "id": "ed0826c1-ea35-48c4-bd56-6b3528db341c",
   "metadata": {},
   "outputs": [],
   "source": [
    "# Update the absolute SDSS magnitudes for matching with the GHOST catalog \n",
    "for band in ['g', 'r', 'i', 'z']:\n",
    "    #Mv = m - 2.5 log[ (d/10)2 ]. \n",
    "    \n",
    "    mapp = df_sdss_comb['Mag_true_%s_sdss_z0'%band] + 2.5 * np.log10((dLum_old/10)**2)\n",
    "    \n",
    "    #now convert back with the NEW redshift\n",
    "    Mtrue = mapp - 2.5 * np.log10((dLum_new/10)**2)\n",
    "    \n",
    "    #update the values in the dataframe\n",
    "    df_sdss_comb['Mag_true_%s_sdss_z0_upd'%band] = Mtrue"
   ]
  },
  {
   "cell_type": "code",
   "execution_count": null,
   "id": "47b5a518-2a15-433c-9e8c-3174c5f2d5b2",
   "metadata": {},
   "outputs": [],
   "source": [
    "# See how the magnitudes differ after updating\n",
    "# actually by quite a bit...\n",
    "df_sdss_comb[['Mag_true_g_sdss_z0', 'Mag_true_g_sdss_z0_upd']]"
   ]
  },
  {
   "cell_type": "code",
   "execution_count": null,
   "id": "094a4d65-92ea-4f3f-b26a-568d807ad03b",
   "metadata": {},
   "outputs": [],
   "source": [
    "# Loop through and calculate the percent change in the absolute magnitude in each band\n",
    "for band in ['g', 'r', 'i', 'z']:\n",
    "    plt.figure(figsize=(10,7))\n",
    "    plt.hist((df_sdss_comb['Mag_true_%s_sdss_z0'%band].values - df_sdss_comb['Mag_true_%s_sdss_z0_upd'%band].values)/df_sdss_comb['Mag_true_%s_sdss_z0'%band].values, bins=np.linspace(-1, 1, 50))\n",
    "    plt.xlabel(r\"$(M_{%s, \\rm Old} - M_{%s, \\rm New}) / M_{%s, \\rm Old}$\"%(band, band, band))\n",
    "    plt.yscale(\"log\")\n",
    "    plt.ylabel(r\"$N$\")"
   ]
  },
  {
   "cell_type": "code",
   "execution_count": null,
   "id": "87439865-f05e-4cc3-adba-f36c9480cbf2",
   "metadata": {},
   "outputs": [],
   "source": [
    "# Update the absolute magnitudes in the catalog and then save them!\n",
    "for band in ['g', 'r', 'i', 'z']:\n",
    "    del df_sdss_comb['Mag_true_%s_sdss_z0'%band]\n",
    "    df_sdss_comb['Mag_true_%s_sdss_z0'%band] = df_sdss_comb['Mag_true_%s_sdss_z0_upd'%band]\n",
    "    del df_sdss_comb['Mag_true_%s_sdss_z0_upd'%band]\n",
    "df_sdss_comb.to_csv(\"/global/cscratch1/sd/agaglian/DC2full_pzRedshifts_tenHealpix_secondSet_sdss_updMag.tar.gz\",index=False)"
   ]
  },
  {
   "cell_type": "code",
   "execution_count": null,
   "id": "eee86d5d-eb71-4392-95e5-f74a19d22946",
   "metadata": {},
   "outputs": [],
   "source": []
  },
  {
   "cell_type": "code",
   "execution_count": null,
   "id": "c3570f28-4b9e-4161-a753-87073eebb7ae",
   "metadata": {},
   "outputs": [],
   "source": [
    "np.sort(df_sdss_comb['galaxy_id'].values)"
   ]
  },
  {
   "cell_type": "code",
   "execution_count": null,
   "id": "5bd2b0c8-c16b-4c36-a86e-39552928b446",
   "metadata": {},
   "outputs": [],
   "source": [
    "df_Image = pd.read_csv(\"/global/cscratch1/sd/agaglian/FullImageMomentsCatalog_noR.tar.gz\")"
   ]
  },
  {
   "cell_type": "code",
   "execution_count": null,
   "id": "e5d6197f-31e8-46df-a72b-661c1ec73ae5",
   "metadata": {},
   "outputs": [],
   "source": [
    "onp.sort(df_Image.loc[df_Image['cosmoDC2_ID'] > 0, 'cosmoDC2_ID'].values)"
   ]
  },
  {
   "cell_type": "code",
   "execution_count": null,
   "id": "5c01423f-973c-4e36-b503-703a05c99a1a",
   "metadata": {},
   "outputs": [],
   "source": [
    "onp.sort(df_Image.loc[df_Image['cosmodc2_id_truth'] > 0, 'cosmodc2_id_truth'].values)"
   ]
  },
  {
   "cell_type": "code",
   "execution_count": null,
   "id": "3c536285-3865-4fdb-9a67-7001eb49f3b9",
   "metadata": {},
   "outputs": [],
   "source": [
    "df_Image[df_Image['cosmoDC2_ID'] == -2134901886]"
   ]
  },
  {
   "cell_type": "code",
   "execution_count": null,
   "id": "749fd148-0ae3-48de-b1cb-e4c8852be664",
   "metadata": {},
   "outputs": [],
   "source": [
    "len(df_Image)"
   ]
  },
  {
   "cell_type": "code",
   "execution_count": null,
   "id": "e24c4225-6389-4efb-910f-6cfd899747c7",
   "metadata": {},
   "outputs": [],
   "source": [
    "np.sort(df_Image['cosmoDC2_ID'].values)"
   ]
  },
  {
   "cell_type": "code",
   "execution_count": null,
   "id": "ba1d833c-4888-4de2-8bf8-3de5e470ff43",
   "metadata": {},
   "outputs": [],
   "source": [
    "len(df_Image[df_Image['cosmoDC2_ID'].values < 0])/len(df_Image)"
   ]
  },
  {
   "cell_type": "code",
   "execution_count": null,
   "id": "a017b461-b12d-4294-8f71-ba0fbb428f68",
   "metadata": {},
   "outputs": [],
   "source": [
    "#combine with the image catalog and get physical radius values\n",
    "df_Image = pd.read_csv(\"/global/cscratch1/sd/agaglian/FullImageMomentsCatalog.tar.gz\", usecols=['cosmoDC2_ID', 'RSQ_pixel_gal'])\n",
    "df_Image['galaxy_id'] = df_Image['cosmoDC2_ID']\n",
    "del df_Image['cosmoDC2_ID']\n",
    "df_sdss_wImg = df_Image.merge(df_sdss_comb, on='galaxy_id')"
   ]
  },
  {
   "cell_type": "code",
   "execution_count": null,
   "id": "04a277ed-df3f-4781-9ced-1427eada1ca6",
   "metadata": {},
   "outputs": [],
   "source": [
    "#df_sdss_wImg['RSQ_arcsec_gal'] = df_sdss_wImg['RSQ_pixel_gal']*0.2 # 0.2''/px is the scale for LSST\n",
    "#dLum = cosmo.luminosity_distance(df_sdss_wImg['PZflowredshift']).to(u.pc).value #get luminosity distance again\n",
    "\n",
    "#first take sqrt(RSQ) to get R in px, then convert to arcsec, then convert to physical distance using the following formula:\n",
    "#(angle in arcsec)/206265 = d/D ---> d = (angle in arcsec * luminosity distance)/206265 (divide by 1.e3 to get kpc)\n",
    "df_sdss_wImg['RSQ_kpc_gal'] = np.sqrt(df_sdss_wImg['RSQ_pixel_gal'])*0.2 * \n",
    "    cosmo.luminosity_distance(df_sdss_wImg['PZflowredshift']).to(u.pc).value/206265./1.e3"
   ]
  },
  {
   "cell_type": "code",
   "execution_count": null,
   "id": "4cdc0f0d-50db-4b21-a2d1-dd75be3cfdaa",
   "metadata": {},
   "outputs": [],
   "source": [
    "# get rid of this column and save the full catalog\n",
    "del df_sdss_wImg['RSQ_pixel_gal']\n",
    "df_sdss_wImg.to_csv(\"/global/cscratch1/sd/agaglian/DC2full_pzRedshifts_tenHealpix_sdss_updMag_Rkpc.tar.gz\",index=False)"
   ]
  },
  {
   "cell_type": "code",
   "execution_count": null,
   "id": "915e1bd6-b339-43df-8ac0-9681179f1fd3",
   "metadata": {},
   "outputs": [],
   "source": [
    "#check out the catalog\n",
    "df_sdss_healpix = pd.read_csv(\"/global/cscratch1/sd/agaglian/DC2full_pzRedshifts_tenHealpix_sdss_updMag_Rkpc.tar.gz\")"
   ]
  },
  {
   "cell_type": "code",
   "execution_count": null,
   "id": "c8885b80-0757-4e72-a8a2-dc7fc030510d",
   "metadata": {},
   "outputs": [],
   "source": [
    "df_sdss_healpix "
   ]
  },
  {
   "cell_type": "code",
   "execution_count": null,
   "id": "62e5606a-ddc8-4b9e-b2f4-8d69e7976983",
   "metadata": {},
   "outputs": [],
   "source": [
    "cosmo=GCRCatalogs.load_catalog(\"cosmoDC2_v1.1.4\")\n",
    "features = ['galaxy_id', 'Mag_true_g_sdss_z0', 'Mag_true_r_sdss_z0', 'Mag_true_i_sdss_z0', 'Mag_true_z_sdss_z0']\n",
    "gal = cosmo.get_quantities(features, filters=[(lambda x: np.in1d(x, np.array([1375530850])), 'galaxy_id')])#, return_iterator=True)"
   ]
  },
  {
   "cell_type": "code",
   "execution_count": null,
   "id": "0b545f96-c395-442e-a009-dd18e1146226",
   "metadata": {},
   "outputs": [],
   "source": [
    "df_Image = pd.read_csv(\"/global/cscratch1/sd/agaglian/FullImageMomentsCatalog.tar.gz\")\n",
    "df_Image.dtypes"
   ]
  },
  {
   "cell_type": "code",
   "execution_count": null,
   "id": "2315e82d-6e70-49d0-a561-443211eed2d7",
   "metadata": {},
   "outputs": [],
   "source": [
    "df_Image['cosmo"
   ]
  },
  {
   "cell_type": "code",
   "execution_count": null,
   "id": "81da4a52-dc6e-4e88-b0f2-573fd5ba90be",
   "metadata": {},
   "outputs": [],
   "source": [
    "df_Image.dtypes"
   ]
  },
  {
   "cell_type": "code",
   "execution_count": null,
   "id": "580c2fb7-fb10-4b9c-86bc-148eb09eb1e4",
   "metadata": {},
   "outputs": [],
   "source": [
    "df_Image['galaxy_id'] = df_Image['cosmodc2_id_truth']"
   ]
  },
  {
   "cell_type": "code",
   "execution_count": null,
   "id": "4cfb3665-abc4-4412-bb46-d1b710bca35d",
   "metadata": {},
   "outputs": [],
   "source": [
    "matched = pd.read_csv(\"/global/cscratch1/sd/agaglian/DC2full_pzRedshifts_tenHealpix_sdss_updMag_Rkpc.tar.gz\")"
   ]
  },
  {
   "cell_type": "code",
   "execution_count": null,
   "id": "13c9d4b2-16b1-4ac3-bde5-e9c55bdf0d38",
   "metadata": {},
   "outputs": [],
   "source": [
    "plt.hist(matched['Mag_true_g_sdss_z0'])"
   ]
  },
  {
   "cell_type": "code",
   "execution_count": null,
   "id": "66403fe2-a902-46f2-a9f9-ca11fc147ffa",
   "metadata": {},
   "outputs": [],
   "source": [
    "#usecols=['cosmoDC2_ID', 'RSQ_pixel_gal'], "
   ]
  },
  {
   "cell_type": "code",
   "execution_count": null,
   "id": "77edab8a-13c7-42bd-8b89-22e38338646c",
   "metadata": {},
   "outputs": [],
   "source": [
    "df_sdss_comb.dtypes"
   ]
  },
  {
   "cell_type": "code",
   "execution_count": null,
   "id": "4f1de4b9-aae2-41d8-a7a6-18cb0148a8be",
   "metadata": {},
   "outputs": [],
   "source": [
    "df_sdss_comb = pd.read_csv(\"/global/cscratch1/sd/agaglian/DC2full_pzRedshifts_tenHealpix_sdss_updMag.tar.gz\")"
   ]
  },
  {
   "cell_type": "code",
   "execution_count": null,
   "id": "641b016b-df1b-42c3-9054-597d055d7e21",
   "metadata": {},
   "outputs": [],
   "source": [
    "len(df_sdss_comb)"
   ]
  },
  {
   "cell_type": "code",
   "execution_count": null,
   "id": "5c290b22-1065-4b0b-96b3-fe0e67ed04d0",
   "metadata": {},
   "outputs": [],
   "source": [
    "#combined = \n",
    "df_sdss_comb.merge(df_Image, on='galaxy_id')"
   ]
  },
  {
   "cell_type": "code",
   "execution_count": null,
   "id": "1981f89b-c0c3-4549-87f9-98bf091f4aab",
   "metadata": {},
   "outputs": [],
   "source": [
    "combined.dropna(subset=['DC2redshift'])"
   ]
  },
  {
   "cell_type": "code",
   "execution_count": null,
   "id": "f5e6c09d-ff2e-4bc6-9a2d-d735e10d0340",
   "metadata": {},
   "outputs": [],
   "source": [
    "len(df_sdss_comb)"
   ]
  },
  {
   "cell_type": "code",
   "execution_count": null,
   "id": "61314f39-d38f-4c6e-871a-b825a49e8b49",
   "metadata": {},
   "outputs": [],
   "source": [
    "len(df_Image)"
   ]
  },
  {
   "cell_type": "code",
   "execution_count": null,
   "id": "09735395-5871-46cd-8a9a-8762dfed6c28",
   "metadata": {},
   "outputs": [],
   "source": []
  }
 ],
 "metadata": {
  "kernelspec": {
   "display_name": "pzflow",
   "language": "python",
   "name": "pzflow"
  },
  "language_info": {
   "codemirror_mode": {
    "name": "ipython",
    "version": 3
   },
   "file_extension": ".py",
   "mimetype": "text/x-python",
   "name": "python",
   "nbconvert_exporter": "python",
   "pygments_lexer": "ipython3",
   "version": "3.7.6"
  }
 },
 "nbformat": 4,
 "nbformat_minor": 5
}
