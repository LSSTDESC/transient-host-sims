{
 "cells": [
  {
   "cell_type": "markdown",
   "id": "fbed7dc6-d8c4-4076-a2ba-9aa4125e230c",
   "metadata": {
    "tags": []
   },
   "source": [
    "# validating $p(z | photometry)$ for ELAsTiCC\n",
    "\n",
    "_Alex Malz (~~GCCL@RUB~~LINCC@CMU)_\n",
    "\n",
    "The goal here is to validate realistically complex (not necessarily \"good\") mock photo-$z$ posteriors for host galaxies. "
   ]
  },
  {
   "cell_type": "code",
   "execution_count": null,
   "id": "5eb1bc95-5728-46ee-9ac2-c3deac4d7742",
   "metadata": {},
   "outputs": [],
   "source": [
    "import bisect\n",
    "import corner\n",
    "import math\n",
    "import matplotlib as mpl\n",
    "import matplotlib.pyplot as plt\n",
    "import numpy as np\n",
    "import os\n",
    "import pandas as pd\n",
    "import random\n",
    "random.seed = 42\n",
    "import scipy.stats as sps\n",
    "import subprocess\n",
    "import sys\n",
    "eps = sys.float_info.epsilon"
   ]
  },
  {
   "cell_type": "code",
   "execution_count": null,
   "id": "188b965a-cdf2-4780-bf33-5e0aa9466ce0",
   "metadata": {},
   "outputs": [],
   "source": [
    "import pzflow\n",
    "from pzflow import Flow\n",
    "from pzflow.bijectors import Chain, ColorTransform, InvSoftplus, StandardScaler, RollingSplineCoupling, ShiftBounds\n",
    "from pzflow.distributions import Uniform, Joint, Normal"
   ]
  },
  {
   "cell_type": "code",
   "execution_count": null,
   "id": "a903b7b1-466a-4cda-9355-bd9229950954",
   "metadata": {},
   "outputs": [],
   "source": [
    "import qp"
   ]
  },
  {
   "cell_type": "markdown",
   "id": "cf8fac49-ef95-432a-a4bb-5c1d1b8ee9dd",
   "metadata": {},
   "source": [
    "## Host photometry"
   ]
  },
  {
   "cell_type": "markdown",
   "id": "8c156cd0-69fa-4069-ab7b-9c1e71277fde",
   "metadata": {
    "tags": []
   },
   "source": [
    "Let's pick one hostlib for now.\n",
    "This is somewhat slow because the files are ~GB."
   ]
  },
  {
   "cell_type": "code",
   "execution_count": null,
   "id": "9554e5d5-dbac-4620-b1f1-9dab56ed708f",
   "metadata": {},
   "outputs": [],
   "source": [
    "hl_heads = {'SNIa': 64,\n",
    "            'SNII': 128, \n",
    "            'SNIbc': 128, \n",
    "            # 'SNIbc_Pt2': None, \n",
    "            'UNMATCHED_KN_SHIFT': 64,\n",
    "            'UNMATCHED_COSMODC2': 64}"
   ]
  },
  {
   "cell_type": "code",
   "execution_count": null,
   "id": "3dc23239-6d7a-48fa-9ee9-c037d06623fc",
   "metadata": {},
   "outputs": [],
   "source": [
    "pick_one = 1\n",
    "which_hl = list(hl_heads.keys())[pick_one]\n",
    "in_path = '/global/cfs/cdirs/lsst/groups/TD/SN/SNANA/SURVEYS/LSST/ROOT/PLASTICC_DEV/HOSTLIB/magerr/unzip/'+which_hl+'_GHOST.HOSTLIB_RESTOREDMAG1YR'#.gz'\n",
    "# in_path = '/global/cfs/cdirs/lsst/groups/TD/SN/SNANA/SURVEYS/LSST/ROOT/PLASTICC_DEV/HOSTLIB/sandbox/SNII_GHOST_NOHEADER.HOSTLIB'\n",
    "hl_head = 0#int(subprocess.check_output(f\"zcat {in_path} | cat -n | sed -n '/VARNAMES/ {{ p; q }}'  | awk '{{print $1-1}}'\", shell=True))"
   ]
  },
  {
   "cell_type": "code",
   "execution_count": null,
   "id": "a23a175c-bd3e-4a6a-9bb7-86ec1742a71c",
   "metadata": {},
   "outputs": [],
   "source": [
    "df = pd.read_csv(in_path, skiprows=hl_head, delimiter=' ', header=0)\n",
    "# df.set_index('GALID')\n",
    "nhost = len(df)\n",
    "# nhost = 100\n",
    "# df = df[:nhost]\n",
    "print(nhost)"
   ]
  },
  {
   "cell_type": "code",
   "execution_count": null,
   "id": "772bf098-a564-48db-821d-7c73fc6ced7d",
   "metadata": {},
   "outputs": [],
   "source": [
    "df.columns"
   ]
  },
  {
   "cell_type": "code",
   "execution_count": null,
   "id": "5d323064-dc76-4d38-99de-e100e387ae18",
   "metadata": {},
   "outputs": [],
   "source": [
    "# df[['u_obs', 'g_obs', 'r_obs', 'i_obs', 'z_obs',\n",
    "#        'Y_obs', 'u_obs_err', 'g_obs_err',\n",
    "#        'r_obs_err', 'i_obs_err', 'z_obs_err', 'Y_obs_err']].isnull().sum()"
   ]
  },
  {
   "cell_type": "code",
   "execution_count": null,
   "id": "74f0a905-5e1a-4f2b-a936-be559339d745",
   "metadata": {},
   "outputs": [],
   "source": [
    "true_locs = df['ZTRUE'].values.reshape((nhost, 1))"
   ]
  },
  {
   "cell_type": "markdown",
   "id": "60d37deb-c243-45e7-9332-f719191b6c3f",
   "metadata": {},
   "source": [
    "## Photo-$z$ model"
   ]
  },
  {
   "cell_type": "code",
   "execution_count": null,
   "id": "919ca39c-01b0-489c-8a56-e0eca7ffda9c",
   "metadata": {},
   "outputs": [],
   "source": [
    "hl_df_in = df.rename(columns={'ZTRUE':'redshift',\n",
    "                           'Y_obs':'y', \n",
    "                           'r_obs':'r', \n",
    "                           'u_obs':'u', \n",
    "                           'g_obs':'g', \n",
    "                           'z_obs':'z', \n",
    "                           'i_obs':'i',#})[['redshift','u', 'g', 'r', 'i', 'z', 'y']]\n",
    "                            'Y_obs_err':'y_err', \n",
    "                           'r_obs_err':'r_err', \n",
    "                           'u_obs_err':'u_err', \n",
    "                           'g_obs_err':'g_err', \n",
    "                           'z_obs_err':'z_err', \n",
    "                           'i_obs_err':'i_err'})[['redshift', \n",
    "                                                  'u', 'g', 'r', 'i', 'z', 'y', \n",
    "                                                  'u_err', 'g_err', 'r_err', 'i_err', 'z_err', 'y_err']]\n",
    "\n",
    "quantities = hl_df_in.columns\n",
    "\n",
    "# convert magnitudes to colors\n",
    "hl_df_colors = hl_df_in.copy()[['redshift', 'r', 'r_err']]\n",
    "for i in range(len(quantities)-2-6):\n",
    "    hl_df_colors[quantities[i+1]+'-'+quantities[i+2]] = hl_df_in[quantities[i+1]] - hl_df_in[quantities[i+2]]\n",
    "    hl_df_colors[quantities[i+1]+'-'+quantities[i+2]+'_err'] = np.sqrt(hl_df_in[quantities[6+i+1]]**2 + hl_df_in[quantities[6+i+2]]**2)\n",
    "      \n",
    "hl_df = hl_df_colors[['redshift', 'u-g', 'g-r', 'r-i', 'i-z', 'z-y', 'r', 'u-g_err', 'g-r_err', 'r-i_err', 'i-z_err', 'z-y_err', 'r_err']][:nhost]\n",
    "df_subset = hl_df[['redshift', 'u-g', 'g-r', 'r-i', 'i-z', 'z-y', 'r']]\n",
    "\n",
    "flow = Flow(file='../data_files/model_photo-zs_uniform_splbin64_epoch100_flow.pkl')# this path will not change any time soon\n",
    "flow.latent = Uniform((-5, 5), (-5, 5), (-5, 5), (-5, 5), (-5, 5), (-5, 5), (-5, 5))"
   ]
  },
  {
   "cell_type": "code",
   "execution_count": null,
   "id": "d8d88642-5caa-49f0-8d11-882eb9549cbf",
   "metadata": {},
   "outputs": [],
   "source": [
    "# plt.hist(hl_df[])"
   ]
  },
  {
   "cell_type": "code",
   "execution_count": null,
   "id": "a123daee-7b31-4571-82a9-0d370758d537",
   "metadata": {},
   "outputs": [],
   "source": [
    "nsamp = 10000"
   ]
  },
  {
   "cell_type": "code",
   "execution_count": null,
   "id": "63c8aa81-8a65-445b-b8a3-a9c018093d8b",
   "metadata": {},
   "outputs": [],
   "source": [
    "samples = flow.sample(nsamp, seed=0)\n",
    "\n",
    "fig = plt.figure(figsize=(12,12))\n",
    "\n",
    "# ranges = [(-0.1,2.4), (19.5,33), (19,32), (19,29), (19,29), (19,28), (19,28)]\n",
    "\n",
    "corner.corner(samples, fig=fig, color='r', bins=20, hist_bin_factor=2, data_kwargs={'ms':3}, contour_kwargs={'linewidths':2}, label='model', labels=['redshift', 'u-g', 'g-r', 'r-i', 'i-z', 'z-y', 'r'])\n",
    "\n",
    "corner.corner(df_subset.sample(nsamp), fig=fig, bins=20, hist_bin_factor=2, color='b', data_kwargs={'ms':3}, show_titles=True, label='inputs', labels=['redshift', 'u-g', 'g-r', 'r-i', 'i-z', 'z-y', 'r']);\n",
    "\n",
    "# corner.corner(res_plot.sample(nsamp), fig=fig, bins=20, hist_bin_factor=2, color='g', data_kwargs={'ms':3}, show_titles=True, label='combo', labels=['redshift', 'u-g', 'g-r', 'r-i', 'i-z', 'z-y', 'r']);\n",
    "\n",
    "fig.legend()\n",
    "plt.savefig('./debug_1yr.png')"
   ]
  },
  {
   "cell_type": "code",
   "execution_count": null,
   "id": "fe6843a1-556c-483f-85fb-7d759847783f",
   "metadata": {},
   "outputs": [],
   "source": [
    "# hardmax = {}"
   ]
  },
  {
   "cell_type": "code",
   "execution_count": null,
   "id": "754eb113-9783-41a1-b775-df8d33b08b8a",
   "metadata": {},
   "outputs": [],
   "source": [
    "# hardmax['r'] = max(samples['r'])"
   ]
  },
  {
   "cell_type": "code",
   "execution_count": null,
   "id": "23cd4dd0-bde0-46cc-a524-d585338ec4ed",
   "metadata": {},
   "outputs": [],
   "source": [
    "# hardmax['g'] = max(samples['g-r']) + hardmax['r']"
   ]
  },
  {
   "cell_type": "code",
   "execution_count": null,
   "id": "e6ee690d-4185-43df-a50a-58c6f9aadc30",
   "metadata": {},
   "outputs": [],
   "source": [
    "# hardmax['u'] = max(samples['u-g']) + hardmax['g']"
   ]
  },
  {
   "cell_type": "code",
   "execution_count": null,
   "id": "bc8a12b0-bdb6-464c-819a-6d25f15be8d7",
   "metadata": {},
   "outputs": [],
   "source": [
    "# hardmax['i'] = hardmax['r'] - min(samples['r-i'])"
   ]
  },
  {
   "cell_type": "code",
   "execution_count": null,
   "id": "abc1c033-2b77-4980-a1ec-9659f0bfcee1",
   "metadata": {},
   "outputs": [],
   "source": [
    "# hardmax['z'] = hardmax['i'] - min(samples['i-z'])"
   ]
  },
  {
   "cell_type": "code",
   "execution_count": null,
   "id": "43a88f55-f6a0-41e7-bc7a-33c598e893de",
   "metadata": {},
   "outputs": [],
   "source": [
    "# hardmax['y'] = hardmax['z'] - min(samples['z-y'])"
   ]
  },
  {
   "cell_type": "code",
   "execution_count": null,
   "id": "cf5e66aa-5fc1-4e72-9241-0ef3fb20964e",
   "metadata": {},
   "outputs": [],
   "source": [
    "# hardmax"
   ]
  },
  {
   "cell_type": "markdown",
   "id": "8f6b2d73-b6b3-4653-9905-43513e2c5816",
   "metadata": {},
   "source": [
    "## Estimated photo-$z$ information"
   ]
  },
  {
   "cell_type": "markdown",
   "id": "d78db9ec-9481-460d-aa15-b0324fdd0bdc",
   "metadata": {},
   "source": [
    "just one chunk for now"
   ]
  },
  {
   "cell_type": "code",
   "execution_count": null,
   "id": "bfcb2bc7-42a9-465b-9f35-b74d1eb19565",
   "metadata": {},
   "outputs": [],
   "source": [
    "chunks = hl_heads[which_hl]\n",
    "idx = np.random.randint(chunks)\n",
    "print(idx)"
   ]
  },
  {
   "cell_type": "code",
   "execution_count": null,
   "id": "0898b200-7f62-406f-9fe1-47ffb5929e9c",
   "metadata": {},
   "outputs": [],
   "source": [
    "batch_size = 50\n",
    "batch_factor = math.ceil(nhost / (chunks * batch_size))\n",
    "chunk_size = batch_size * batch_factor"
   ]
  },
  {
   "cell_type": "code",
   "execution_count": null,
   "id": "141fbd52-28cb-44d5-8559-8cb68b995a93",
   "metadata": {},
   "outputs": [],
   "source": [
    "# idx = 86\n",
    "\n",
    "glob_path = '/global/cfs/cdirs/lsst/groups/TD/SN/SNANA/SURVEYS/LSST/ROOT/PLASTICC_DEV/HOSTLIB/zquants/1yr/'\n",
    "in_name = 'pz'+which_hl+'batch'+str(idx)+'_'+str(batch_size * batch_factor)+'chunks'+str(batch_size)+'magcap'\n",
    "in_pdfs = qp.read(glob_path+in_name+'.fits')\n",
    "\n",
    "# pdf_path = '/global/cfs/cdirs/lsst/groups/TD/SN/SNANA/SURVEYS/LSST/ROOT/PLASTICC_DEV/HOSTLIB/magerr/unzip/'+which_hl+'_GHOST_AIMALZPZS.HOSTLIB'\n",
    "# res = pd.read_csv(pdf_path, skiprows=hl_head, delimiter=' ', header=0)"
   ]
  },
  {
   "cell_type": "code",
   "execution_count": null,
   "id": "14665aa1-a66a-4585-869b-ef7ea34fb753",
   "metadata": {},
   "outputs": [],
   "source": [
    "# df_subset = df[df['GALID'].isin(in_pdfs.ancil['GALID'])]"
   ]
  },
  {
   "cell_type": "code",
   "execution_count": null,
   "id": "f29750d0-755a-4c2f-9e50-a5c47f35ea9f",
   "metadata": {},
   "outputs": [],
   "source": [
    "df_subset['GALID'] = df['GALID'].copy()\n",
    "df_subset[['u-g_err', 'g-r_err', 'r-i_err', 'i-z_err', 'z-y_err', 'r_err']] = hl_df[['u-g_err', 'g-r_err', 'r-i_err', 'i-z_err', 'z-y_err', 'r_err']].copy()\n",
    "df_subset = df_subset[idx * chunk_size : min((idx+1) * chunk_size, nhost)]"
   ]
  },
  {
   "cell_type": "code",
   "execution_count": null,
   "id": "36b2eb02-c3e6-4eb7-b2dc-58150647bd50",
   "metadata": {},
   "outputs": [],
   "source": [
    "# df_subset"
   ]
  },
  {
   "cell_type": "markdown",
   "id": "f6aebabd-df2a-4e5e-8c8b-07e2157b8db8",
   "metadata": {
    "jp-MarkdownHeadingCollapsed": true,
    "tags": []
   },
   "source": [
    "### Point estimates (median)"
   ]
  },
  {
   "cell_type": "code",
   "execution_count": null,
   "id": "72195ad4-1898-4442-a6d9-46f60973779f",
   "metadata": {},
   "outputs": [],
   "source": [
    "med_ind = np.where(in_pdfs.metadata()['quants'][0] == 0.5)[0][0]"
   ]
  },
  {
   "cell_type": "code",
   "execution_count": null,
   "id": "9daef679-6464-4f9e-b671-ff97fc9d1bf1",
   "metadata": {},
   "outputs": [],
   "source": [
    "np.sum(np.isnan(in_pdfs.objdata()['locs'].T[med_ind])) / chunk_size"
   ]
  },
  {
   "cell_type": "code",
   "execution_count": null,
   "id": "ea90ab3e-318a-48da-9269-96f0271c82ab",
   "metadata": {},
   "outputs": [],
   "source": [
    "mask = ~np.isnan(in_pdfs.objdata()['locs'].T[med_ind])"
   ]
  },
  {
   "cell_type": "code",
   "execution_count": null,
   "id": "1b463b95-4a60-4a4a-9faf-20ef93da628a",
   "metadata": {},
   "outputs": [],
   "source": [
    "zgrid = np.logspace(-3., np.log10(3.), 300)"
   ]
  },
  {
   "cell_type": "code",
   "execution_count": null,
   "id": "351ab493-1a98-4a16-bf63-7298b7ed1cc2",
   "metadata": {},
   "outputs": [],
   "source": [
    "fig = plt.figure(figsize=(5, 5))\n",
    "plt.hist2d(df_subset['redshift'].values[mask], in_pdfs.objdata()['locs'][mask].T[med_ind], \n",
    "          bins=zgrid, cmap='gray_r', density=True);\n",
    "plt.xlabel('true redshift')\n",
    "plt.ylabel('median photo-z')"
   ]
  },
  {
   "cell_type": "code",
   "execution_count": null,
   "id": "8f4cd2ce-2379-4529-9d7c-95f2042df1a7",
   "metadata": {},
   "outputs": [],
   "source": [
    "# res_plot = res.rename(columns={'ZTRUE':'redshift',\n",
    "#                            'Y_obs':'y', \n",
    "#                            'r_obs':'r', \n",
    "#                            # 'u_obs':'u', \n",
    "#                            'g_obs':'g', \n",
    "#                            'z_obs':'z', \n",
    "#                            'i_obs':'i'})\n",
    "# res_plot_colors = res_plot.copy()[['redshift', 'r']]\n",
    "# res_plot['u'] = 0\n",
    "# for i in range(len(quantities)-2-6):\n",
    "#     res_plot_colors[quantities[i+1]+'-'+quantities[i+2]] = res_plot[quantities[i+1]] - res_plot[quantities[i+2]]\n",
    "#     # hl_df_colors[quantities[i+1]+'-'+quantities[i+2]+'_err'] = np.sqrt(hl_df[quantities[6+i+1]]**2 + hl_df[quantities[6+i+2]]**2)\n",
    "      \n",
    "# res_plot = res_plot_colors[['redshift', 'u-g', 'g-r', 'r-i', 'i-z', 'z-y', 'r']]"
   ]
  },
  {
   "cell_type": "code",
   "execution_count": null,
   "id": "c19a8ccd-0042-4e15-83e9-7fee7fc93e69",
   "metadata": {},
   "outputs": [],
   "source": [
    "# len(df)"
   ]
  },
  {
   "cell_type": "code",
   "execution_count": null,
   "id": "cdd1c466-131e-420a-805b-20ef1e1b7e0e",
   "metadata": {},
   "outputs": [],
   "source": [
    "# len(res)"
   ]
  },
  {
   "cell_type": "code",
   "execution_count": null,
   "id": "9d3a7726-c6ab-4422-a2e8-fa7c6801fd38",
   "metadata": {},
   "outputs": [],
   "source": [
    "# plt.hist(df['Y_obs'], bins=100);\n",
    "# plt.hist(res['Y_obs'], bins=100);\n",
    "# plt.semilogy()"
   ]
  },
  {
   "cell_type": "code",
   "execution_count": null,
   "id": "608e8aea-02a0-455b-9f1e-4806187ea96c",
   "metadata": {},
   "outputs": [],
   "source": [
    "# plt.hist2d(df['Y_obs']-df['z_obs'], res['Y_obs']-res['z_obs'], bins=(100,100));"
   ]
  },
  {
   "cell_type": "code",
   "execution_count": null,
   "id": "6bbf2a1a-85a7-48f2-995e-add0b0aefdc5",
   "metadata": {},
   "outputs": [],
   "source": [
    "# plt.hist(df['ZTRUE'], bins=zgrid, alpha=0.5);\n",
    "# plt.hist(res['ZTRUE'], bins=zgrid, alpha=0.5);\n",
    "# plt.hist(res['ZPHOT'], bins=zgrid, alpha=0.5);\n",
    "# plt.xlabel()"
   ]
  },
  {
   "cell_type": "code",
   "execution_count": null,
   "id": "8e075844-a0c7-4c17-9ae9-8d12a84319e8",
   "metadata": {},
   "outputs": [],
   "source": [
    "# wherenans = ~np.sum(np.isnan(in_pdfs.objdata()['locs']), axis=1)\n",
    "# plt.hist2d(df_subset['redshift'][wherenans], in_pdfs.objdata()['locs'][wherenans].T[6])"
   ]
  },
  {
   "cell_type": "code",
   "execution_count": null,
   "id": "c4ae5d67-cb47-4d48-99db-0f9dca52ffac",
   "metadata": {},
   "outputs": [],
   "source": [
    "# truth = df_subset['redshift'].to_numpy()"
   ]
  },
  {
   "cell_type": "code",
   "execution_count": null,
   "id": "6183c152-41db-4c44-86df-a028ed83e609",
   "metadata": {},
   "outputs": [],
   "source": [
    "# medians = in_pdfs.objdata()['locs'][:, 4]"
   ]
  },
  {
   "cell_type": "code",
   "execution_count": null,
   "id": "17d2477f-a11f-4b0a-b9e9-a91fdd148975",
   "metadata": {},
   "outputs": [],
   "source": [
    "truth = df_subset['redshift'].values[mask]\n",
    "medians = in_pdfs.objdata()['locs'][mask].T[med_ind]"
   ]
  },
  {
   "cell_type": "code",
   "execution_count": null,
   "id": "74fc0ae7-ea3d-4025-a6fa-e2a4b1f6f7b8",
   "metadata": {},
   "outputs": [],
   "source": [
    "fig = plt.figure(figsize=(5, 5))\n",
    "plt.scatter(truth, medians, s=1, alpha=0.1);\n",
    "plt.xlabel('true redshift')\n",
    "plt.ylabel('median photo-z')"
   ]
  },
  {
   "cell_type": "code",
   "execution_count": null,
   "id": "a29e3aa1-d521-4392-bf93-486210386acb",
   "metadata": {},
   "outputs": [],
   "source": [
    "plt.hist(truth, alpha=0.5, label='truth', bins=zgrid, density=True);\n",
    "plt.hist(medians, alpha=0.5, label='medians', bins=zgrid, density=True);\n",
    "plt.legend()\n",
    "plt.xlabel('z')"
   ]
  },
  {
   "cell_type": "markdown",
   "id": "b302166a-d5cd-42ed-97be-89054ea938e9",
   "metadata": {
    "jp-MarkdownHeadingCollapsed": true,
    "tags": []
   },
   "source": [
    "### Point estimate metrics"
   ]
  },
  {
   "cell_type": "code",
   "execution_count": null,
   "id": "80179854-2d06-4156-89d7-4857ceb7c51a",
   "metadata": {},
   "outputs": [],
   "source": [
    "bias_mlg = (medians - truth) / (1 + medians)\n",
    "bias_desc = (medians - truth) / (1 + truth)\n",
    "\n",
    "print(np.mean(bias_mlg))\n",
    "print(np.mean(bias_desc))"
   ]
  },
  {
   "cell_type": "code",
   "execution_count": null,
   "id": "3896d495-c4ba-4c84-b4b6-03e75a3a3509",
   "metadata": {},
   "outputs": [],
   "source": [
    "plt.hist(bias_mlg, bins=np.arange(-3., 1., 0.1), alpha=0.5, label='robust bias');\n",
    "plt.hist(bias_desc, bins=np.arange(-3., 1., 0.1), alpha=0.5, label='canonical bias');\n",
    "plt.legend()\n",
    "plt.xlabel('bias')"
   ]
  },
  {
   "cell_type": "code",
   "execution_count": null,
   "id": "566e6e30-4003-4ecf-bc6b-82eedc65450a",
   "metadata": {},
   "outputs": [],
   "source": [
    "plt.scatter(truth, medians, s=1, cmap=mpl.cm.viridis_r, c=np.abs(bias_mlg), vmin=0, vmax=max(np.abs(bias_mlg)), alpha=0.1)\n",
    "plt.colorbar()\n",
    "plt.xlabel('true redshift')\n",
    "plt.ylabel('median photo-z')"
   ]
  },
  {
   "cell_type": "code",
   "execution_count": null,
   "id": "be8c2399-287c-412c-8dd1-1b2dccdba6f5",
   "metadata": {},
   "outputs": [],
   "source": [
    "scatter_mlg = in_pdfs.ancil['iqr'][:,0][mask] * 1.349\n",
    "scatter_desc = scatter_mlg / (1 + truth)\n",
    "\n",
    "print(np.mean(scatter_mlg))\n",
    "print(np.mean(scatter_desc))"
   ]
  },
  {
   "cell_type": "code",
   "execution_count": null,
   "id": "7251d7df-0fd0-4e06-a983-d49c7eff0005",
   "metadata": {},
   "outputs": [],
   "source": [
    "plt.hist(scatter_mlg, bins=zgrid, alpha=0.5, label='robust scatter');\n",
    "plt.hist(scatter_desc, bins=zgrid, alpha=0.5, label='canonical scatter');\n",
    "plt.legend()\n",
    "# plt.semilogx()\n",
    "plt.xlabel('scatter')"
   ]
  },
  {
   "cell_type": "code",
   "execution_count": null,
   "id": "c5bfcf3a-93e0-4176-85da-06b94efb7e80",
   "metadata": {},
   "outputs": [],
   "source": [
    "plt.scatter(truth, medians, s=1, cmap=mpl.cm.viridis_r, c=scatter_mlg, alpha=0.1, vmin=0, vmax=max(scatter_mlg))\n",
    "plt.colorbar()\n",
    "plt.xlabel('true redshift')\n",
    "plt.ylabel('median photo-z')"
   ]
  },
  {
   "cell_type": "code",
   "execution_count": null,
   "id": "8d92b80e-cb77-4a20-98a7-050fe490793f",
   "metadata": {},
   "outputs": [],
   "source": [
    "# plt.scatter(np.abs(bias_mlg), 3. * scatter_mlg, s=1, cmap=mpl.cm.viridis_r, c=truth, vmin=0, vmax=3, alpha=0.1)\n",
    "# plt.plot([0, 3], [0, 3], c='k')\n",
    "# plt.colorbar()\n",
    "# plt.xlabel('bias')\n",
    "# plt.ylabel('outlier threshold')"
   ]
  },
  {
   "cell_type": "code",
   "execution_count": null,
   "id": "53367b40-60cd-45db-bbdf-1b0f7ee6cad3",
   "metadata": {},
   "outputs": [],
   "source": [
    "thresh = np.where(3 * scatter_mlg < 0.06, 0.06, 3 * scatter_mlg)"
   ]
  },
  {
   "cell_type": "code",
   "execution_count": null,
   "id": "e8433388-41c8-4937-a603-db06c738c527",
   "metadata": {},
   "outputs": [],
   "source": [
    "is_outlier = np.where(np.abs(bias_mlg) > thresh)[0]"
   ]
  },
  {
   "cell_type": "code",
   "execution_count": null,
   "id": "4e45d423-4805-448e-8c0e-15a43fba0f9a",
   "metadata": {},
   "outputs": [],
   "source": [
    "len(is_outlier) / len(thresh)"
   ]
  },
  {
   "cell_type": "markdown",
   "id": "15d806ce-9c63-4af1-bcd4-2eec58d53886",
   "metadata": {},
   "source": [
    "### Quantiles"
   ]
  },
  {
   "cell_type": "code",
   "execution_count": null,
   "id": "301b9685-389e-4a64-8b62-ae67ecfa4232",
   "metadata": {},
   "outputs": [],
   "source": [
    "# quants = np.linspace(0., 1., 11)\n",
    "# quants[0] += eps\n",
    "# quants[-1] -= eps"
   ]
  },
  {
   "cell_type": "markdown",
   "id": "74e8c6fe-2585-4c22-ad98-71a9f5f9d32b",
   "metadata": {},
   "source": [
    "plot a few"
   ]
  },
  {
   "cell_type": "code",
   "execution_count": null,
   "id": "8e338815-641d-4218-ad48-00b73a6d045f",
   "metadata": {},
   "outputs": [],
   "source": [
    "plot_inds = random.sample(range(in_pdfs.npdf), 10)\n",
    "print(plot_inds)"
   ]
  },
  {
   "cell_type": "code",
   "execution_count": null,
   "id": "09e7631e-888a-40cd-98e4-02f20348c202",
   "metadata": {},
   "outputs": [],
   "source": [
    "galids = in_pdfs.ancil['GALID'][plot_inds]\n",
    "print(galids)"
   ]
  },
  {
   "cell_type": "code",
   "execution_count": null,
   "id": "45f1d928-1695-434b-854b-a8c2f12df57c",
   "metadata": {},
   "outputs": [],
   "source": [
    "to_plot = df_subset.iloc[plot_inds]\n",
    "print(to_plot['GALID'].values)"
   ]
  },
  {
   "cell_type": "code",
   "execution_count": null,
   "id": "f161aae6-5da3-4a5f-a33e-28745ad8c444",
   "metadata": {},
   "outputs": [],
   "source": [
    "# df['GALID'].iloc[to_plot.index]"
   ]
  },
  {
   "cell_type": "code",
   "execution_count": null,
   "id": "f5eeabe9-9b47-401e-9a10-c97ca3e1864b",
   "metadata": {},
   "outputs": [],
   "source": [
    "# truth = df_subset['redshift'].values[mask]\n",
    "# medians = in_pdfs.objdata()['locs'][mask].T[med_ind]"
   ]
  },
  {
   "cell_type": "code",
   "execution_count": null,
   "id": "2becf513-5b51-47e4-9d1c-5b3c7a7864dc",
   "metadata": {},
   "outputs": [],
   "source": [
    "mag_caps = {'u': 41.0, 'g': 36.1, 'r': 34.8, 'i': 34.9, 'z': 34.9, 'y': 34.9}"
   ]
  },
  {
   "cell_type": "code",
   "execution_count": null,
   "id": "cc6f0072-3bea-410c-adf0-b894fd432532",
   "metadata": {
    "scrolled": true,
    "tags": []
   },
   "outputs": [],
   "source": [
    "fig, ax = plt.subplots(len(to_plot), 1, figsize=(5, 20))\n",
    "evalled = flow.posterior(to_plot, column='redshift', grid=zgrid, err_samples=10)\n",
    "for i, galind in enumerate(to_plot.index):\n",
    "    flagged = 0\n",
    "    for col in mag_caps.keys():\n",
    "        if hl_df_in[col].iloc[to_plot.index[i]] > mag_caps[col]:\n",
    "            flagged += 1\n",
    "    print((i, galind, flagged))\n",
    "    ax[i].plot(zgrid, evalled[i], c='b', label='model PDF')\n",
    "    in_pdfs[[plot_inds[i]]].plot(axes=ax[i], color='g', label='quantile PDF')\n",
    "    ax[i].vlines(to_plot['redshift'].iloc[i], 0, max(example), color='r',  label='true redshift')\n",
    "    ax[i].vlines(in_pdfs.objdata()['locs'][plot_inds[i]], 0, max(example)/5., color='k', linewidth=.75, label='raw quantiles')\n",
    "    # ax[i].set_ylim(0, 15)\n",
    "    ax[i].text(2, 5, str(galids[i]))\n",
    "    ax[i].set_ylabel('$p(z)$')\n",
    "    if i == len(to_plot)-1:\n",
    "        ax[i].set_xlabel('$z$')\n",
    "    else:\n",
    "        ax[i].set_xticklabels([])\n",
    "    ax[i].legend(loc='upper right')\n",
    "fig.subplots_adjust(wspace=0, hspace=0)"
   ]
  },
  {
   "cell_type": "markdown",
   "id": "714d7375-129a-4134-9f9d-6f2d92abb48d",
   "metadata": {},
   "source": [
    "# scratch below here"
   ]
  },
  {
   "cell_type": "code",
   "execution_count": null,
   "id": "31f4d374-c726-4c6a-9fa3-643a598a6896",
   "metadata": {},
   "outputs": [],
   "source": [
    "in_pdfs.objdata()['locs']"
   ]
  },
  {
   "cell_type": "code",
   "execution_count": null,
   "id": "9921cae1-7ba4-41a8-ad6a-acf56429af71",
   "metadata": {},
   "outputs": [],
   "source": []
  },
  {
   "cell_type": "code",
   "execution_count": null,
   "id": "3eb19af6-9ac8-4199-a95a-38260798c38c",
   "metadata": {},
   "outputs": [],
   "source": [
    "plt.hist(in_pdfs.objdata()['locs'].T[0])"
   ]
  },
  {
   "cell_type": "code",
   "execution_count": null,
   "id": "e0fdd681-61f1-4f24-bf54-847f1fe61730",
   "metadata": {},
   "outputs": [],
   "source": [
    "is_outlier"
   ]
  },
  {
   "cell_type": "code",
   "execution_count": null,
   "id": "c8c2efab-e1db-4408-ad2d-27a8a2de847e",
   "metadata": {},
   "outputs": [],
   "source": [
    "in_pdfs.objdata()['locs'][35]"
   ]
  },
  {
   "cell_type": "code",
   "execution_count": null,
   "id": "4f4f0df5-4951-44b3-9eb2-01340f3f8c25",
   "metadata": {},
   "outputs": [],
   "source": [
    "rando = 26\n",
    "plt.title(str(in_pdfs.ancil['GALID'][rando]))\n",
    "plt.vlines(in_pdfs.objdata()['locs'][rando], -1, 1, color='k', label='quantiles')\n",
    "plt.plot(zgrid, evalled[rando], label='orig. grid')\n",
    "plt.plot(zgrid_lo, evalled_lo[rando], label='lower-res grid')\n",
    "plt.plot(zgrid_hi, evalled_hi[rando], label='higher-res grid')\n",
    "plt.legend()\n",
    "plt.xlim(0, 3)"
   ]
  },
  {
   "cell_type": "code",
   "execution_count": null,
   "id": "f09ddce4-dc59-479e-af6b-4a39096806d8",
   "metadata": {},
   "outputs": [],
   "source": [
    "rando = 35\n",
    "plt.title(str(in_pdfs.ancil['GALID'][rando]))\n",
    "plt.vlines(in_pdfs.objdata()['locs'][rando], -1, 1, color='k', label='quantiles')\n",
    "plt.plot(zgrid, evalled[rando], label='orig. grid')\n",
    "plt.plot(zgrid_lo, evalled_lo[rando], label='lower-res grid')\n",
    "plt.plot(zgrid_hi, evalled_hi[rando], label='higher-res grid')\n",
    "plt.legend()\n",
    "plt.xlim(0, 3)"
   ]
  },
  {
   "cell_type": "code",
   "execution_count": null,
   "id": "6b8a3530-bc39-4785-8f3d-4bd1fcca495f",
   "metadata": {},
   "outputs": [],
   "source": [
    "is_broken = np.where(in_pdfs.objdata()['locs'][:,-1] == zgrid[-1])[0]"
   ]
  },
  {
   "cell_type": "code",
   "execution_count": null,
   "id": "6f387421-25f2-42b6-bb66-83aff1aa7495",
   "metadata": {},
   "outputs": [],
   "source": [
    "len(is_outlier) / len(thresh) - len(is_broken) / len(thresh)"
   ]
  },
  {
   "cell_type": "code",
   "execution_count": null,
   "id": "8b500d1f-854d-4687-830a-4ccf77d7711b",
   "metadata": {},
   "outputs": [],
   "source": [
    "plt.hist(truth[is_outlier], bins=np.arange(0., 3.01, 0.01), alpha=0.5, label='truth');\n",
    "plt.hist(medians[is_outlier], bins=np.arange(0., 3.01, 0.01), alpha=0.5, label='median');\n",
    "plt.legend()"
   ]
  },
  {
   "cell_type": "code",
   "execution_count": null,
   "id": "fd54d2ed-1aa1-41d0-af2a-e72435c21d47",
   "metadata": {},
   "outputs": [],
   "source": [
    "np.max(medians[is_outlier])"
   ]
  },
  {
   "cell_type": "code",
   "execution_count": null,
   "id": "7137ed67-1a25-4511-8733-5d91b0c59aa5",
   "metadata": {},
   "outputs": [],
   "source": [
    "quantlabs = ['ZPHOT_Q000', 'ZPHOT_Q010', 'ZPHOT_Q020', 'ZPHOT_Q030', 'ZPHOT_Q040', 'ZPHOT_Q050', 'ZPHOT_Q060', 'ZPHOT_Q070', 'ZPHOT_Q080', 'ZPHOT_Q090', 'ZPHOT_Q100']"
   ]
  },
  {
   "cell_type": "markdown",
   "id": "bb9df5e9-389e-480a-8f7c-f1f0a8230e6e",
   "metadata": {},
   "source": [
    "### Reconstructed PDFs"
   ]
  },
  {
   "cell_type": "markdown",
   "id": "0e3c3664-b54f-473c-a44d-6f610cef1172",
   "metadata": {},
   "source": [
    "plot one just to see what the quantiles look like for a given PDF"
   ]
  },
  {
   "cell_type": "code",
   "execution_count": null,
   "id": "6e43e2f2-fd71-42fd-8104-0fa30ef61409",
   "metadata": {},
   "outputs": [],
   "source": [
    "# plot_one = random.sample(range(nhost), 1)\n",
    "# plt.plot(zgrid, sps.truncnorm(a=pos_min[plot_one][0], b=pos_max[plot_one][0], \n",
    "#                               loc=obs_locs[plot_one][0], scale=sigma*(1+obs_locs[plot_one][0])).pdf(zgrid))\n",
    "# plt.vlines(df[quantlabs].loc[plot_one], -1, 1, linestyle='--', color='k')\n",
    "# # plt.xlim(obs_locs[plot_one][0]-5*sigma*(1+obs_locs[plot_one][0]), \n",
    "# #          obs_locs[plot_one][0]+5*sigma*(1+obs_locs[plot_one][0]))\n",
    "# plt.xlim(df['ZPHOT_Q000'].loc[plot_one].values[0]-0.01, df['ZPHOT_Q100'].loc[plot_one].values[0]+0.01)\n",
    "# plt.text(obs_locs[plot_one][0], 2, str(df['GALID'].loc[plot_one[0]]))\n",
    "# plt.xlabel('$z$')\n",
    "# plt.ylabel('$p(z)$')"
   ]
  },
  {
   "cell_type": "markdown",
   "id": "92eb4772-f72e-4f29-8d06-95411cfcfa64",
   "metadata": {},
   "source": [
    "plot histogram of first and last quantile, since these aren't really well-defined"
   ]
  },
  {
   "cell_type": "code",
   "execution_count": null,
   "id": "3e5ee47f-afb8-4e48-8ef4-9a968d610915",
   "metadata": {},
   "outputs": [],
   "source": [
    "fig, ax = plt.subplots(1, 2, figsize=(10, 5))\n",
    "ax[0].hist(df['ZPHOT_Q000'], bins=300)\n",
    "ax[0].set_xlabel('$z_{0\\%}$')\n",
    "ax[1].hist(df['ZPHOT_Q100'], bins=300)\n",
    "ax[1].set_xlabel('$z_{100\\%}$')"
   ]
  },
  {
   "cell_type": "markdown",
   "id": "7116231b-bc51-4253-8c3f-a911601fd6e2",
   "metadata": {},
   "source": [
    "also save $p(z_{median})$ and [inter-quartile range](https://en.wikipedia.org/wiki/Interquartile_range)\n",
    "\n",
    "unfortunately these are quite slow now!"
   ]
  },
  {
   "cell_type": "code",
   "execution_count": null,
   "id": "2c9fb203-82aa-42ec-8ff1-c64d9a2384f8",
   "metadata": {},
   "outputs": [],
   "source": [
    "df['IQR_ZPHOT'] = posterior.ppf(0.75) - posterior.ppf(0.25)"
   ]
  },
  {
   "cell_type": "code",
   "execution_count": null,
   "id": "e53d3a2d-e458-4349-83b7-09882b78e355",
   "metadata": {},
   "outputs": [],
   "source": [
    "df['P_ZPHOT'] = posterior.pdf(posterior.median())"
   ]
  },
  {
   "cell_type": "markdown",
   "id": "38febb70-5c76-403e-9e15-dc066b61e42c",
   "metadata": {},
   "source": [
    "save a file"
   ]
  },
  {
   "cell_type": "code",
   "execution_count": null,
   "id": "e5bc0c9e-cdf8-4f42-ba62-ae853d850bc6",
   "metadata": {},
   "outputs": [],
   "source": [
    "out_path = '/global/cfs/cdirs/lsst/groups/TD/SN/SNANA/SURVEYS/LSST/ROOT/PLASTICC_DEV/HOSTLIB/zquants/'+which_hl+'_dummy_pz.csv'\n",
    "df.to_csv(out_path, index=False, sep=' ')"
   ]
  },
  {
   "cell_type": "markdown",
   "id": "b29802d6-c978-4b1c-8f3e-ee456d74e38d",
   "metadata": {},
   "source": [
    "## reading in quantiles"
   ]
  },
  {
   "cell_type": "code",
   "execution_count": null,
   "id": "d5571d1d-8310-41cf-9cfe-3bc33e6eb1b3",
   "metadata": {},
   "outputs": [],
   "source": [
    "nhost = len(in_pdfs.objdata()['locs'])\n",
    "zgrid = np.logspace(-2.5, np.log10(3.), 250)\n",
    "to_plot = random.sample(range(nhost), 10)\n",
    "\n",
    "zgrid_lo = np.logspace(-3., np.log10(3.), 100)\n",
    "zgrid_hi = np.logspace(-3., np.log10(3.), 300)"
   ]
  },
  {
   "cell_type": "code",
   "execution_count": null,
   "id": "3783df79-17ac-43a2-a59d-c6504d337683",
   "metadata": {},
   "outputs": [],
   "source": [
    "quants = in_pdfs.metadata()['quants'][0]"
   ]
  },
  {
   "cell_type": "code",
   "execution_count": null,
   "id": "8405363d-af84-466e-98f8-62fbd6b04b52",
   "metadata": {},
   "outputs": [],
   "source": [
    "plot_one = 3"
   ]
  },
  {
   "cell_type": "code",
   "execution_count": null,
   "id": "4aa10a84-e226-43f3-8a35-67c1d2b4fded",
   "metadata": {},
   "outputs": [],
   "source": [
    "zq_vals = in_pdfs[plot_one].objdata()['locs'][0]"
   ]
  },
  {
   "cell_type": "code",
   "execution_count": null,
   "id": "42e50313-b0a0-423a-9ecb-2c1818a7fce3",
   "metadata": {},
   "outputs": [],
   "source": [
    "len(zq_vals)"
   ]
  },
  {
   "cell_type": "code",
   "execution_count": null,
   "id": "d55440de-f783-474e-b410-1fa12e16ed26",
   "metadata": {},
   "outputs": [],
   "source": [
    "len(quants)"
   ]
  },
  {
   "cell_type": "code",
   "execution_count": null,
   "id": "e9b9930b-a4e4-41dc-b2b9-c59774ed5d9a",
   "metadata": {},
   "outputs": [],
   "source": [
    "# evalled = in_pdfs.pdf(zgrid)\n",
    "# evalled_lo = in_pdfs.pdf(zgrid_lo)\n",
    "# evalled_hi = in_pdfs.pdf(zgrid_hi)"
   ]
  },
  {
   "cell_type": "code",
   "execution_count": null,
   "id": "bd60ac68-ff0e-413d-8e14-20c2d8e1131a",
   "metadata": {},
   "outputs": [],
   "source": [
    "# rando = 1\n",
    "# plt.title(str(in_pdfs.ancil['GALID'][rando]))\n",
    "# plt.vlines(in_pdfs.objdata()['locs'][rando], -1, 1, color='k', label='quantiles')\n",
    "# plt.plot(zgrid, evalled[rando], label='orig. grid')\n",
    "# plt.plot(zgrid_lo, evalled_lo[rando], label='lower-res grid')\n",
    "# plt.plot(zgrid_hi, evalled_hi[rando], label='higher-res grid')\n",
    "# plt.legend()\n",
    "# # plt.xlim(0, 1)"
   ]
  },
  {
   "cell_type": "markdown",
   "id": "d9c05c22-aa52-4620-a0ac-d1d586afc60a",
   "metadata": {
    "tags": []
   },
   "source": [
    "## reconstructing a pdf from quantiles\n",
    "\n",
    "read from a generic hostlib file"
   ]
  },
  {
   "cell_type": "code",
   "execution_count": null,
   "id": "0e1bfaa3-6e59-4351-962b-d42b5342649a",
   "metadata": {},
   "outputs": [],
   "source": [
    "# df = pd.read_csv(out_path, delimiter=' ', header=0)"
   ]
  },
  {
   "cell_type": "markdown",
   "id": "2a8ca48f-84e6-4ce8-9b0f-706f7f7c6b2d",
   "metadata": {},
   "source": [
    "pick one for demonstration"
   ]
  },
  {
   "cell_type": "code",
   "execution_count": null,
   "id": "8ef256ff-4f16-495a-858a-bdce66f81328",
   "metadata": {},
   "outputs": [],
   "source": [
    "# plot_one = random.sample(range(nhost), 1)[0]\n",
    "# zq_vals = df[quantlabs].loc[plot_one].values"
   ]
  },
  {
   "cell_type": "markdown",
   "id": "9355719f-c203-4620-8330-1c7cb5cc18ea",
   "metadata": {},
   "source": [
    "This is the reconstruction algorithm from [ye olde qp](https://github.com/aimalz/qp/blob/master/qp/pdf.py#L554).\n",
    "\n",
    "Note: The aforementioned code exhibits unexpected behavior in Python 3; \n",
    "you must (unfortunately) run it in Python 2 for consistency with [Malz & Marshall+ 2017](http://stacks.iop.org/1538-3881/156/i=1/a=35).\n",
    "\n",
    "Another note: You can save yourself one float by replacing the redshifts where $CDF=0$ and $CDF=1$ with $p(z_{q})$ for any of the saved quantiles $q$, at the cost of some inaccuracy in the tails."
   ]
  },
  {
   "cell_type": "code",
   "execution_count": null,
   "id": "30ca8fe7-38b3-425b-8394-5a8a27464d79",
   "metadata": {},
   "outputs": [],
   "source": [
    "# derivative = (quants[1:] - quants[:-1]) / (zq_vals[1:] - zq_vals[:-1])\n",
    "# derivative = np.insert(derivative, 0, 0.)\n",
    "# derivative = np.append(derivative, 0.)\n",
    "\n",
    "# def pdf_inside(zgrid):\n",
    "#     pdf = np.zeros_like(zgrid)\n",
    "#     for n in range(len(zgrid)):\n",
    "#         ind = bisect.bisect_left(zq_vals, zgrid[n])\n",
    "#         pdf[n] = derivative[ind]\n",
    "#     return(pdf)\n",
    "\n",
    "q = quants\n",
    "z = zq_vals\n",
    "\n",
    "derivative = (q[1:] - q[:-1]) / (z[1:] - z[:-1])\n",
    "derivative = np.insert(derivative, 0, eps)\n",
    "derivative = np.append(derivative, eps)\n",
    "def pdf_inside(xf):\n",
    "    nx = len(xf)\n",
    "    yf = np.ones(nx) * eps\n",
    "    for n in range(nx):\n",
    "        i = bisect.bisect_left(z, xf[n])\n",
    "        yf[n] = derivative[i]\n",
    "    return(yf)\n",
    "\n",
    "eval_pdf = pdf_inside(zgrid)"
   ]
  },
  {
   "cell_type": "markdown",
   "id": "0dd30573-b514-46af-979a-176a2bdda879",
   "metadata": {},
   "source": [
    "show difference between original and reconstruction"
   ]
  },
  {
   "cell_type": "code",
   "execution_count": null,
   "id": "57330b5a-522b-436d-822c-226670e00609",
   "metadata": {},
   "outputs": [],
   "source": [
    "# plt.plot(zgrid, sps.truncnorm(a=pos_min[plot_one][0], b=pos_max[plot_one][0], \n",
    "#                               loc=obs_locs[plot_one][0], scale=sigma*(1+obs_locs[plot_one][0])).pdf(zgrid),\n",
    "#                               label='original PDF')\n",
    "# plt.vlines(df[quantlabs].loc[plot_one], -1, 1, linestyle='--')\n",
    "plt.vlines(zq_vals, -1, 1, linestyle='--')\n",
    "# plt.xlim(zq_vals[0] - 0.01, zq_vals[-1] + 0.01)\n",
    "plt.plot(zgrid, eval_pdf, label='reconstructed from '+str(len(quants))+' quantiles')\n",
    "# plt.text(obs_locs[plot_one][0], 2, str(df['GALID'].loc[plot_one]))\n",
    "plt.legend(loc='upper right')\n",
    "plt.xlabel('$z$')\n",
    "plt.ylabel('$p(z)$')"
   ]
  },
  {
   "cell_type": "markdown",
   "id": "b857f242-2967-4f25-a89e-6671d34a54d8",
   "metadata": {},
   "source": [
    "## Troubleshooting"
   ]
  },
  {
   "cell_type": "code",
   "execution_count": null,
   "id": "ad05eca2-687d-4ae8-8baa-91164d709633",
   "metadata": {},
   "outputs": [],
   "source": [
    "hl_df = df_subset.rename(columns={'ZTRUE':'redshift',\n",
    "                           'Y_obs':'y', \n",
    "                           'r_obs':'r', \n",
    "                           'u_obs':'u', \n",
    "                           'g_obs':'g', \n",
    "                           'z_obs':'z', \n",
    "                           'i_obs':'i',#})[['redshift','u', 'g', 'r', 'i', 'z', 'y']]\n",
    "                            'Y_obs_err':'y_err', \n",
    "                           'r_obs_err':'r_err', \n",
    "                           'u_obs_err':'u_err', \n",
    "                           'g_obs_err':'g_err', \n",
    "                           'z_obs_err':'z_err', \n",
    "                           'i_obs_err':'i_err'})[['redshift', \n",
    "                                                  'u', 'g', 'r', 'i', 'z', 'y', \n",
    "                                                  'u_err', 'g_err', 'r_err', 'i_err', 'z_err', 'y_err']]\n",
    "\n",
    "quantities = hl_df.columns\n",
    "\n",
    "hl_df_colors = hl_df.copy()[['redshift', 'r', 'r_err']]\n",
    "for i in range(len(quantities)-2-6):\n",
    "    hl_df_colors[quantities[i+1]+'-'+quantities[i+2]] = hl_df[quantities[i+1]] - hl_df[quantities[i+2]]\n",
    "    hl_df_colors[quantities[i+1]+'-'+quantities[i+2]+'_err'] = np.sqrt(hl_df[quantities[6+i+1]]**2 + hl_df[quantities[6+i+2]]**2)\n",
    "print(hl_df_colors.columns)\n",
    "\n",
    "# hl_df = hl_df_colors[['redshift', 'u-g', 'g-r', 'r-i', 'i-z', 'z-y', 'r', 'u-g_err', 'g-r_err', 'r-i_err', 'i-z_err', 'z-y_err', 'r_err']][:nhost]"
   ]
  },
  {
   "cell_type": "code",
   "execution_count": null,
   "id": "c1b09b15-c3b5-4a32-bd00-388183dc691e",
   "metadata": {},
   "outputs": [],
   "source": [
    "flow = Flow(file='../data_files/model_photo-zs_uniform_splbin64_epoch100_flow.pkl')\n",
    "# this path will not change any time soon\n",
    "flow.latent = Uniform((-5, 5), (-5, 5), (-5, 5), (-5, 5), (-5, 5), (-5, 5), (-5, 5))"
   ]
  },
  {
   "cell_type": "code",
   "execution_count": null,
   "id": "3fe78630-b81d-44c1-8e04-039246014bbd",
   "metadata": {},
   "outputs": [],
   "source": [
    "# hl_df_colors.iloc[is_outlier[0]]"
   ]
  },
  {
   "cell_type": "code",
   "execution_count": null,
   "id": "cb7e65ef-1091-48ca-8dae-0f611849004d",
   "metadata": {},
   "outputs": [],
   "source": [
    "flow_z = flow.posterior(hl_df_colors.iloc[is_broken[:10]],#[['u-g', 'g-r', 'r-i', 'i-z', 'z-y', 'r']], \n",
    "                            column='redshift', grid=zgrid, err_samples=1000)#, batch_size=min(batch_size, len(hl_subset)))"
   ]
  },
  {
   "cell_type": "code",
   "execution_count": null,
   "id": "95057d27-c43d-4356-8664-928dca3f8738",
   "metadata": {},
   "outputs": [],
   "source": [
    "hl_df_colors.iloc[is_broken[:10]]"
   ]
  },
  {
   "cell_type": "code",
   "execution_count": null,
   "id": "46f7d0ed-bede-418f-aa4d-3911cd9d2927",
   "metadata": {},
   "outputs": [],
   "source": [
    "df.iloc[is_broken[:10]]"
   ]
  },
  {
   "cell_type": "code",
   "execution_count": null,
   "id": "8bd47cad-70ec-4b65-8859-49e0a5541007",
   "metadata": {},
   "outputs": [],
   "source": [
    "for i in [2]:\n",
    "    # flow_z = flow.posterior(hl_df_colors.iloc[i],#[['u-g', 'g-r', 'r-i', 'i-z', 'z-y', 'r']], \n",
    "    #                         column='redshift', grid=zgrid, err_samples=100)\n",
    "    plt.figure(size=(5,5))\n",
    "    plt.plot(zgrid, flow_z[i], label=df_subset['GALID'].iloc[i])\n",
    "# for i in range(10):\n",
    "    plt.vlines(df_subset['ZTRUE'].iloc[is_outlier[i]], -1., 100, color='k')\n",
    "    plt.vlines(medians[is_outlier[i]], -1., 100, color='r')\n",
    "    plt.legend()\n",
    "    plt.close()"
   ]
  },
  {
   "cell_type": "markdown",
   "id": "a0b8556c-3016-4e2e-b57b-1dced0b476e3",
   "metadata": {
    "tags": []
   },
   "source": [
    "## SCRATCH: scaling calculations"
   ]
  },
  {
   "cell_type": "code",
   "execution_count": null,
   "id": "66b38f7d-e6c1-47a7-8718-1543f4cf808a",
   "metadata": {},
   "outputs": [],
   "source": [
    "#which_hl, nhost, ncompleted, nremain, nredo\n",
    "scaling = {'SNIa': (2141261, 871000, 1270261, 424984),\n",
    "                 'SNII': (2449022, 76600, 2372422, 36194),\n",
    "                 'SNIbc': (3354141, 0, 3354141, 0),\n",
    "                 'UNMATCHED_KN_SHIFT': (1907364, 835800, 1071564, 443893),\n",
    "                 'UNMATCHED_COSMODC2': (1907364, 537300, 1370064, 285367)}"
   ]
  },
  {
   "cell_type": "code",
   "execution_count": null,
   "id": "9ed19c19-21df-431b-ad40-23bcf9e5aa91",
   "metadata": {},
   "outputs": [],
   "source": [
    "# redoing bad magnitude errors\n",
    "\n",
    "for key in scaling.keys():\n",
    "    print(f'{key} needs to redo {scaling220622[key][3]}')\n",
    "    print(f'in {math.ceil(scaling220622[key][3] / 50)} sub-batches of 50')\n",
    "    print(f'so {math.ceil(scaling220622[key][3] / 50)*0.5/60.}hours at 30s per sub-batch')\n",
    "    print(f'so {math.ceil(scaling220622[key][3] / 50)*0.5/60./32}hours per job')"
   ]
  },
  {
   "cell_type": "code",
   "execution_count": null,
   "id": "d4a0fdc0-0318-4f9e-a33a-a2511943128f",
   "metadata": {},
   "outputs": [],
   "source": [
    "# not yet done\n",
    "\n",
    "for key in scaling220622.keys():\n",
    "    print(f'{key} still needs to do {scaling220622[key][2]}')\n",
    "    print(f'in {math.ceil(scaling220622[key][0] / 50)} sub-batches of 50')\n",
    "    # print(f'so {math.ceil(scaling220622[key][2] / 50)*0.5/60.} hours at 30s per sub-batch')\n",
    "    print(f'so {math.ceil(scaling220622[key][0] / 50)*0.5/60./64} hours per job')"
   ]
  },
  {
   "cell_type": "code",
   "execution_count": null,
   "id": "b90e817d-7e7b-4bbd-848e-45adf89fa639",
   "metadata": {},
   "outputs": [],
   "source": [
    "hl_heads = {'SNIa': (10, 2141291), # 2.75 hours\n",
    "            'SNII': (19, 2449022), # 3.25 hours\n",
    "            'SNIbc': (19, 3354171), # 4.25 hours\n",
    "            'UNMATCHED_KN_SHIFT': (19, 1907394), #2.5 hours\n",
    "            'UNMATCHED_COSMODC2': (18, 1907393)} # 2.5 hours\n",
    "# for key in hl_heads.keys():\n",
    "    # testpath = '/global/cfs/cdirs/lsst/groups/TD/SN/SNANA/SURVEYS/LSST/ROOT/PLASTICC_DEV/HOSTLIB/magerr/debug/'+key+'_BADMAGS.gz'\n",
    "    # print((key, str(math.ceil(hl_heads[key][1]/(25*100)/32)), \"number of 30-minute batches per core\"))"
   ]
  },
  {
   "cell_type": "code",
   "execution_count": null,
   "id": "1d58863a-201b-46e1-bc86-332018d71cc8",
   "metadata": {},
   "outputs": [],
   "source": [
    "lengths = {}\n",
    "for which_hl in hl_heads.keys():\n",
    "    # if which_hl != 'SNIbc':\n",
    "    print((which_hl, os.path.getsize('/global/cfs/cdirs/lsst/groups/TD/SN/SNANA/SURVEYS/LSST/ROOT/PLASTICC_DEV/HOSTLIB/magerr/'+which_hl+'_GHOST.HOSTLIB.gz')/(1024**3)))\n",
    "    hl_path = '/global/cfs/cdirs/lsst/groups/TD/SN/SNANA/SURVEYS/LSST/ROOT/PLASTICC_DEV/HOSTLIB/magerr/'+which_hl+'_GHOST.HOSTLIB.gz'\n",
    "        # hl_path = '/global/cfs/cdirs/lsst/groups/TD/SN/SNANA/SURVEYS/LSST/ROOT/PLASTICC_DEV/HOSTLIB/magerr/debug/'+which_hl+'_GHOST.HOSTLIB_BADMAGS.gz'\n",
    "    hl_head = int(subprocess.check_output(f\"zcat {hl_path} | cat -n | sed -n '/VARNAMES/ {{ p; q }}'  | awk '{{print $1-1}}'\", shell=True))\n",
    "    df = pd.read_csv(hl_path, skiprows=hl_head, delimiter=' ', header=0)\n",
    "    lengths[which_hl] = len(df)\n",
    "    print(len(df))"
   ]
  },
  {
   "cell_type": "code",
   "execution_count": null,
   "id": "185534e7-687b-499f-beca-aa71c57741ef",
   "metadata": {},
   "outputs": [],
   "source": []
  }
 ],
 "metadata": {
  "kernelspec": {
   "display_name": "ELAsTiCC",
   "language": "python",
   "name": "ve3_elasticc"
  },
  "language_info": {
   "codemirror_mode": {
    "name": "ipython",
    "version": 3
   },
   "file_extension": ".py",
   "mimetype": "text/x-python",
   "name": "python",
   "nbconvert_exporter": "python",
   "pygments_lexer": "ipython3",
   "version": "3.9.5"
  }
 },
 "nbformat": 4,
 "nbformat_minor": 5
}
