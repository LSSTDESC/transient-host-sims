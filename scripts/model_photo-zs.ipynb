{
 "cells": [
  {
   "cell_type": "markdown",
   "id": "fbed7dc6-d8c4-4076-a2ba-9aa4125e230c",
   "metadata": {},
   "source": [
    "# modeling true $p(z | photometry)$ for ELAsTiCC\n",
    "\n",
    "_Alex Malz (GCCL@RUB)_"
   ]
  },
  {
   "cell_type": "code",
   "execution_count": null,
   "id": "b6844fcf-3c0c-4311-bd97-f38efbe076a9",
   "metadata": {},
   "outputs": [],
   "source": [
    "import pzflow\n",
    "from pzflow import Flow\n",
    "from pzflow.bijectors import Chain, ColorTransform, InvSoftplus, StandardScaler, RollingSplineCoupling, ShiftBounds\n",
    "from pzflow.distributions import Uniform, Joint, Normal"
   ]
  },
  {
   "cell_type": "code",
   "execution_count": null,
   "id": "5eb1bc95-5728-46ee-9ac2-c3deac4d7742",
   "metadata": {},
   "outputs": [],
   "source": [
    "import matplotlib.pyplot as plt\n",
    "import numpy as np\n",
    "import pandas as pd"
   ]
  },
  {
   "cell_type": "markdown",
   "id": "6cedf85b-7339-4484-b38e-77498917cc77",
   "metadata": {},
   "source": [
    "read in the normalizing flow made by `transient-host-sims/scripts/condition_pzflow.py`"
   ]
  },
  {
   "cell_type": "code",
   "execution_count": null,
   "id": "a8ec50f3-dc21-45af-aa81-e123ed2d6ba6",
   "metadata": {},
   "outputs": [],
   "source": [
    "flow = Flow(file='../data_files/pzflow_dc2small_nofilter_div1000.pkl')"
   ]
  },
  {
   "cell_type": "code",
   "execution_count": null,
   "id": "6bcf7c8b-d4a3-4cb7-aa83-fd01dba9f6cc",
   "metadata": {},
   "outputs": [],
   "source": [
    "flow.data_columns"
   ]
  },
  {
   "cell_type": "code",
   "execution_count": null,
   "id": "13e198ca-82f2-495a-9a30-b80d08542c9b",
   "metadata": {},
   "outputs": [],
   "source": [
    "flow.conditional_columns"
   ]
  },
  {
   "cell_type": "code",
   "execution_count": null,
   "id": "72097f3e-e981-49e0-9118-5824dbd9b9b6",
   "metadata": {},
   "outputs": [],
   "source": [
    "flow.info"
   ]
  },
  {
   "cell_type": "code",
   "execution_count": null,
   "id": "be5676d8-73e4-4373-a8d8-288f31e89fa1",
   "metadata": {},
   "outputs": [],
   "source": [
    "flow.latent"
   ]
  },
  {
   "cell_type": "markdown",
   "id": "8c156cd0-69fa-4069-ab7b-9c1e71277fde",
   "metadata": {
    "tags": []
   },
   "source": [
    "pick one hostlib for now, loop through later\n",
    "\n",
    "retrieve the conditional columns from hostlibs"
   ]
  },
  {
   "cell_type": "code",
   "execution_count": null,
   "id": "a23a175c-bd3e-4a6a-9bb7-86ec1742a71c",
   "metadata": {},
   "outputs": [],
   "source": [
    "hl_path = '/global/cfs/cdirs/lsst/groups/SN/snana/SURVEYS/LSST/ROOT/PLASTICC_DEV/HOSTLIB/TEMP_HOSTLIBS/SNIa_GHOST_PHOTOZ.HOSTLIB'\n",
    "# skip 26lines\n",
    "df = pd.read_csv(hl_path, skiprows=25, delimiter=' ', header=0)"
   ]
  },
  {
   "cell_type": "code",
   "execution_count": null,
   "id": "773cb5f2-95af-4320-b4b5-cc0597f46936",
   "metadata": {},
   "outputs": [],
   "source": [
    "df.columns"
   ]
  },
  {
   "cell_type": "markdown",
   "id": "75ca634a-1e43-496f-a548-9b47827836b5",
   "metadata": {},
   "source": [
    "define redshift grid for pre-compression posterior evaluation"
   ]
  },
  {
   "cell_type": "code",
   "execution_count": null,
   "id": "fd0c8661-72c1-4aca-8b63-e1ca4ac29dd6",
   "metadata": {},
   "outputs": [],
   "source": [
    "zgrid = np.logspace(-3., np.log10(3.), 300)\n",
    "plt.hist(df['ZTRUE'], bins=zgrid);"
   ]
  },
  {
   "cell_type": "markdown",
   "id": "c9ef2770-626a-4c5a-9d2a-bbfdc4e2b4eb",
   "metadata": {},
   "source": [
    "rename for pzflow"
   ]
  },
  {
   "cell_type": "code",
   "execution_count": null,
   "id": "8ae15385-1546-42a1-b454-70da6dfe8218",
   "metadata": {},
   "outputs": [],
   "source": [
    "flow_df = df.rename(columns={'Y_obs':'mag_true_y_lsst', \n",
    "                   'r_obs':'mag_true_r_lsst', \n",
    "                   'u_obs':'mag_true_u_lsst', \n",
    "                   'g_obs':'mag_true_g_lsst', \n",
    "                   'z_obs':'mag_true_z_lsst', \n",
    "                   'i_obs':'mag_true_i_lsst', \n",
    "                   'LOG_SFR':'logSFRtot', \n",
    "                   'LOGMASS':'logmass'})"
   ]
  },
  {
   "cell_type": "code",
   "execution_count": null,
   "id": "aa40f900-02f0-4d67-afc4-71e57651386e",
   "metadata": {},
   "outputs": [],
   "source": [
    "flow_df.columns"
   ]
  },
  {
   "cell_type": "markdown",
   "id": "004d8953-5a9c-4f3b-90fe-886dc12dfdad",
   "metadata": {},
   "source": [
    "renormalize\n",
    "\n",
    "Note DC2 SFRs are Msol/Gyr but hostlibs are log10 Msol/yr"
   ]
  },
  {
   "cell_type": "code",
   "execution_count": null,
   "id": "52ccc8df-4cb2-441e-a145-302a205df371",
   "metadata": {},
   "outputs": [],
   "source": [
    "properties = {}\n",
    "properties['logmass'] = ( 6.6518884, 0.96087)\n",
    "properties['logSFRtot'] = ( 6.24535, 1.6989895)\n",
    "properties['mag_true_u_lsst'] = ( 30.86386, 3.0129747)\n",
    "properties['mag_true_g_lsst'] = ( 29.790226, 2.088292)\n",
    "properties['mag_true_r_lsst'] = ( 29.342756, 1.87558)\n",
    "properties['mag_true_i_lsst'] = ( 29.0863, 1.9085665)\n",
    "properties['mag_true_z_lsst'] = ( 28.870272, 1.9486268)\n",
    "properties['mag_true_y_lsst'] = ( 28.658136, 1.9420407)"
   ]
  },
  {
   "cell_type": "code",
   "execution_count": null,
   "id": "6caa82fb-0c20-424c-b6a3-a34ea054b770",
   "metadata": {},
   "outputs": [],
   "source": [
    "data = flow_df.copy()\n",
    "for quality in ['logmass', 'logSFRtot', 'mag_true_u_lsst', 'mag_true_g_lsst', 'mag_true_r_lsst', 'mag_true_i_lsst', 'mag_true_z_lsst', 'mag_true_y_lsst']:\n",
    "    plt.hist(data[quality], bins=100)\n",
    "    plt.title(quality+' pre-normalization')\n",
    "    plt.show()"
   ]
  },
  {
   "cell_type": "code",
   "execution_count": null,
   "id": "b234fed9-4375-4bd9-b544-0444dfcc88e9",
   "metadata": {},
   "outputs": [],
   "source": [
    "data_scaled = data.copy()\n",
    "for quality in ['logmass', 'logSFRtot', 'mag_true_u_lsst', 'mag_true_g_lsst', 'mag_true_r_lsst', 'mag_true_i_lsst', 'mag_true_z_lsst', 'mag_true_y_lsst']:\n",
    "    data_scaled[quality] = (data[quality]-properties[quality][0])/properties[quality][1]"
   ]
  },
  {
   "cell_type": "code",
   "execution_count": null,
   "id": "ce9f7f82-4daa-43bf-add0-002f4c503abc",
   "metadata": {},
   "outputs": [],
   "source": [
    "for quality in ['logmass', 'logSFRtot', 'mag_true_u_lsst', 'mag_true_g_lsst', 'mag_true_r_lsst', 'mag_true_i_lsst', 'mag_true_z_lsst', 'mag_true_y_lsst']:\n",
    "    plt.hist(data_scaled[quality], bins=100)\n",
    "    plt.title(quality+' post-normalization')\n",
    "    plt.show()"
   ]
  },
  {
   "cell_type": "markdown",
   "id": "90647dfb-ee6e-4f02-9cc3-d52824808d65",
   "metadata": {},
   "source": [
    "evaluate the posteriors"
   ]
  },
  {
   "cell_type": "code",
   "execution_count": null,
   "id": "90a8335b-bac2-4005-be93-29665b23abef",
   "metadata": {},
   "outputs": [],
   "source": [
    "uncompressed = flow.posterior(inputs=data_scaled[['mag_true_y_lsst',\n",
    " 'mag_true_r_lsst',\n",
    " 'mag_true_u_lsst',\n",
    " 'mag_true_g_lsst',\n",
    " 'mag_true_z_lsst',\n",
    " 'mag_true_i_lsst',\n",
    " 'logSFRtot',\n",
    " 'logmass']][:100], column='redshift', grid=zgrid)"
   ]
  },
  {
   "cell_type": "code",
   "execution_count": null,
   "id": "e5401564-91d8-44cd-b88a-5b84b74f2337",
   "metadata": {},
   "outputs": [],
   "source": [
    "cmap = plt.get_cmap('tab10')\n",
    "maxpdfs = 5\n",
    "for i in range(maxpdfs):\n",
    "    plt.plot(zgrid, uncompressed[i], color=cmap(i/maxpdfs))\n",
    "    plt.vlines(df['ZTRUE'][i], 0., max(z_pdfs[i]), color=cmap(i/maxpdfs))\n",
    "plt.xlabel(r'$z$')\n",
    "plt.ylabel(r'$p(z)$')\n",
    "plt.semilogx()\n",
    "plt.show()\n",
    "for i in range(maxpdfs):\n",
    "    plt.plot(zgrid, uncompressed[i], color=cmap(i/maxpdfs))\n",
    "    plt.vlines(df['ZTRUE'][i], 0., max(z_pdfs[i]), color=cmap(i/maxpdfs))\n",
    "plt.xlabel(r'$z$')\n",
    "plt.ylabel(r'$p(z)$')"
   ]
  },
  {
   "cell_type": "markdown",
   "id": "ed659f2d-1286-4f43-86d5-5f89eae7d8ac",
   "metadata": {},
   "source": [
    "why are the true posteriors so crazy compared to the true redshifts? maybe because of rescaling over all dimensions for the flow?"
   ]
  },
  {
   "cell_type": "code",
   "execution_count": null,
   "id": "c52197f6-9678-481e-a853-a5c97fe51fb6",
   "metadata": {},
   "outputs": [],
   "source": [
    "# zs = uncompressed * df['ZTRUE'].std() + df['ZTRUE'].mean()\n",
    "# for quality in ['logmass', 'logSFRtot', 'mag_true_u_lsst', 'mag_true_g_lsst', 'mag_true_r_lsst', 'mag_true_i_lsst', 'mag_true_z_lsst', 'mag_true_y_lsst']:\n",
    "#     data_scaled[quality] = (data[quality]-data[quality].mean())/data[quality].std()"
   ]
  },
  {
   "cell_type": "markdown",
   "id": "09811fe6-6d01-4c4e-a2f3-412abd088db0",
   "metadata": {},
   "source": [
    "# scratch below here"
   ]
  },
  {
   "cell_type": "code",
   "execution_count": null,
   "id": "b660e70b-0317-4f43-b1fc-bb9d63ac1bee",
   "metadata": {},
   "outputs": [],
   "source": [
    "data_scaled[['mag_true_y_lsst',\n",
    " 'mag_true_r_lsst',\n",
    " 'mag_true_u_lsst',\n",
    " 'mag_true_g_lsst',\n",
    " 'mag_true_z_lsst',\n",
    " 'mag_true_i_lsst',\n",
    " 'logSFRtot',\n",
    " 'logmass']]"
   ]
  },
  {
   "cell_type": "code",
   "execution_count": null,
   "id": "0cb5708a-3bce-4301-a961-d688f95e8e9c",
   "metadata": {},
   "outputs": [],
   "source": [
    "test_samps = flow.sample(1, data_scaled[['mag_true_y_lsst',\n",
    " 'mag_true_r_lsst',\n",
    " 'mag_true_u_lsst',\n",
    " 'mag_true_g_lsst',\n",
    " 'mag_true_z_lsst',\n",
    " 'mag_true_i_lsst',\n",
    " 'logSFRtot',\n",
    " 'logmass']][:100])"
   ]
  },
  {
   "cell_type": "code",
   "execution_count": null,
   "id": "63efd3e3-a67a-4929-b84b-0e7ce2f57a2b",
   "metadata": {},
   "outputs": [],
   "source": [
    "test_samps"
   ]
  },
  {
   "cell_type": "code",
   "execution_count": null,
   "id": "5485391a-ea17-4eca-9a84-b4edf333b32a",
   "metadata": {},
   "outputs": [],
   "source": [
    "plt.hist(test_samps['redshift'] - flow_df['ZTRUE'][:100])"
   ]
  },
  {
   "cell_type": "markdown",
   "id": "c8166111-ff99-4150-a677-7ed1da0a3214",
   "metadata": {},
   "source": [
    "something has gone wrong here!"
   ]
  },
  {
   "cell_type": "markdown",
   "id": "c4d522b8-ec50-49c6-9650-57a825d64471",
   "metadata": {},
   "source": [
    "next steps: read into qp, convert to quantiles, save in file (or put into hostlib?)"
   ]
  }
 ],
 "metadata": {
  "kernelspec": {
   "display_name": "ELAsTiCC",
   "language": "python",
   "name": "ve3_elasticc"
  },
  "language_info": {
   "codemirror_mode": {
    "name": "ipython",
    "version": 3
   },
   "file_extension": ".py",
   "mimetype": "text/x-python",
   "name": "python",
   "nbconvert_exporter": "python",
   "pygments_lexer": "ipython3",
   "version": "3.9.5"
  }
 },
 "nbformat": 4,
 "nbformat_minor": 5
}
