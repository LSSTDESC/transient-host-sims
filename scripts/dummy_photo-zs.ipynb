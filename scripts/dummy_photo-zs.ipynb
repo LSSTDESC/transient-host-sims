{
 "cells": [
  {
   "cell_type": "markdown",
   "id": "fbed7dc6-d8c4-4076-a2ba-9aa4125e230c",
   "metadata": {
    "tags": []
   },
   "source": [
    "# producing and validating $p(z | photometry)$ for ELAsTiCC\n",
    "\n",
    "_Alex Malz (~~GCCL@RUB~~LINCC@CMU)_\n",
    "\n",
    "The goal here is to generate mock photo-$z$ posteriors for host galaxies. \n",
    "These ones will be Gaussian -- self-consistent, but not realistically complex."
   ]
  },
  {
   "cell_type": "code",
   "execution_count": null,
   "id": "5eb1bc95-5728-46ee-9ac2-c3deac4d7742",
   "metadata": {},
   "outputs": [],
   "source": [
    "import bisect\n",
    "import matplotlib as mpl\n",
    "import matplotlib.pyplot as plt\n",
    "import numpy as np\n",
    "import os\n",
    "import pandas as pd\n",
    "import random\n",
    "random.seed = 42\n",
    "import scipy.stats as sps\n",
    "import subprocess\n",
    "import sys\n",
    "eps = sys.float_info.epsilon"
   ]
  },
  {
   "cell_type": "markdown",
   "id": "cf8fac49-ef95-432a-a4bb-5c1d1b8ee9dd",
   "metadata": {},
   "source": [
    "## the hostlibs"
   ]
  },
  {
   "cell_type": "code",
   "execution_count": null,
   "id": "9554e5d5-dbac-4620-b1f1-9dab56ed708f",
   "metadata": {},
   "outputs": [],
   "source": [
    "hl_heads = {'SNIa': None,\n",
    "            'SNII': None, \n",
    "            'SNIbc': None, \n",
    "            'UNMATCHED_KN_SHIFT': None,\n",
    "            'UNMATCHED_COSMODC2': None}"
   ]
  },
  {
   "cell_type": "markdown",
   "id": "8c156cd0-69fa-4069-ab7b-9c1e71277fde",
   "metadata": {
    "tags": []
   },
   "source": [
    "let's pick one hostlib for now."
   ]
  },
  {
   "cell_type": "code",
   "execution_count": null,
   "id": "3dc23239-6d7a-48fa-9ee9-c037d06623fc",
   "metadata": {},
   "outputs": [],
   "source": [
    "pick_one = 4\n",
    "which_hl = list(hl_heads.keys())[pick_one]\n",
    "in_path = '/global/cfs/cdirs/lsst/groups/TD/SN/SNANA/SURVEYS/LSST/ROOT/PLASTICC_DEV/HOSTLIB/'+which_hl+'_GHOST.HOSTLIB.gz'\n",
    "hl_head = int(subprocess.check_output(f\"zcat {in_path} | cat -n | sed -n '/VARNAMES/ {{ p; q }}'  | awk '{{print $1-1}}'\", shell=True))"
   ]
  },
  {
   "cell_type": "markdown",
   "id": "0f39fa30-fa95-4799-9982-1baaaf4d4b71",
   "metadata": {},
   "source": [
    "this is somewhat slow because the files are ~GB"
   ]
  },
  {
   "cell_type": "code",
   "execution_count": null,
   "id": "a23a175c-bd3e-4a6a-9bb7-86ec1742a71c",
   "metadata": {},
   "outputs": [],
   "source": [
    "df = pd.read_csv(in_path, skiprows=hl_head, delimiter=' ', header=1)\n",
    "# df.set_index('GALID')\n",
    "nhost = len(df)\n",
    "# nhost = 100\n",
    "# df = df[:nhost]"
   ]
  },
  {
   "cell_type": "markdown",
   "id": "b2109307-8029-4043-97cd-e0e1b91d9f25",
   "metadata": {},
   "source": [
    "## forecasting-level photo-z PDFs\n",
    "\n",
    "using the values from the DESC SRD"
   ]
  },
  {
   "cell_type": "markdown",
   "id": "1ae214ca-3a6c-4e21-853c-8629a4d26917",
   "metadata": {},
   "source": [
    "### first create likelihood $p(z_{obs} | z_{true})$\n",
    "\n",
    "using values from [DESC SRD](https://arxiv.org/abs/1809.01669)"
   ]
  },
  {
   "cell_type": "code",
   "execution_count": null,
   "id": "409114b3-0507-4261-9cb0-94038bb8ab03",
   "metadata": {},
   "outputs": [],
   "source": [
    "sigma = 0.02"
   ]
  },
  {
   "cell_type": "code",
   "execution_count": null,
   "id": "74f0a905-5e1a-4f2b-a936-be559339d745",
   "metadata": {},
   "outputs": [],
   "source": [
    "true_locs = df['ZTRUE'].values.reshape((nhost, 1))"
   ]
  },
  {
   "cell_type": "markdown",
   "id": "ed5ffe74-b5ce-4087-a02f-c992894a96ef",
   "metadata": {},
   "source": [
    "stupid transform because `scipy.stats.truncnorm` assumes input endpoints are given for standard normal and _then_ rescales them to provided mean and standard deviation"
   ]
  },
  {
   "cell_type": "code",
   "execution_count": null,
   "id": "80ed247f-f789-4e9e-a1bf-d5ad9376ed84",
   "metadata": {},
   "outputs": [],
   "source": [
    "lik_min = (0. - true_locs) / (sigma * (1. + true_locs))\n",
    "lik_max = (3. - true_locs) / (sigma * (1. + true_locs))\n",
    "# lik_min = (0-true_locs) / (sigma * (1. + true_locs))\n",
    "# lik_max = (3-true_locs) / (sigma * (1. + true_locs))"
   ]
  },
  {
   "cell_type": "code",
   "execution_count": null,
   "id": "65696ca9-929e-4517-a1a4-7dfa1e1d9b0a",
   "metadata": {},
   "outputs": [],
   "source": [
    "likelihood = sps.truncnorm(a=lik_min, b=lik_max, loc=true_locs, scale=sigma*(1.+true_locs))\n",
    "# pseudo_likelihood = sps.truncnorm(a=lik_min, b=lik_max, loc=0., scale=1.)"
   ]
  },
  {
   "cell_type": "markdown",
   "id": "37c613cd-795a-4032-af6f-1b20ed1963cd",
   "metadata": {},
   "source": [
    "### then draw point estimate $z_{obs} \\sim p(z_{obs} | z_{true})$\n",
    "\n",
    "warning: this is slow because the endpoints are different -- stupid scipy defaults!"
   ]
  },
  {
   "cell_type": "code",
   "execution_count": null,
   "id": "f9ba771e-3951-490d-a4c8-5e5034d4bc69",
   "metadata": {},
   "outputs": [],
   "source": [
    "# pseudo_obs = pseudo_likelihood.rvs(random_state=42)\n",
    "# obs_locs = pseudo_obs * (sigma * (1. + true_locs)) + true_locs\n",
    "obs_locs = likelihood.rvs(random_state=42)"
   ]
  },
  {
   "cell_type": "markdown",
   "id": "4936c06e-c17d-4aeb-8cfe-a487858b035c",
   "metadata": {},
   "source": [
    "check that these make sense"
   ]
  },
  {
   "cell_type": "code",
   "execution_count": null,
   "id": "2ebc80f1-0286-434a-9875-014edd748aec",
   "metadata": {},
   "outputs": [],
   "source": [
    "plt.scatter(true_locs, obs_locs, s=0.1, alpha=0.1)\n",
    "plt.xlabel('$z_{true}$')\n",
    "plt.ylabel('$z_{obs}$')\n",
    "plt.plot([0., 3.], [0., 3.], c='k')"
   ]
  },
  {
   "cell_type": "markdown",
   "id": "4cf1755b-d958-4b36-a75b-c3ca3f994a75",
   "metadata": {},
   "source": [
    "### then make posterior $p(z_{true} | z_{obs})$\n",
    "\n",
    "this is what photo-z PDF estimators actually produce\n",
    "\n",
    "sadly have to do the stupid scipy rescaling again"
   ]
  },
  {
   "cell_type": "code",
   "execution_count": null,
   "id": "295291f1-8305-4c51-b906-c0a8e10fad80",
   "metadata": {},
   "outputs": [],
   "source": [
    "pos_min = (0. - obs_locs) / (sigma * (1. + obs_locs))\n",
    "pos_max = (3. - obs_locs) / (sigma * (1. + obs_locs))"
   ]
  },
  {
   "cell_type": "code",
   "execution_count": null,
   "id": "631c5f16-1271-49d8-a428-7597b9a1d588",
   "metadata": {},
   "outputs": [],
   "source": [
    "posterior = sps.truncnorm(a=pos_min, b=pos_max, loc=obs_locs, scale=sigma*(1.+obs_locs))"
   ]
  },
  {
   "cell_type": "markdown",
   "id": "cd2c3db7-4581-409c-aa04-d5e9fb79ac74",
   "metadata": {},
   "source": [
    "plot a few examples"
   ]
  },
  {
   "cell_type": "code",
   "execution_count": null,
   "id": "2db13642-04b2-4c64-82a4-8385cae20e8c",
   "metadata": {},
   "outputs": [],
   "source": [
    "zgrid = np.logspace(-3., np.log10(3.), 300)\n",
    "to_plot = random.sample(range(nhost), 10)"
   ]
  },
  {
   "cell_type": "code",
   "execution_count": null,
   "id": "cc6f0072-3bea-410c-adf0-b894fd432532",
   "metadata": {
    "scrolled": true,
    "tags": []
   },
   "outputs": [],
   "source": [
    "fig, ax = plt.subplots(10, 1, figsize=(5, 20))\n",
    "for i, galind in enumerate(to_plot):\n",
    "    example = sps.truncnorm(a=pos_min[galind][0], b=pos_max[galind][0], \n",
    "                            loc=obs_locs[galind][0], scale=sigma*(1+obs_locs[galind][0])).pdf(zgrid)\n",
    "    ax[i].plot(zgrid, example)\n",
    "    ax[i].vlines(true_locs[galind][0], 0, max(example), color='k', linewidth=.75)\n",
    "    ax[i].vlines(obs_locs[galind][0], 0, max(example), color='r', linewidth=.75)\n",
    "    ax[i].set_ylim(0, 15)\n",
    "    ax[i].text(2, 10, str(df['GALID'].loc[i]))\n",
    "    ax[i].set_ylabel('$p(z)$')\n",
    "    if i == len(to_plot)-1:\n",
    "        ax[i].set_xlabel('$z$')\n",
    "    else:\n",
    "        ax[i].set_xticklabels([])\n",
    "fig.subplots_adjust(wspace=0, hspace=0)"
   ]
  },
  {
   "cell_type": "markdown",
   "id": "8942f38f-927c-438d-bf17-d7792031b6ae",
   "metadata": {},
   "source": [
    "## evaluate quantiles\n",
    "\n",
    "using regular grid for now but can be optimized depending on science case sensitive to outliers vs. degeneracies vs. general spread"
   ]
  },
  {
   "cell_type": "code",
   "execution_count": null,
   "id": "301b9685-389e-4a64-8b62-ae67ecfa4232",
   "metadata": {},
   "outputs": [],
   "source": [
    "quants = np.linspace(0., 1., 11)\n",
    "quants[0] += eps\n",
    "quants[-1] -= eps"
   ]
  },
  {
   "cell_type": "code",
   "execution_count": null,
   "id": "7137ed67-1a25-4511-8733-5d91b0c59aa5",
   "metadata": {},
   "outputs": [],
   "source": [
    "quantlabs = ['ZPHOT_Q000', 'ZPHOT_Q010', 'ZPHOT_Q020', 'ZPHOT_Q030', 'ZPHOT_Q040', 'ZPHOT_Q050', 'ZPHOT_Q060', 'ZPHOT_Q070', 'ZPHOT_Q080', 'ZPHOT_Q090', 'ZPHOT_Q100']"
   ]
  },
  {
   "cell_type": "markdown",
   "id": "7125d7b6-e784-42d0-a086-1a003c387508",
   "metadata": {},
   "source": [
    "this step is slow!"
   ]
  },
  {
   "cell_type": "code",
   "execution_count": null,
   "id": "045cbd55-a45f-43a0-86cb-e27424d53f0f",
   "metadata": {},
   "outputs": [],
   "source": [
    "df[quantlabs] = posterior.ppf(quants)"
   ]
  },
  {
   "cell_type": "markdown",
   "id": "0e3c3664-b54f-473c-a44d-6f610cef1172",
   "metadata": {},
   "source": [
    "plot one just to see what the quantiles look like for a given PDF"
   ]
  },
  {
   "cell_type": "code",
   "execution_count": null,
   "id": "6e43e2f2-fd71-42fd-8104-0fa30ef61409",
   "metadata": {},
   "outputs": [],
   "source": [
    "plot_one = random.sample(range(nhost), 1)\n",
    "plt.plot(zgrid, sps.truncnorm(a=pos_min[plot_one][0], b=pos_max[plot_one][0], \n",
    "                              loc=obs_locs[plot_one][0], scale=sigma*(1+obs_locs[plot_one][0])).pdf(zgrid))\n",
    "plt.vlines(df[quantlabs].loc[plot_one], -1, 1, linestyle='--', color='k')\n",
    "# plt.xlim(obs_locs[plot_one][0]-5*sigma*(1+obs_locs[plot_one][0]), \n",
    "#          obs_locs[plot_one][0]+5*sigma*(1+obs_locs[plot_one][0]))\n",
    "plt.xlim(df['ZPHOT_Q000'].loc[plot_one].values[0]-0.01, df['ZPHOT_Q100'].loc[plot_one].values[0]+0.01)\n",
    "plt.text(obs_locs[plot_one][0], 2, str(df['GALID'].loc[plot_one[0]]))\n",
    "plt.xlabel('$z$')\n",
    "plt.ylabel('$p(z)$')"
   ]
  },
  {
   "cell_type": "markdown",
   "id": "92eb4772-f72e-4f29-8d06-95411cfcfa64",
   "metadata": {},
   "source": [
    "plot histogram of first and last quantile, since these aren't really well-defined"
   ]
  },
  {
   "cell_type": "code",
   "execution_count": null,
   "id": "3e5ee47f-afb8-4e48-8ef4-9a968d610915",
   "metadata": {},
   "outputs": [],
   "source": [
    "fig, ax = plt.subplots(1, 2, figsize=(10, 5))\n",
    "ax[0].hist(df['ZPHOT_Q000'], bins=300)\n",
    "ax[0].set_xlabel('$z_{0\\%}$')\n",
    "ax[1].hist(df['ZPHOT_Q100'], bins=300)\n",
    "ax[1].set_xlabel('$z_{100\\%}$')"
   ]
  },
  {
   "cell_type": "markdown",
   "id": "7116231b-bc51-4253-8c3f-a911601fd6e2",
   "metadata": {},
   "source": [
    "also save $p(z_{median})$ and [inter-quartile range](https://en.wikipedia.org/wiki/Interquartile_range)\n",
    "\n",
    "unfortunately these are quite slow now!"
   ]
  },
  {
   "cell_type": "code",
   "execution_count": null,
   "id": "2c9fb203-82aa-42ec-8ff1-c64d9a2384f8",
   "metadata": {},
   "outputs": [],
   "source": [
    "df['IQR_ZPHOT'] = posterior.ppf(0.75) - posterior.ppf(0.25)"
   ]
  },
  {
   "cell_type": "code",
   "execution_count": null,
   "id": "e53d3a2d-e458-4349-83b7-09882b78e355",
   "metadata": {},
   "outputs": [],
   "source": [
    "df['P_ZPHOT'] = posterior.pdf(posterior.median())"
   ]
  },
  {
   "cell_type": "markdown",
   "id": "38febb70-5c76-403e-9e15-dc066b61e42c",
   "metadata": {},
   "source": [
    "save a file"
   ]
  },
  {
   "cell_type": "code",
   "execution_count": null,
   "id": "e5bc0c9e-cdf8-4f42-ba62-ae853d850bc6",
   "metadata": {},
   "outputs": [],
   "source": [
    "out_path = '/global/cfs/cdirs/lsst/groups/TD/SN/SNANA/SURVEYS/LSST/ROOT/PLASTICC_DEV/HOSTLIB/zquants/'+which_hl+'_dummy_pz.csv'\n",
    "df.to_csv(out_path, index=False, sep=' ')"
   ]
  },
  {
   "cell_type": "markdown",
   "id": "d9c05c22-aa52-4620-a0ac-d1d586afc60a",
   "metadata": {},
   "source": [
    "## reconstructing a pdf from quantiles\n",
    "\n",
    "read from a generic hostlib file"
   ]
  },
  {
   "cell_type": "code",
   "execution_count": null,
   "id": "0e1bfaa3-6e59-4351-962b-d42b5342649a",
   "metadata": {},
   "outputs": [],
   "source": [
    "df = pd.read_csv(out_path, delimiter=' ', header=0)"
   ]
  },
  {
   "cell_type": "markdown",
   "id": "2a8ca48f-84e6-4ce8-9b0f-706f7f7c6b2d",
   "metadata": {},
   "source": [
    "pick one for demonstration"
   ]
  },
  {
   "cell_type": "code",
   "execution_count": null,
   "id": "8ef256ff-4f16-495a-858a-bdce66f81328",
   "metadata": {},
   "outputs": [],
   "source": [
    "plot_one = random.sample(range(nhost), 1)[0]\n",
    "zq_vals = df[quantlabs].loc[plot_one].values"
   ]
  },
  {
   "cell_type": "markdown",
   "id": "9355719f-c203-4620-8330-1c7cb5cc18ea",
   "metadata": {},
   "source": [
    "This is the reconstruction algorithm from [ye olde qp](https://github.com/aimalz/qp/blob/master/qp/pdf.py#L554).\n",
    "\n",
    "Note: The aforementioned code exhibits unexpected behavior in Python 3; \n",
    "you must (unfortunately) run it in Python 2 for consistency with [Malz & Marshall+ 2017](http://stacks.iop.org/1538-3881/156/i=1/a=35).\n",
    "\n",
    "Another note: You can save yourself one float by replacing the redshifts where $CDF=0$ and $CDF=1$ with $p(z_{q})$ for any of the saved quantiles $q$, at the cost of some inaccuracy in the tails."
   ]
  },
  {
   "cell_type": "code",
   "execution_count": null,
   "id": "30ca8fe7-38b3-425b-8394-5a8a27464d79",
   "metadata": {},
   "outputs": [],
   "source": [
    "# derivative = (quants[1:] - quants[:-1]) / (zq_vals[1:] - zq_vals[:-1])\n",
    "# derivative = np.insert(derivative, 0, 0.)\n",
    "# derivative = np.append(derivative, 0.)\n",
    "\n",
    "# def pdf_inside(zgrid):\n",
    "#     pdf = np.zeros_like(zgrid)\n",
    "#     for n in range(len(zgrid)):\n",
    "#         ind = bisect.bisect_left(zq_vals, zgrid[n])\n",
    "#         pdf[n] = derivative[ind]\n",
    "#     return(pdf)\n",
    "\n",
    "q = quants\n",
    "z = zq_vals\n",
    "\n",
    "derivative = (q[1:] - q[:-1]) / (z[1:] - z[:-1])\n",
    "derivative = np.insert(derivative, 0, eps)\n",
    "derivative = np.append(derivative, eps)\n",
    "def pdf_inside(xf):\n",
    "    nx = len(xf)\n",
    "    yf = np.ones(nx) * eps\n",
    "    for n in range(nx):\n",
    "        i = bisect.bisect_left(z, xf[n])\n",
    "        yf[n] = derivative[i]\n",
    "    return(yf)\n",
    "\n",
    "eval_pdf = pdf_inside(zgrid)"
   ]
  },
  {
   "cell_type": "markdown",
   "id": "0dd30573-b514-46af-979a-176a2bdda879",
   "metadata": {},
   "source": [
    "show difference between original and reconstruction"
   ]
  },
  {
   "cell_type": "code",
   "execution_count": null,
   "id": "57330b5a-522b-436d-822c-226670e00609",
   "metadata": {},
   "outputs": [],
   "source": [
    "plt.plot(zgrid, sps.truncnorm(a=pos_min[plot_one][0], b=pos_max[plot_one][0], \n",
    "                              loc=obs_locs[plot_one][0], scale=sigma*(1+obs_locs[plot_one][0])).pdf(zgrid),\n",
    "                              label='original PDF')\n",
    "plt.vlines(df[quantlabs].loc[plot_one], -1, 1, linestyle='--')\n",
    "plt.xlim(zq_vals[0] - 0.01, zq_vals[-1] + 0.01)\n",
    "plt.plot(zgrid, eval_pdf, label='reconstructed from '+str(len(quants))+' quantiles')\n",
    "plt.text(obs_locs[plot_one][0], 2, str(df['GALID'].loc[plot_one]))\n",
    "plt.legend(loc='upper right')\n",
    "plt.xlabel('$z$')\n",
    "plt.ylabel('$p(z)$')"
   ]
  },
  {
   "cell_type": "code",
   "execution_count": null,
   "id": "80179854-2d06-4156-89d7-4857ceb7c51a",
   "metadata": {},
   "outputs": [],
   "source": []
  },
  {
   "cell_type": "code",
   "execution_count": null,
   "id": "3896d495-c4ba-4c84-b4b6-03e75a3a3509",
   "metadata": {},
   "outputs": [],
   "source": []
  }
 ],
 "metadata": {
  "kernelspec": {
   "display_name": "ELAsTiCC",
   "language": "python",
   "name": "ve3_elasticc"
  },
  "language_info": {
   "codemirror_mode": {
    "name": "ipython",
    "version": 3
   },
   "file_extension": ".py",
   "mimetype": "text/x-python",
   "name": "python",
   "nbconvert_exporter": "python",
   "pygments_lexer": "ipython3",
   "version": "3.9.5"
  }
 },
 "nbformat": 4,
 "nbformat_minor": 5
}
