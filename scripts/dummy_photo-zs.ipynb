{
 "cells": [
  {
   "cell_type": "markdown",
   "id": "fbed7dc6-d8c4-4076-a2ba-9aa4125e230c",
   "metadata": {},
   "source": [
    "# producing $p(z | photometry)$ for ELAsTiCC\n",
    "\n",
    "_Alex Malz (GCCL@RUB)_\n",
    "\n",
    "The goal here is to generate mock photo-$z$ posteriors for host galaxies. \n",
    "Ideally, we want them to contain no assumptions not present in the $p(z, photometry$ space from which they were drawn.\n",
    "That's not really feasible. . .\n",
    "\n",
    "TODO: explain why we can't do this\n",
    "\n",
    "The next best thing to do is to aim for realistic complexity and make assumptions as similar to those of the underlying $p(z, photometry)$ model, by using [`pzflow`](https://github.com/jfcrenshaw/pzflow)."
   ]
  },
  {
   "cell_type": "code",
   "execution_count": null,
   "id": "5eb1bc95-5728-46ee-9ac2-c3deac4d7742",
   "metadata": {},
   "outputs": [],
   "source": [
    "import corner\n",
    "import numpy as np\n",
    "import pandas as pd\n",
    "\n",
    "import scipy.stats as sps"
   ]
  },
  {
   "cell_type": "code",
   "execution_count": null,
   "id": "8bc3df5b-966b-4ff4-b22f-ef33f5343de4",
   "metadata": {},
   "outputs": [],
   "source": [
    "import matplotlib as mpl\n",
    "mpl.rcParams['text.usetex'] = False\n",
    "mpl.rcParams['mathtext.rm'] = 'serif'\n",
    "mpl.rcParams['font.family'] = 'serif'\n",
    "mpl.rcParams['font.serif'] = 'DejaVu Serif'\n",
    "# mpl.rcParams['axes.titlesize'] = 16\n",
    "# mpl.rcParams['axes.labelsize'] = 14\n",
    "# mpl.rcParams['savefig.dpi'] = 250\n",
    "# mpl.rcParams['savefig.format'] = 'pdf'\n",
    "# mpl.rcParams['savefig.bbox'] = 'tight'\n",
    "import matplotlib.pyplot as plt\n",
    "plt.rcParams[\"font.family\"] = \"serif\"\n",
    "plt.rcParams[\"mathtext.fontset\"] = \"dejavuserif\""
   ]
  },
  {
   "cell_type": "markdown",
   "id": "cf8fac49-ef95-432a-a4bb-5c1d1b8ee9dd",
   "metadata": {},
   "source": [
    "## the hostlibs"
   ]
  },
  {
   "cell_type": "code",
   "execution_count": null,
   "id": "9554e5d5-dbac-4620-b1f1-9dab56ed708f",
   "metadata": {},
   "outputs": [],
   "source": [
    "hl_heads = {'SNIa_GHOST': 18,\n",
    "            'SNII_GHOST': 18, \n",
    "            'SNIbc_GHOST': 18, \n",
    "            'UNMATCHED_KN_SHIFT_GHOST_ABS': 18,\n",
    "            'UNMATCHED_COSMODC2_GHOST': 19}"
   ]
  },
  {
   "cell_type": "markdown",
   "id": "8c156cd0-69fa-4069-ab7b-9c1e71277fde",
   "metadata": {
    "tags": []
   },
   "source": [
    "Let's pick one hostlib for now."
   ]
  },
  {
   "cell_type": "code",
   "execution_count": null,
   "id": "3dc23239-6d7a-48fa-9ee9-c037d06623fc",
   "metadata": {},
   "outputs": [],
   "source": [
    "pick_one = 0"
   ]
  },
  {
   "cell_type": "code",
   "execution_count": null,
   "id": "a23a175c-bd3e-4a6a-9bb7-86ec1742a71c",
   "metadata": {},
   "outputs": [],
   "source": [
    "which_hl = hl_heads.keys[pick_one]\n",
    "hl_path = '/global/cfs/cdirs/lsst/groups/TD/SN/SNANA/SURVEYS/LSST/ROOT/PLASTICC_DEV/HOSTLIB/'+which_hl+'_PHOTOZ.HOSTLIB'\n",
    "# skip 18 lines unless cosmodc2, then 19\n",
    "df = pd.read_csv(hl_path, skiprows=hl_heads[which_hl], delimiter=' ', header=0)"
   ]
  },
  {
   "cell_type": "markdown",
   "id": "75ca634a-1e43-496f-a548-9b47827836b5",
   "metadata": {},
   "source": [
    "`pzflow` needs a grid upon which to evaluate redshift posteriors. \n",
    "We use a fine grid now but will compress it for the alert stream later.\n",
    "And we can check what the redshift distribution of the hostlib is.\n",
    "\n",
    "TODO: investigate the prevalence at $z \\sim 3$ and maybe ask to re-run?"
   ]
  },
  {
   "cell_type": "code",
   "execution_count": null,
   "id": "1dfe4ded-dd04-4cc1-bea2-3101f55670c2",
   "metadata": {},
   "outputs": [],
   "source": [
    "zgrid = np.logspace(-3., np.log10(3.), 300)"
   ]
  },
  {
   "cell_type": "code",
   "execution_count": null,
   "id": "f08f91a2-f766-4056-89a3-91f80d019322",
   "metadata": {},
   "outputs": [],
   "source": [
    "nhost = len(df)\n",
    "# nhost = 100\n",
    "df = df[:nhost]"
   ]
  },
  {
   "cell_type": "code",
   "execution_count": null,
   "id": "bd7b6fd9-c1ac-49c5-b033-1d809bea57c3",
   "metadata": {},
   "outputs": [],
   "source": [
    "# mini = True\n",
    "# weirdo_galid = 10443470676"
   ]
  },
  {
   "cell_type": "markdown",
   "id": "b2109307-8029-4043-97cd-e0e1b91d9f25",
   "metadata": {},
   "source": [
    "## forecasting-level photo-z"
   ]
  },
  {
   "cell_type": "markdown",
   "id": "1ae214ca-3a6c-4e21-853c-8629a4d26917",
   "metadata": {},
   "source": [
    "first create likelihood"
   ]
  },
  {
   "cell_type": "code",
   "execution_count": null,
   "id": "409114b3-0507-4261-9cb0-94038bb8ab03",
   "metadata": {},
   "outputs": [],
   "source": [
    "sigma = 0.02"
   ]
  },
  {
   "cell_type": "code",
   "execution_count": null,
   "id": "74f0a905-5e1a-4f2b-a936-be559339d745",
   "metadata": {},
   "outputs": [],
   "source": [
    "true_locs = df['ZTRUE'].values.reshape((nhost, 1))"
   ]
  },
  {
   "cell_type": "code",
   "execution_count": null,
   "id": "65696ca9-929e-4517-a1a4-7dfa1e1d9b0a",
   "metadata": {},
   "outputs": [],
   "source": [
    "# sps.norm(loc=[[0.], [1.], [2.]], scale=1).pdf([0.5,1.,1.5,2])\n",
    "likelihood = sps.truncnorm(0., 3., loc=true_locs, scale=sigma*(1.+true_locs))"
   ]
  },
  {
   "cell_type": "markdown",
   "id": "37c613cd-795a-4032-af6f-1b20ed1963cd",
   "metadata": {},
   "source": [
    "then draw point estimate"
   ]
  },
  {
   "cell_type": "code",
   "execution_count": null,
   "id": "a0d09dea-1499-4880-89d0-8b977cfe0c3f",
   "metadata": {},
   "outputs": [],
   "source": [
    "# np.shape(likelihood.pdf(zgrid))\n",
    "obs_locs = likelihood.rvs()"
   ]
  },
  {
   "cell_type": "markdown",
   "id": "4cf1755b-d958-4b36-a75b-c3ca3f994a75",
   "metadata": {},
   "source": [
    "then make forecasting posterior"
   ]
  },
  {
   "cell_type": "code",
   "execution_count": null,
   "id": "631c5f16-1271-49d8-a428-7597b9a1d588",
   "metadata": {},
   "outputs": [],
   "source": [
    "posterior = sps.truncnorm(0., 3., loc=obs_locs, scale=sigma*(1.+obs_locs))"
   ]
  },
  {
   "cell_type": "markdown",
   "id": "8942f38f-927c-438d-bf17-d7792031b6ae",
   "metadata": {},
   "source": [
    "evaluate quantiles"
   ]
  },
  {
   "cell_type": "code",
   "execution_count": null,
   "id": "301b9685-389e-4a64-8b62-ae67ecfa4232",
   "metadata": {},
   "outputs": [],
   "source": [
    "quants = np.linspace(0., 1., 11)[1:-1]"
   ]
  },
  {
   "cell_type": "code",
   "execution_count": null,
   "id": "273c14fc-4719-487f-b8c3-50aa6b894146",
   "metadata": {},
   "outputs": [],
   "source": [
    "zquants = posterior.ppf(quants)"
   ]
  },
  {
   "cell_type": "code",
   "execution_count": null,
   "id": "045cbd55-a45f-43a0-86cb-e27424d53f0f",
   "metadata": {},
   "outputs": [],
   "source": [
    "df[['Z10', 'Z20', 'Z30', 'Z40', 'Z50', 'Z60', 'Z70', 'Z80', 'Z90']] = zquants"
   ]
  },
  {
   "cell_type": "code",
   "execution_count": null,
   "id": "deddbc98-e7d3-4b87-802c-33e9ec09a213",
   "metadata": {},
   "outputs": [],
   "source": [
    "logp50 = posterior.logpdf(posterior.median())"
   ]
  },
  {
   "cell_type": "code",
   "execution_count": null,
   "id": "e53d3a2d-e458-4349-83b7-09882b78e355",
   "metadata": {},
   "outputs": [],
   "source": [
    "df['logP50'] = logp50"
   ]
  },
  {
   "cell_type": "markdown",
   "id": "38febb70-5c76-403e-9e15-dc066b61e42c",
   "metadata": {},
   "source": [
    "save"
   ]
  },
  {
   "cell_type": "code",
   "execution_count": null,
   "id": "e5bc0c9e-cdf8-4f42-ba62-ae853d850bc6",
   "metadata": {},
   "outputs": [],
   "source": [
    "df.to_csv('/global/cfs/cdirs/lsst/groups/TD/SN/SNANA/SURVEYS/LSST/ROOT/PLASTICC_DEV/HOSTLIB/zquants/'+which_hl+'with_pz.csv')"
   ]
  },
  {
   "cell_type": "markdown",
   "id": "3b9adfbf-4201-40a2-9177-27ebade3fe8d",
   "metadata": {},
   "source": [
    "## manual quantiles from pzflow model"
   ]
  },
  {
   "cell_type": "code",
   "execution_count": null,
   "id": "b203b37a-03e6-40b3-bd9b-79d12ea33efa",
   "metadata": {},
   "outputs": [],
   "source": [
    "def quant_to_pdf(zgrid, qvals, zvals, zanch):\n",
    "    \n",
    "def pdf_to_quant():"
   ]
  }
 ],
 "metadata": {
  "kernelspec": {
   "display_name": "ELAsTiCC",
   "language": "python",
   "name": "ve3_elasticc"
  },
  "language_info": {
   "codemirror_mode": {
    "name": "ipython",
    "version": 3
   },
   "file_extension": ".py",
   "mimetype": "text/x-python",
   "name": "python",
   "nbconvert_exporter": "python",
   "pygments_lexer": "ipython3",
   "version": "3.9.5"
  }
 },
 "nbformat": 4,
 "nbformat_minor": 5
}
